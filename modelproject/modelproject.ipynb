{
 "cells": [
  {
   "cell_type": "markdown",
   "metadata": {},
   "source": [
    "# **MODEL PROJECT: NASH EQUILIBRIA IN OLIGOPOLY MODELS - SUSTAINING COALITION IN COURNOT**\n",
    "\n",
    "By Emma Knippel, Anna Abildskov and Oscar Nyholm"
   ]
  },
  {
   "cell_type": "markdown",
   "metadata": {},
   "source": [
    "# 1 Imports and Set magics"
   ]
  },
  {
   "cell_type": "code",
   "execution_count": 1,
   "metadata": {},
   "outputs": [],
   "source": [
    "import numpy as np\n",
    "from scipy import optimize\n",
    "import sympy as sm\n",
    "import matplotlib.pyplot as plt\n",
    "import ipywidgets as widgets\n",
    "\n",
    "# autoreload modules when code is run\n",
    "%load_ext autoreload\n",
    "%autoreload 2\n",
    "%matplotlib inline\n",
    "\n",
    "# local modules\n",
    "import modelproject\n",
    "from modelproject import CournotDuopoly\n",
    "from modelproject import BertrandDuopoly\n",
    "from modelproject import CournotOligopoly\n",
    "from modelproject import BertrandOligopoly"
   ]
  },
  {
   "cell_type": "markdown",
   "metadata": {},
   "source": [
    "# 2 Model description"
   ]
  },
  {
   "cell_type": "markdown",
   "metadata": {},
   "source": [
    "**2.1 Markets with oligopoly**\n",
    "\n",
    "two firms bla bla bla\n",
    "The market with oligopoly is set up with a linear inverse demand function and a production fucntion with a constant marginal cost.\n",
    "$$\\begin{aligned} \n",
    "p(q) = a - bq\\\\\n",
    "C(q) = cq\n",
    "\\end{aligned}$$\n",
    "\n",
    "**2.2 Cournot Oligopoly**\n",
    "\n",
    "In the Cournot Oligopoly, we have two similar firms producing two goods: $q_1$ and $q_2$. The total production is $q \\equiv q_1 + q_2$. \n",
    "Thus, the equations above in he Cournot oligopoly become:\n",
    "$$\\begin{aligned}\n",
    "&p(q_1,q_2) = a-b(q_1+q_2)\\\\\n",
    "&C(q_i) = cq_i, &\\;\\text{for } i = 1,2\n",
    "\\end{aligned}$$\n",
    "The firms profits of each firm depends not only on their own production, but of the other firm:\n",
    "$$\\begin{aligned} \n",
    "\\pi_1(q_1,q_2) = p(q_1,q_2)q_1-C(q_1)\\\\\n",
    "\\pi_2(q_1,q_2) = p(q_1,q_2)q_2-C(q_2)\n",
    "\\end{aligned}$$\n",
    "\n",
    "**2.3 Bertrand Oligopoly**\n",
    "\n",
    "In the Bertrand Oligopoly, we utilize the demand function (not the inverse) and we keep the production functionn with a constant marginal cost, $C(q)$:\n",
    "$$\\begin{align}\n",
    "D(p)=\\frac{a-p}{b}\n",
    "\\end{align}$$\n",
    "The main difference in the Bertrand oligopoly is that the firms  each set individual prices, $p_1,p_2$ instead of being price-takers.\n",
    "We also make the following assumptions:\n",
    "* If the prices are different, all consumers buy from the firm with the lower price.\n",
    "\n",
    "* If the firms set the same price, they split the consumers evenly between them.\n",
    "\n",
    "* The produced quantity follows from the demand function.\n",
    "\n",
    "Therefore, the firm's sold quantities depend on their individual demand function, $D_1$ and $D_2$:\n",
    "$$\\begin{aligned}\n",
    "D_1(p_1,p_2)=\n",
    "\\begin{cases} \n",
    "D(p_1) & \\text{for } p_1 < p_2 \\\\\n",
    "\\frac{D(p_1)}{2} & \\text{for } p_1 = p_2 \\\\\n",
    "0 & \\text{for } p_1 > p_2 \n",
    "\\end{cases}\n",
    "\\end{aligned}$$\n",
    "\n",
    "$$\\begin{aligned}\n",
    "D_2(p_1,p_2)=\n",
    "\\begin{cases} \n",
    "D(p_2) & \\text{for } p_2 < p_1 \\\\\n",
    "\\frac{D(p_2)}{2} & \\text{for } p_1 = p_2 \\\\\n",
    "0 & \\text{for } p_2 > p_1 \n",
    "\\end{cases}\n",
    "\\end{aligned}$$\n",
    "\n",
    "This implies the following profit functions:\n",
    "$$\\begin{aligned}\n",
    "\\pi_1(p_1,p_2)=(p_1-c)D_1(p_1,p_2)\\\\\n",
    "\\pi_2(p_1,p_2)=(p_2-c)D_2(p_1,p_2)\n",
    "\\end{aligned}$$"
   ]
  },
  {
   "cell_type": "markdown",
   "metadata": {},
   "source": [
    "## 3 Analytical solution"
   ]
  },
  {
   "cell_type": "markdown",
   "metadata": {},
   "source": [
    "**3.1 Cournot Analytical Solution**\n",
    "\n",
    "Each firm attempts to maximize profits given the quantity set by the other firm:\n",
    "$$\\begin{aligned} \n",
    "\\max_{q_1} p(q_1,q_2)q_1-C(q_1)\\\\\n",
    "\\max_{q_2} p(q_1,q_2)q_2-C(q_2)\n",
    "\\end{aligned}$$\n",
    "\n",
    "This implicates the following first order condition:\n",
    "$$\\begin{aligned} \n",
    "FOC_1 = \\frac{∂\\pi_1(q_1,q_2)}{∂q_1}=0\\\\\n",
    "\\Leftrightarrow q_1^*(q_2)=\\frac{a-c}{2b}-\\frac{1}{2}q_2,\n",
    "\\end{aligned}$$\n",
    "which is equivalent for the other firm:\n",
    "$$\\begin{aligned}\n",
    "FOC_2 =  \\frac{∂\\pi_2(q_1,q_2)}{∂q_2}=0\\\\\n",
    "\\Leftrightarrow q_2^*(q_1)=\\frac{a-c}{2b}-\\frac{1}{2}q_1,\n",
    "\\end{aligned}$$\n",
    "\n",
    "When both firms are best-responding to each other, we achieve the following symmetric Nash Equilibrium:\n",
    "$$\\begin{aligned}\n",
    "q_1^* = q_2^* = \\frac{a-c}{3b}\n",
    "\\end{aligned}$$\n",
    "\n",
    "**3.2 Bertrand Analytical Solution**\n",
    "\n",
    "Once again, each firm attempts to maximize profits given the price set by the other firm:\n",
    "$$\\begin{align}\n",
    "\\max_{p_1}(p_1-c)D_1(p_1,p_2)\\\\\n",
    "\\max_{p_2}(p_2-c)D_2(p_1,p_2)\n",
    "\\end{align}$$\n",
    "\n",
    "The assumptions made in 2.3 mean that the solution to the Bertrand model is slightly different. Intuitively, it goes through the following four steps:\n",
    "1. No one will ever set a price below marginal cost, where he/she will lose money with every unit produced. \n",
    "\n",
    "2. When one firm sets a price higher than marginal cost, the other firm can always set a slightly lower price and steal the entire market.\n",
    "\n",
    "3. Because of steps 1 and 2, in equilibrium the two firms compete until the equilibrium price is $p_1 = p_2 = c$.\n",
    "\n",
    "Therefore, the unique Nash Equilibrium, where both firms are best-responding to the other's price-setting is defined as:\n",
    "$$\\begin{aligned}\n",
    "p_1^* = p_2^* = c\n",
    "\\end{aligned}$$\n",
    "\n",
    "Which is exactly what we observe under perfect competition."
   ]
  },
  {
   "cell_type": "markdown",
   "metadata": {},
   "source": [
    "## 4 Numerical solution"
   ]
  },
  {
   "cell_type": "markdown",
   "metadata": {},
   "source": [
    "**SUPER VIGTIGT!!! Husk at give en klar definition af de ydre bounds på a, b og c, for hvis a bliver lavere end c, så går quantity i minus og det må den selvfølgelig ikke**"
   ]
  },
  {
   "cell_type": "code",
   "execution_count": 2,
   "metadata": {},
   "outputs": [
    {
     "data": {
      "application/vnd.jupyter.widget-view+json": {
       "model_id": "c23a43648b364d3e9de5e42b2655e0a4",
       "version_major": 2,
       "version_minor": 0
      },
      "text/plain": [
       "interactive(children=(IntSlider(value=35, description='a', max=50, min=20), FloatSlider(value=0.5, description…"
      ]
     },
     "metadata": {},
     "output_type": "display_data"
    }
   ],
   "source": [
    "cournot_dp = CournotDuopoly(20,1,5)\n",
    "cournot_dp.ne_plot()\n"
   ]
  },
  {
   "cell_type": "code",
   "execution_count": 3,
   "metadata": {},
   "outputs": [
    {
     "data": {
      "application/vnd.jupyter.widget-view+json": {
       "model_id": "b2de4dd2484141c99f16dc25c8473f02",
       "version_major": 2,
       "version_minor": 0
      },
      "text/plain": [
       "interactive(children=(IntSlider(value=35, description='a', max=50, min=20), FloatSlider(value=0.5, description…"
      ]
     },
     "metadata": {},
     "output_type": "display_data"
    }
   ],
   "source": [
    "bertrand_dp = BertrandDuopoly(20,2,5)\n",
    "bertrand_dp.ne_plot()"
   ]
  },
  {
   "cell_type": "markdown",
   "metadata": {},
   "source": [
    "**Comparison of Cournot and Bertrand Duopoly**\n",
    "- Why are they different? Quantity vs. price\n",
    "- What are the quantitites and prices they end up in, respectively. "
   ]
  },
  {
   "cell_type": "markdown",
   "metadata": {},
   "source": [
    "# 5 Further analysis"
   ]
  },
  {
   "cell_type": "markdown",
   "metadata": {},
   "source": [
    "Make detailed vizualizations of how your model changes with parameter values. \n",
    "- Måske skal den interaktive model af Cournot herned?? Og så have en simpel figur for et sæt af værdier ovenfor?\n",
    "\n",
    "Try to make an extension of the model. \n",
    "- Using interpolation til at vise konvergering af Cournot oligopol, hvor alle virksomheder har indflydelse på markedet, til fuldkommen konkurrence market"
   ]
  },
  {
   "cell_type": "markdown",
   "metadata": {},
   "source": [
    "**5.1 Cournot Oligopoly with $N$ firms**\n",
    "\n",
    "In the Cournot Oligopoly, we have $N$ identical firms producing the same goods: $q_i$. The total production is $q \\equiv \\sum_{i=1}^{N} q_i$. \n",
    "Thus, the equations in he Cournot oligopoly become:\n",
    "$$\\begin{aligned}\n",
    "&p(q) = a-b(q_1+q_2+...+q_N)\\\\\n",
    "&C(q_i) = cq_i, &\\;\\text{for } i = 1,2,...,N\n",
    "\\end{aligned}$$\n",
    "\n",
    "\n",
    "The profits of each firm depends not only on their own production, but of the other firms as well:\n",
    "$$\\begin{aligned}\n",
    "\\pi_{i}(q_1,q_2,...,g_N) = p(q)q_i-C(q_i)\n",
    "\\end{aligned}$$\n",
    "\n",
    "\n",
    "The analytical solution is the same as for a Cournot Duopoly, each firm sets the quantity they produce as a BR to the other firms quantity.\n",
    "$$\\begin{aligned}\n",
    "\\max_{q_i} p(q)q_i-C(q_i),  &\\;\\text{for } q=(q_1+...+q_N)\\\\\n",
    "\\end{aligned}$$\n",
    "\n",
    "This implicates the following first order condition for all firms:\n",
    "$$\\begin{aligned}\n",
    "FOC_i = \\frac{∂\\pi_i(q_1,...,q_N)}{∂q_i}=0\\\\\n",
    "\\Leftrightarrow q_i^*(q_1,...,q_N)=\\frac{a-c}{2b}-\\frac{1}{2}(\\sum_{j=1≠i}^{N} q_j),\n",
    "\\end{aligned}$$\n",
    "\n",
    "The unique equilibrium is therefor still when all firms set their quantities as their BR to each other:\n",
    "$$\\begin{aligned}\n",
    "q_1^* = q_2^* = ... = q_N^* = \\frac{a-c}{(N+1)b}\n",
    "\\end{aligned}$$\n",
    "\n",
    "As shown in the preliminary analysis, the Cournot Duopoly, i.e. two firms present within the market, has the quantity and price somewhere between a simple monopoly and a market with full competition. For our extension, we are interested in examining how many firms are needed withtin the market for the Cournot Oligopoly to be equal to a market with full competetion in regards to quantity produced and price set, given certain levels of costs. "
   ]
  },
  {
   "cell_type": "markdown",
   "metadata": {},
   "source": [
    "**5.2 Bertrand Oligopoly with $N$ firms**\n",
    "\n",
    "In the bertrand oligolpoly, cf. section 3.2, price is already driven down to marginal cost by the repsective firms' abilities to undercut each other and steal the market. Therefore, adding more firms will leave prices and profits unaffected in the Nash equilibria; it appears the same way as a market with perfect competition from the get-go and remains this way when more firms are added.\n",
    "\n",
    "Therefore, in our further analysis, the baseline for the market with infinite firms and thus, perfect comptetition, will be our Bertrand Oligipoly. Our goal is to examine how and when the Cournot oligopoly expands its number of firms sufficiently to converge to zero-profits and marginal-cost-prices, becoming more and more similar to the Bertrand oligopoly.\n"
   ]
  },
  {
   "cell_type": "code",
   "execution_count": null,
   "metadata": {},
   "outputs": [],
   "source": [
    "import matplotlib as plt\n",
    "from modelproject import CournotOligopoly\n",
    "\n",
    "w = np.linspace(2,10,1)\n",
    "\n",
    "c_d = np.array(CournotOligopoly(5,w),None)\n",
    "display(c_d)\n",
    "\n",
    "f = lambda x: 10 - 2*x\n",
    "\n",
    "G = c_d\n",
    "F = f(G)\n",
    "\n",
    "grid = np.linspace(-7,12,500) # 500 makes it \"fine\"\n",
    "F_true = f(grid)\n",
    "\n",
    "X = [4.1,7.5,9.1]\n",
    "F_approx = []\n",
    "for x in X:\n",
    "    true = f(x)\n",
    "    y = linear_interpolate(G,F,x)\n",
    "    F_approx.append(y)\n",
    "    print(f'x = {x:4.1f} -> true = {true:6.1f}, interpolated = {y:6.1f}')\n",
    "\n",
    "fig = plt.figure()\n",
    "ax = fig.add_subplot(1,1,1)\n",
    "ax.plot(G,F,'o',label='known points')\n",
    "ax.plot(grid,F_true,'-',lw=1,label='true function')\n",
    "ax.plot(X,F_approx,'s',lw=1,label='interpolated')\n",
    "ax.legend(loc='lower right',facecolor='white',frameon=True);  "
   ]
  },
  {
   "cell_type": "code",
   "execution_count": 22,
   "metadata": {},
   "outputs": [
    {
     "data": {
      "text/plain": [
       "[<matplotlib.lines.Line2D at 0x120e35610>]"
      ]
     },
     "execution_count": 22,
     "metadata": {},
     "output_type": "execute_result"
    },
    {
     "data": {
      "image/png": "[encoded data removed]",
      "text/plain": [
       "<Figure size 640x480 with 1 Axes>"
      ]
     },
     "metadata": {},
     "output_type": "display_data"
    }
   ],
   "source": [
    "b_o = BertrandOligopoly(1)\n",
    "b_o.nash_profit()\n",
    "firms = np.linspace(0,50,50)\n",
    "c_o = CournotOligopoly(1)\n",
    "c_o.nash_profit()\n",
    "\n",
    "fig = plt.figure()\n",
    "ax = fig.add_subplot(1,1,1)\n",
    "ax.set_xlim([0,20])\n",
    "ax.set_ylim([-1,45])\n",
    "ax.plot(firms,b_o.nash_profit())\n",
    "ax.plot(firms,c_o.nash_profit())\n"
   ]
  },
  {
   "cell_type": "code",
   "execution_count": 25,
   "metadata": {},
   "outputs": [
    {
     "data": {
      "text/plain": [
       "[<matplotlib.lines.Line2D at 0x12101aed0>]"
      ]
     },
     "execution_count": 25,
     "metadata": {},
     "output_type": "execute_result"
    },
    {
     "data": {
      "image/png": "[encoded data removed]",
      "text/plain": [
       "<Figure size 640x480 with 1 Axes>"
      ]
     },
     "metadata": {},
     "output_type": "display_data"
    }
   ],
   "source": [
    "b_o = BertrandOligopoly(5)\n",
    "b_o.nash_profit()\n",
    "firms = np.linspace(0,50,50)\n",
    "c_o = CournotOligopoly(5)\n",
    "c_o.nash_profit()\n",
    "\n",
    "fig = plt.figure()\n",
    "ax = fig.add_subplot(1,1,1)\n",
    "ax.set_xlim([0,20])\n",
    "ax.set_ylim([-1,45])\n",
    "ax.plot(firms,b_o.nash_profit())\n",
    "ax.plot(firms,c_o.nash_profit())"
   ]
  },
  {
   "cell_type": "code",
   "execution_count": 14,
   "metadata": {},
   "outputs": [
    {
     "data": {
      "text/plain": [
       "[<matplotlib.lines.Line2D at 0x120aa8d10>]"
      ]
     },
     "execution_count": 14,
     "metadata": {},
     "output_type": "execute_result"
    },
    {
     "data": {
      "image/png": "[encoded data removed]",
      "text/plain": [
       "<Figure size 640x480 with 1 Axes>"
      ]
     },
     "metadata": {},
     "output_type": "display_data"
    }
   ],
   "source": [
    "b_o = BertrandOligopoly(10)\n",
    "b_o.nash_profit()\n",
    "firms = np.linspace(0,50,50)\n",
    "c_o = CournotOligopoly(10)\n",
    "c_o.nash_profit()\n",
    "\n",
    "fig = plt.figure()\n",
    "ax = fig.add_subplot(1,1,1)\n",
    "ax.set_xlim([0,20])\n",
    "ax.set_ylim([-1,45])\n",
    "ax.plot(firms,b_o.nash_profit())\n",
    "ax.plot(firms,c_o.nash_profit())"
   ]
  },
  {
   "cell_type": "code",
   "execution_count": 23,
   "metadata": {},
   "outputs": [
    {
     "data": {
      "text/plain": [
       "[<matplotlib.lines.Line2D at 0x120eac490>]"
      ]
     },
     "execution_count": 23,
     "metadata": {},
     "output_type": "execute_result"
    },
    {
     "data": {
      "image/png": "[encoded data removed]",
      "text/plain": [
       "<Figure size 640x480 with 1 Axes>"
      ]
     },
     "metadata": {},
     "output_type": "display_data"
    }
   ],
   "source": [
    "b_o = BertrandOligopoly(15)\n",
    "b_o.nash_profit()\n",
    "firms = np.linspace(0,50,50)\n",
    "c_o = CournotOligopoly(15)\n",
    "c_o.nash_profit()\n",
    "\n",
    "fig = plt.figure()\n",
    "ax = fig.add_subplot(1,1,1)\n",
    "ax.set_xlim([0,20])\n",
    "ax.set_ylim([-1,45])\n",
    "ax.plot(firms,b_o.nash_profit())\n",
    "ax.plot(firms,c_o.nash_profit())"
   ]
  },
  {
   "cell_type": "markdown",
   "metadata": {},
   "source": [
    "# 6 Conclusion"
   ]
  },
  {
   "cell_type": "markdown",
   "metadata": {},
   "source": [
    "Add concise conclusion. "
   ]
  }
 ],
 "metadata": {
  "kernelspec": {
   "display_name": "base",
   "language": "python",
   "name": "python3"
  },
  "language_info": {
   "codemirror_mode": {
    "name": "ipython",
    "version": 3
   },
   "file_extension": ".py",
   "mimetype": "text/x-python",
   "name": "python",
   "nbconvert_exporter": "python",
   "pygments_lexer": "ipython3",
   "version": "3.11.7"
  },
  "toc-autonumbering": true,
  "vscode": {
   "interpreter": {
    "hash": "47ef90cdf3004d3f859f1fb202523c65c07ba7c22eefd261b181f4744e2d0403"
   }
  }
 },
 "nbformat": 4,
 "nbformat_minor": 4
}
