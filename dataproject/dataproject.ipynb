{
 "cells": [
  {
   "cell_type": "markdown",
   "metadata": {},
   "source": [
    "# **DO INTERENATIONAL WORKERS IN DENMARK REMEDY LABOR SHORTAGE?**\n",
    "**DATA PROJECT 2024**\n",
    "\n",
    "By Emma Knippel, Anna Abildskov and Oscar Nyholm"
   ]
  },
  {
   "cell_type": "markdown",
   "metadata": {},
   "source": [
    "# Table of contents\n",
    "* [Setup](#toc0_)   \n",
    "\n",
    "* [Introduction](#toc1_) \n",
    "\n",
    "* [Read and clean data](#toc2_)    \n",
    "\n",
    "* [Exploring the data sets](#toc3_)    \n",
    "\n",
    "* [Merging data sets of employment and international labor](#toc4_)   \n",
    "\n",
    "* [Analysis](#toc5_) \n",
    "\n",
    "* [Conclusion](#toc6_) "
   ]
  },
  {
   "cell_type": "markdown",
   "metadata": {},
   "source": [
    "## <a id='toc0_'></a>[Setup](#toc0_)"
   ]
  },
  {
   "cell_type": "code",
   "execution_count": 1,
   "metadata": {},
   "outputs": [],
   "source": [
    "import pandas as pd\n",
    "import numpy as np\n",
    "import matplotlib.pyplot as plt\n",
    "import ipywidgets as widgets\n",
    "import plotly.graph_objects as go\n",
    "from plotly.subplots import make_subplots\n",
    "from IPython.display import display, clear_output\n",
    "\n",
    "# autoreload modules when code is run\n",
    "%load_ext autoreload\n",
    "%autoreload 2\n"
   ]
  },
  {
   "cell_type": "code",
   "execution_count": 2,
   "metadata": {},
   "outputs": [
    {
     "name": "stdout",
     "output_type": "stream",
     "text": [
      "Collecting git+https://github.com/alemartinello/dstapi\n",
      "  Cloning https://github.com/alemartinello/dstapi to /private/var/folders/24/czmv85dj1_3dcc2tc4x8kd0r0000gn/T/pip-req-build-2hnioma4\n",
      "  Running command git clone --quiet https://github.com/alemartinello/dstapi /private/var/folders/24/czmv85dj1_3dcc2tc4x8kd0r0000gn/T/pip-req-build-2hnioma4\n",
      "  Resolved https://github.com/alemartinello/dstapi to commit d9eeb5a82cbc70b7d63b2ff44d92632fd77123a4\n",
      "  Preparing metadata (setup.py) ... \u001b[?25ldone\n",
      "\u001b[?25hRequirement already satisfied: pandas in /Users/emmaknippel/anaconda3/lib/python3.11/site-packages (from dstapi==0.2) (2.1.4)\n",
      "Requirement already satisfied: requests in /Users/emmaknippel/anaconda3/lib/python3.11/site-packages (from dstapi==0.2) (2.31.0)\n",
      "Requirement already satisfied: numpy<2,>=1.23.2 in /Users/emmaknippel/anaconda3/lib/python3.11/site-packages (from pandas->dstapi==0.2) (1.26.3)\n",
      "Requirement already satisfied: python-dateutil>=2.8.2 in /Users/emmaknippel/anaconda3/lib/python3.11/site-packages (from pandas->dstapi==0.2) (2.8.2)\n",
      "Requirement already satisfied: pytz>=2020.1 in /Users/emmaknippel/anaconda3/lib/python3.11/site-packages (from pandas->dstapi==0.2) (2023.3.post1)\n",
      "Requirement already satisfied: tzdata>=2022.1 in /Users/emmaknippel/anaconda3/lib/python3.11/site-packages (from pandas->dstapi==0.2) (2023.3)\n",
      "Requirement already satisfied: charset-normalizer<4,>=2 in /Users/emmaknippel/anaconda3/lib/python3.11/site-packages (from requests->dstapi==0.2) (2.0.4)\n",
      "Requirement already satisfied: idna<4,>=2.5 in /Users/emmaknippel/anaconda3/lib/python3.11/site-packages (from requests->dstapi==0.2) (3.4)\n",
      "Requirement already satisfied: urllib3<3,>=1.21.1 in /Users/emmaknippel/anaconda3/lib/python3.11/site-packages (from requests->dstapi==0.2) (1.26.18)\n",
      "Requirement already satisfied: certifi>=2017.4.17 in /Users/emmaknippel/anaconda3/lib/python3.11/site-packages (from requests->dstapi==0.2) (2024.2.2)\n",
      "Requirement already satisfied: six>=1.5 in /Users/emmaknippel/anaconda3/lib/python3.11/site-packages (from python-dateutil>=2.8.2->pandas->dstapi==0.2) (1.16.0)\n",
      "Note: you may need to restart the kernel to use updated packages.\n"
     ]
    }
   ],
   "source": [
    "# installing API reader, that will allow to load data from DST.\n",
    "%pip install git+https://github.com/alemartinello/dstapi\n",
    "from dstapi import DstApi # install with `pip install git+https://github.com/alemartinello/dstapi`\n",
    "\n",
    "import dataproject #importing our own py-file with our code."
   ]
  },
  {
   "cell_type": "markdown",
   "metadata": {},
   "source": [
    "## <a id='toc1_'></a>[Introduction](#toc1_)"
   ]
  },
  {
   "cell_type": "markdown",
   "metadata": {},
   "source": [
    "Our data project takes its basis in one of the biggest political issues in Denmark at the moment: labor shortage. The labor shortage in the entirety of Europe has grown rapidly in the last five years, and naturally, Denmark is no exception. One of the key efforts to combat this issue is the reqruitment of international workers.\n",
    "\n",
    "Statistics Denmark (DST) produces an interview-based statistic that measures labor shortage in a given sector or industry by the share of firms therein could increase production if they had the necessary labor force. This allows us to see the development in labor shortage over time, as well as compare the number of international workers in each field to the labor shortage. Thus, we can deduce how much interenational workers remedy the problem, if they are present in industries where it is difficult to reqruit Danes, as well as where it makes sense to put in a higher effort in order to reqruit more."
   ]
  },
  {
   "cell_type": "markdown",
   "metadata": {},
   "source": [
    "## <a id='toc2_'></a>[Read and clean data](#toc2_)"
   ]
  },
  {
   "cell_type": "markdown",
   "metadata": {},
   "source": [
    "In this section, we import data and clean it for usage later on. Our data comes from two different sources: Statistics Denmark and Jobindsats (STAR). \n",
    "\n",
    "We import four different datasets from DST through API: production limitations in the sectors of manufacturing, construction, and service and amount employees in all industries and sub-industries. The production limititations will give us the data we need regarding labor shortage in all different industries and sub-industries. \n",
    "\n",
    "From STAR, we download a JSON file, which is stored locally in this folder. This file contains data on the amount of international employees in sub-industries in the service sector, which we will need for comparing the share of international employees to laber shortage. \n"
   ]
  },
  {
   "cell_type": "code",
   "execution_count": 3,
   "metadata": {},
   "outputs": [],
   "source": [
    "# importing the data from DST\n",
    "employees = DstApi('LBESK03')\n",
    "lb_short_service = DstApi('KBS2')\n",
    "lb_short_manu = DstApi('BARO3')\n",
    "lb_short_cons = DstApi('KBYG33')"
   ]
  },
  {
   "cell_type": "markdown",
   "metadata": {},
   "source": [
    "**Cleaning all five datasets**\n",
    "\n",
    "The code for the cleaning of all datasets, along with comments of the process, can be found in the seperate dataproject.py file. "
   ]
  },
  {
   "cell_type": "code",
   "execution_count": 4,
   "metadata": {},
   "outputs": [
    {
     "name": "stdout",
     "output_type": "stream",
     "text": [
      "Before cleaning, the JSON datafile from JobIndsats contains 1089 observations and 5 variables.\n",
      "We have removed two columns and renamed the remaining.\n",
      "The dataset now contains 1089 observations and 3 variables.\n",
      "All our observations are of type: <class 'str'>. We want them to be integers - we use the as.type method.\n",
      "The observations are now of type: <class 'numpy.int64'> and the first observation is: 2184\n",
      "We would like to sort the data by time, so we convert our time Variable into datetime variables.\n",
      "All our industries are in Danish, so we rename them to English.\n",
      "For the purpose of our analysis, we want to convert the DataFrame into a pivot table, so that the data is easier to work with.\n",
      "We do so using the .pivot method, using time as index, industries as columns and international labor as our observations.\n",
      "For our dataset to match the data from DST, we sum over all industries to get the total and combine four of the industires so that they match\n",
      "Lastly, we drop the industries, that we have just combined to make new ones.\n",
      "The cleaned dataset now contains 8 columns (industries) and 121 observations\n"
     ]
    },
    {
     "data": {
      "text/html": [
       "<div>\n",
       "<style scoped>\n",
       "    .dataframe tbody tr th:only-of-type {\n",
       "        vertical-align: middle;\n",
       "    }\n",
       "\n",
       "    .dataframe tbody tr th {\n",
       "        vertical-align: top;\n",
       "    }\n",
       "\n",
       "    .dataframe thead th {\n",
       "        text-align: right;\n",
       "    }\n",
       "</style>\n",
       "<table border=\"1\" class=\"dataframe\">\n",
       "  <thead>\n",
       "    <tr style=\"text-align: right;\">\n",
       "      <th>industry</th>\n",
       "      <th>cleaning_etc</th>\n",
       "      <th>hotels_restaurants</th>\n",
       "      <th>information_communication</th>\n",
       "      <th>research_consultancy</th>\n",
       "      <th>transport</th>\n",
       "      <th>total</th>\n",
       "      <th>finance_real_estate</th>\n",
       "      <th>culture_leisure_other</th>\n",
       "    </tr>\n",
       "    <tr>\n",
       "      <th>time</th>\n",
       "      <th></th>\n",
       "      <th></th>\n",
       "      <th></th>\n",
       "      <th></th>\n",
       "      <th></th>\n",
       "      <th></th>\n",
       "      <th></th>\n",
       "      <th></th>\n",
       "    </tr>\n",
       "  </thead>\n",
       "  <tbody>\n",
       "    <tr>\n",
       "      <th>2014-01-01</th>\n",
       "      <td>26549</td>\n",
       "      <td>17609</td>\n",
       "      <td>6657</td>\n",
       "      <td>9039</td>\n",
       "      <td>14777</td>\n",
       "      <td>86158</td>\n",
       "      <td>4684</td>\n",
       "      <td>6843</td>\n",
       "    </tr>\n",
       "    <tr>\n",
       "      <th>2014-02-01</th>\n",
       "      <td>26792</td>\n",
       "      <td>17957</td>\n",
       "      <td>6815</td>\n",
       "      <td>9137</td>\n",
       "      <td>14732</td>\n",
       "      <td>86993</td>\n",
       "      <td>4690</td>\n",
       "      <td>6870</td>\n",
       "    </tr>\n",
       "    <tr>\n",
       "      <th>2014-03-01</th>\n",
       "      <td>27667</td>\n",
       "      <td>18481</td>\n",
       "      <td>7001</td>\n",
       "      <td>9292</td>\n",
       "      <td>14975</td>\n",
       "      <td>89550</td>\n",
       "      <td>4841</td>\n",
       "      <td>7293</td>\n",
       "    </tr>\n",
       "    <tr>\n",
       "      <th>2014-04-01</th>\n",
       "      <td>28547</td>\n",
       "      <td>19209</td>\n",
       "      <td>7136</td>\n",
       "      <td>9611</td>\n",
       "      <td>15177</td>\n",
       "      <td>92029</td>\n",
       "      <td>4928</td>\n",
       "      <td>7421</td>\n",
       "    </tr>\n",
       "    <tr>\n",
       "      <th>2014-05-01</th>\n",
       "      <td>29802</td>\n",
       "      <td>19909</td>\n",
       "      <td>7342</td>\n",
       "      <td>9539</td>\n",
       "      <td>15380</td>\n",
       "      <td>94728</td>\n",
       "      <td>5103</td>\n",
       "      <td>7653</td>\n",
       "    </tr>\n",
       "  </tbody>\n",
       "</table>\n",
       "</div>"
      ],
      "text/plain": [
       "industry    cleaning_etc  hotels_restaurants  information_communication  \\\n",
       "time                                                                      \n",
       "2014-01-01         26549               17609                       6657   \n",
       "2014-02-01         26792               17957                       6815   \n",
       "2014-03-01         27667               18481                       7001   \n",
       "2014-04-01         28547               19209                       7136   \n",
       "2014-05-01         29802               19909                       7342   \n",
       "\n",
       "industry    research_consultancy  transport  total  finance_real_estate  \\\n",
       "time                                                                      \n",
       "2014-01-01                  9039      14777  86158                 4684   \n",
       "2014-02-01                  9137      14732  86993                 4690   \n",
       "2014-03-01                  9292      14975  89550                 4841   \n",
       "2014-04-01                  9611      15177  92029                 4928   \n",
       "2014-05-01                  9539      15380  94728                 5103   \n",
       "\n",
       "industry    culture_leisure_other  \n",
       "time                               \n",
       "2014-01-01                   6843  \n",
       "2014-02-01                   6870  \n",
       "2014-03-01                   7293  \n",
       "2014-04-01                   7421  \n",
       "2014-05-01                   7653  "
      ]
     },
     "execution_count": 4,
     "metadata": {},
     "output_type": "execute_result"
    }
   ],
   "source": [
    "int_labor = dataproject.clean_json_data(False)\n",
    "int_labor_p = dataproject.clean_json_data2()\n",
    "int_labor_p.head(5)"
   ]
  },
  {
   "cell_type": "code",
   "execution_count": 5,
   "metadata": {},
   "outputs": [
    {
     "name": "stdout",
     "output_type": "stream",
     "text": [
      "Since we have extracted all the data from the source on DST, we need to select only the variables that are relevant for our analysis\n",
      "For the employment data, we first define our parameters so that we get only data from january 2014 to january 2024 and only for the total of industries.\n",
      "Then, we retract the parameters we defined, into our DataFrame, drop the industry since we do not need to split the data on industry, and rename the columns to english, simple titles.\n",
      "The cleaned dataset contains 2 columns and 121 observations.\n"
     ]
    },
    {
     "data": {
      "text/html": [
       "<div>\n",
       "<style scoped>\n",
       "    .dataframe tbody tr th:only-of-type {\n",
       "        vertical-align: middle;\n",
       "    }\n",
       "\n",
       "    .dataframe tbody tr th {\n",
       "        vertical-align: top;\n",
       "    }\n",
       "\n",
       "    .dataframe thead th {\n",
       "        text-align: right;\n",
       "    }\n",
       "</style>\n",
       "<table border=\"1\" class=\"dataframe\">\n",
       "  <thead>\n",
       "    <tr style=\"text-align: right;\">\n",
       "      <th></th>\n",
       "      <th>time</th>\n",
       "      <th>employees</th>\n",
       "    </tr>\n",
       "  </thead>\n",
       "  <tbody>\n",
       "    <tr>\n",
       "      <th>0</th>\n",
       "      <td>2014-01-01</td>\n",
       "      <td>2561675</td>\n",
       "    </tr>\n",
       "    <tr>\n",
       "      <th>1</th>\n",
       "      <td>2014-02-01</td>\n",
       "      <td>2563945</td>\n",
       "    </tr>\n",
       "    <tr>\n",
       "      <th>2</th>\n",
       "      <td>2014-03-01</td>\n",
       "      <td>2566733</td>\n",
       "    </tr>\n",
       "    <tr>\n",
       "      <th>3</th>\n",
       "      <td>2014-04-01</td>\n",
       "      <td>2569268</td>\n",
       "    </tr>\n",
       "    <tr>\n",
       "      <th>4</th>\n",
       "      <td>2014-05-01</td>\n",
       "      <td>2570962</td>\n",
       "    </tr>\n",
       "  </tbody>\n",
       "</table>\n",
       "</div>"
      ],
      "text/plain": [
       "        time  employees\n",
       "0 2014-01-01    2561675\n",
       "1 2014-02-01    2563945\n",
       "2 2014-03-01    2566733\n",
       "3 2014-04-01    2569268\n",
       "4 2014-05-01    2570962"
      ]
     },
     "execution_count": 5,
     "metadata": {},
     "output_type": "execute_result"
    }
   ],
   "source": [
    "empl = dataproject.clean_dst_empl(employees)\n",
    "empl.head(5)"
   ]
  },
  {
   "cell_type": "code",
   "execution_count": 6,
   "metadata": {},
   "outputs": [
    {
     "name": "stdout",
     "output_type": "stream",
     "text": [
      "Again, as for all the DST data, we need to select only the variables that are relevant for our analysis\n"
     ]
    },
    {
     "name": "stdout",
     "output_type": "stream",
     "text": [
      "For the labor shortage data, we need to sort through the dataset a bit more when defining out variables:\n",
      "We need to specify which industries we want to get data from, since the dataset contains both broad and narrow categories.\n",
      "Furhtermore, we want to get data only for the labor shortage and from january 2014 to january 2024.\n",
      "We retrieve the parameters and sort the data by time and industry.\n",
      "Then, we drop the column, TYPE, since we only have data for the labor shortage anyways, and this column would otherwise be used to split the data into diffeereeent categories of production limitations.\n",
      "We also drop the old index and reset it.\n",
      "We rename the industry codes to the industry names, so that they match the industries in the international labor data.\n",
      "We convert the time variable into datetime variables.\n",
      "The cleaned dataset contains 3 columns and 968 observations.\n"
     ]
    },
    {
     "data": {
      "text/html": [
       "<div>\n",
       "<style scoped>\n",
       "    .dataframe tbody tr th:only-of-type {\n",
       "        vertical-align: middle;\n",
       "    }\n",
       "\n",
       "    .dataframe tbody tr th {\n",
       "        vertical-align: top;\n",
       "    }\n",
       "\n",
       "    .dataframe thead th {\n",
       "        text-align: right;\n",
       "    }\n",
       "</style>\n",
       "<table border=\"1\" class=\"dataframe\">\n",
       "  <thead>\n",
       "    <tr style=\"text-align: right;\">\n",
       "      <th></th>\n",
       "      <th>industry</th>\n",
       "      <th>time</th>\n",
       "      <th>labor_shortage</th>\n",
       "    </tr>\n",
       "  </thead>\n",
       "  <tbody>\n",
       "    <tr>\n",
       "      <th>0</th>\n",
       "      <td>culture_leisure</td>\n",
       "      <td>2014-01-01</td>\n",
       "      <td>6</td>\n",
       "    </tr>\n",
       "    <tr>\n",
       "      <th>1</th>\n",
       "      <td>cleaning_etc</td>\n",
       "      <td>2014-01-01</td>\n",
       "      <td>13</td>\n",
       "    </tr>\n",
       "    <tr>\n",
       "      <th>2</th>\n",
       "      <td>information_communication</td>\n",
       "      <td>2014-01-01</td>\n",
       "      <td>9</td>\n",
       "    </tr>\n",
       "    <tr>\n",
       "      <th>3</th>\n",
       "      <td>research_consultancy</td>\n",
       "      <td>2014-01-01</td>\n",
       "      <td>19</td>\n",
       "    </tr>\n",
       "    <tr>\n",
       "      <th>4</th>\n",
       "      <td>finance_real_estate</td>\n",
       "      <td>2014-01-01</td>\n",
       "      <td>0</td>\n",
       "    </tr>\n",
       "  </tbody>\n",
       "</table>\n",
       "</div>"
      ],
      "text/plain": [
       "                    industry       time  labor_shortage\n",
       "0            culture_leisure 2014-01-01               6\n",
       "1               cleaning_etc 2014-01-01              13\n",
       "2  information_communication 2014-01-01               9\n",
       "3       research_consultancy 2014-01-01              19\n",
       "4        finance_real_estate 2014-01-01               0"
      ]
     },
     "execution_count": 6,
     "metadata": {},
     "output_type": "execute_result"
    }
   ],
   "source": [
    "lab_short_service = dataproject.clean_dst_shortage1(lb_short_service)\n",
    "lab_short_service.head(5)"
   ]
  },
  {
   "cell_type": "code",
   "execution_count": 7,
   "metadata": {},
   "outputs": [
    {
     "name": "stdout",
     "output_type": "stream",
     "text": [
      "Again, as for all the DST data, we need to select only the variables that are relevant for our analysis\n"
     ]
    },
    {
     "name": "stdout",
     "output_type": "stream",
     "text": [
      "We retreieve the parameters we defined into the DataFrame and sort the variables by time.\n",
      "We then rename the columns to english, simple titles and reset the index.\n",
      "We drop the industry and type columns, since we onle neeed data for the total industry\n",
      "Finally, we set the time variable to datetime variables.\n",
      "The cleaned dataset contains 2 columns and 41 observations.\n",
      "The reason that the number of observations differ, is that manufacturing labor shortagae data is only publishedc once a quarter.\n"
     ]
    },
    {
     "data": {
      "text/html": [
       "<div>\n",
       "<style scoped>\n",
       "    .dataframe tbody tr th:only-of-type {\n",
       "        vertical-align: middle;\n",
       "    }\n",
       "\n",
       "    .dataframe tbody tr th {\n",
       "        vertical-align: top;\n",
       "    }\n",
       "\n",
       "    .dataframe thead th {\n",
       "        text-align: right;\n",
       "    }\n",
       "</style>\n",
       "<table border=\"1\" class=\"dataframe\">\n",
       "  <thead>\n",
       "    <tr style=\"text-align: right;\">\n",
       "      <th></th>\n",
       "      <th>time</th>\n",
       "      <th>labor_shortage</th>\n",
       "    </tr>\n",
       "  </thead>\n",
       "  <tbody>\n",
       "    <tr>\n",
       "      <th>0</th>\n",
       "      <td>2014-01-01</td>\n",
       "      <td>1</td>\n",
       "    </tr>\n",
       "    <tr>\n",
       "      <th>1</th>\n",
       "      <td>2014-04-01</td>\n",
       "      <td>3</td>\n",
       "    </tr>\n",
       "    <tr>\n",
       "      <th>2</th>\n",
       "      <td>2014-07-01</td>\n",
       "      <td>2</td>\n",
       "    </tr>\n",
       "    <tr>\n",
       "      <th>3</th>\n",
       "      <td>2014-10-01</td>\n",
       "      <td>3</td>\n",
       "    </tr>\n",
       "    <tr>\n",
       "      <th>4</th>\n",
       "      <td>2015-01-01</td>\n",
       "      <td>2</td>\n",
       "    </tr>\n",
       "  </tbody>\n",
       "</table>\n",
       "</div>"
      ],
      "text/plain": [
       "        time  labor_shortage\n",
       "0 2014-01-01               1\n",
       "1 2014-04-01               3\n",
       "2 2014-07-01               2\n",
       "3 2014-10-01               3\n",
       "4 2015-01-01               2"
      ]
     },
     "execution_count": 7,
     "metadata": {},
     "output_type": "execute_result"
    }
   ],
   "source": [
    "lab_short_manu = dataproject.clean_dst_shortage2(lb_short_manu)\n",
    "lab_short_manu.head(5)"
   ]
  },
  {
   "cell_type": "code",
   "execution_count": 8,
   "metadata": {},
   "outputs": [
    {
     "name": "stdout",
     "output_type": "stream",
     "text": [
      "The method for the cleaning of this dataset is exactly the same as for the manufacturinng sector.\n"
     ]
    },
    {
     "name": "stdout",
     "output_type": "stream",
     "text": [
      "The cleaned dataset contains 2 columns and 121 observations.\n"
     ]
    },
    {
     "data": {
      "text/html": [
       "<div>\n",
       "<style scoped>\n",
       "    .dataframe tbody tr th:only-of-type {\n",
       "        vertical-align: middle;\n",
       "    }\n",
       "\n",
       "    .dataframe tbody tr th {\n",
       "        vertical-align: top;\n",
       "    }\n",
       "\n",
       "    .dataframe thead th {\n",
       "        text-align: right;\n",
       "    }\n",
       "</style>\n",
       "<table border=\"1\" class=\"dataframe\">\n",
       "  <thead>\n",
       "    <tr style=\"text-align: right;\">\n",
       "      <th></th>\n",
       "      <th>time</th>\n",
       "      <th>labor_shortage</th>\n",
       "    </tr>\n",
       "  </thead>\n",
       "  <tbody>\n",
       "    <tr>\n",
       "      <th>0</th>\n",
       "      <td>2014-01-01</td>\n",
       "      <td>3</td>\n",
       "    </tr>\n",
       "    <tr>\n",
       "      <th>1</th>\n",
       "      <td>2014-02-01</td>\n",
       "      <td>2</td>\n",
       "    </tr>\n",
       "    <tr>\n",
       "      <th>2</th>\n",
       "      <td>2014-03-01</td>\n",
       "      <td>3</td>\n",
       "    </tr>\n",
       "    <tr>\n",
       "      <th>3</th>\n",
       "      <td>2014-04-01</td>\n",
       "      <td>3</td>\n",
       "    </tr>\n",
       "    <tr>\n",
       "      <th>4</th>\n",
       "      <td>2014-05-01</td>\n",
       "      <td>2</td>\n",
       "    </tr>\n",
       "  </tbody>\n",
       "</table>\n",
       "</div>"
      ],
      "text/plain": [
       "        time  labor_shortage\n",
       "0 2014-01-01               3\n",
       "1 2014-02-01               2\n",
       "2 2014-03-01               3\n",
       "3 2014-04-01               3\n",
       "4 2014-05-01               2"
      ]
     },
     "execution_count": 8,
     "metadata": {},
     "output_type": "execute_result"
    }
   ],
   "source": [
    "lab_short_cons = dataproject.clean_dst_shortage3(lb_short_cons)\n",
    "lab_short_cons.head(5)"
   ]
  },
  {
   "cell_type": "markdown",
   "metadata": {},
   "source": [
    "## <a id='toc3_'></a>[Explore each data set](#toc3_)"
   ]
  },
  {
   "cell_type": "markdown",
   "metadata": {},
   "source": [
    "In this section we explore the cleaned datasets and use these as the basis of our analysis. "
   ]
  },
  {
   "cell_type": "markdown",
   "metadata": {},
   "source": [
    "**1.1) Development of labor shortage by industry**\n",
    "\n",
    "A static graph showing the development of labor shortage for the timeperiod Janurary 2014 - January 2024, of all three sectors; manufacturing, construction, and service. "
   ]
  },
  {
   "cell_type": "code",
   "execution_count": 11,
   "metadata": {},
   "outputs": [
    {
     "data": {
      "image/png": "[encoded data removed]",
      "text/plain": [
       "<Figure size 640x480 with 1 Axes>"
      ]
     },
     "metadata": {},
     "output_type": "display_data"
    }
   ],
   "source": [
    "# Converting the 'time' column into datetime format\n",
    "lab_short_service['time'] = pd.to_datetime(lab_short_service['time'], format='%Y-%m-%d')\n",
    "lab_short_manu['time'] = pd.to_datetime(lab_short_manu['time'], format='%Y-%m-%d')\n",
    "lab_short_cons['time'] = pd.to_datetime(lab_short_cons['time'], format='%Y-%m-%d')\n",
    "\n",
    "# Filtering the 'total' row for the service industry\n",
    "lab_short_service_total = lab_short_service[lab_short_service['industry'] == 'total']\n",
    "\n",
    "# Plotting the data for all three industries\n",
    "plt.plot(lab_short_service_total['time'], lab_short_service_total['labor_shortage'], color='mediumpurple', label='Service')\n",
    "plt.plot(lab_short_manu['time'], lab_short_manu['labor_shortage'], color = 'indigo', label='Manufacturing')\n",
    "plt.plot(lab_short_cons['time'], lab_short_cons['labor_shortage'], color = 'plum', label='Construction')\n",
    "\n",
    "plt.xlabel('Time')\n",
    "plt.ylabel('Labor Shortage')\n",
    "plt.title('Share of labor shortage across industries (January 2014 - January 2024)')\n",
    "plt.legend()\n",
    "\n",
    "plt.show()"
   ]
  },
  {
   "cell_type": "markdown",
   "metadata": {},
   "source": [
    "All three industries have an upward trend until the middle of 2019, after which we see a dive, culminating in early to mid- 2020. This is the period when the coronavirus shut down Denmark. In the period 2014-2020, the upward trend in the service industry is the most stable, while the other two industries are somewhat more volatile in their trend. After that, we see a steep upward trend for all three industries. This lasts until 2022 for manufacturing and construction, while the shift in the trend is slightly delayed for the service industry. \n",
    "\n",
    "Labor shortage is currently decreasing for all three industries, but it is still around 25-30% for the construction- and service industry."
   ]
  },
  {
   "cell_type": "markdown",
   "metadata": {},
   "source": [
    "**1.2) Development of labor shortage in the service sector by sub-industry**\n",
    "\n",
    "A static graph showing the development of labor shortage in the service industry for the timeperiod Janurary 2014 - January 2024"
   ]
  },
  {
   "cell_type": "code",
   "execution_count": 16,
   "metadata": {},
   "outputs": [
    {
     "data": {
      "image/png": "[encoded data removed]",
      "text/plain": [
       "<Figure size 1000x600 with 1 Axes>"
      ]
     },
     "metadata": {},
     "output_type": "display_data"
    },
    {
     "data": {
      "application/vnd.jupyter.widget-view+json": {
       "model_id": "4a03c659459b45538904d78f8149a78c",
       "version_major": 2,
       "version_minor": 0
      },
      "text/plain": [
       "Dropdown(description='industry:', options=('culture_leisure', 'cleaning_etc', 'information_communication', 're…"
      ]
     },
     "metadata": {},
     "output_type": "display_data"
    }
   ],
   "source": [
    "# Converting 'time' column to a datetime format\n",
    "lab_short_service['time'] = pd.to_datetime(lab_short_service['time'], format='%Y-%m-%d')\n",
    "\n",
    "# We define a function to get labor shortage for a specific industry\n",
    "def plot_industry(industry):\n",
    "\n",
    "    clear_output(wait=True)\n",
    "\n",
    "    # Filtering the data\n",
    "    industry_data = lab_short_service[lab_short_service['industry'] == industry]\n",
    "\n",
    "    # Plotting the data\n",
    "    plt.figure(figsize=(10, 6))\n",
    "    plt.plot(industry_data['time'], industry_data['labor_shortage'], color='indigo')\n",
    "    plt.xlabel('Time')\n",
    "    plt.ylabel('Percentage')\n",
    "    plt.title(f'Labor shortage for {industry}')\n",
    "    plt.grid(True)\n",
    "    plt.show()\n",
    "\n",
    "    # dropdown widget displayed\n",
    "    display(industry_dropdown)\n",
    "\n",
    "# creating widget to be able to select the industry\n",
    "industry_dropdown = widgets.Dropdown(options=lab_short_service['industry'].unique(), description='industry:')\n",
    "display(industry_dropdown)\n",
    "\n",
    "\n",
    "def update_plot(change):\n",
    "    plot_industry(change.new)\n",
    "\n",
    "industry_dropdown.observe(update_plot, 'value')\n"
   ]
  },
  {
   "cell_type": "code",
   "execution_count": 18,
   "metadata": {},
   "outputs": [
    {
     "data": {
      "application/vnd.jupyter.widget-view+json": {
       "model_id": "76dd17c555834cbab8a97011daec763a",
       "version_major": 2,
       "version_minor": 0
      },
      "text/plain": [
       "interactive(children=(Dropdown(description='industry:', options=('culture_leisure', 'cleaning_etc', 'informati…"
      ]
     },
     "metadata": {},
     "output_type": "display_data"
    },
    {
     "data": {
      "text/plain": [
       "<function __main__.plot_industry(industry)>"
      ]
     },
     "execution_count": 18,
     "metadata": {},
     "output_type": "execute_result"
    }
   ],
   "source": [
    "# FORSLAG FRA ANNE-SOFIE\n",
    "widgets.interact(plot_industry, \n",
    "                  industry=widgets.Dropdown(description='industry:', options=lab_short_service['industry'].unique()))"
   ]
  },
  {
   "cell_type": "markdown",
   "metadata": {},
   "source": [
    "The overall trend in labor shortage has been upward since 2014 for all 8 service industries. There was a big increase post-2020, probably because of the pandemic and economic recovery efforts. The total labor shortage reached its peak in early to mid-2022, with 45% of the firms reporting insufficient labor. It has since declined but it still remains a lot higher than before 2020.  \n",
    "\n",
    "The biggest labor shortage is in the cleaning industry with 50% of the firms having labor issues, and the finance and real estate industries have the least labor shortage, averaging 7%."
   ]
  },
  {
   "cell_type": "markdown",
   "metadata": {},
   "source": [
    "**2) Interactive plot of development of amount of international employees for all sub-industries in the service sector**\n",
    "\n",
    "As seen above, the trend of labor shortage for both the manufacturing and construction is going downwards, while the service sector is starting to go slightly upwards again. We therefor focus our energy on the service industry going forward.\n",
    "\n",
    "Below is an interactive graph displaying the amount of international workers for the service sector as a total and for all seven sub-industries; finance, insurance, and real estate, hotels and restaurents, information and communication, cleaning and other operational services, transport, research and consultancy, and culture, leisure, and other services. "
   ]
  },
  {
   "cell_type": "code",
   "execution_count": 22,
   "metadata": {},
   "outputs": [
    {
     "data": {
      "application/vnd.plotly.v1+json": {
       "config": {
        "plotlyServerURL": "https://plot.ly"
       },
       "data": [
        {
         "mode": "lines",
         "name": "cleaning_etc",
         "type": "scatter",
         "visible": true,
         "x": [
          "2014-01-01T00:00:00",
          "2014-02-01T00:00:00",
          "2014-03-01T00:00:00",
          "2014-04-01T00:00:00",
          "2014-05-01T00:00:00",
          "2014-06-01T00:00:00",
          "2014-07-01T00:00:00",
          "2014-08-01T00:00:00",
          "2014-09-01T00:00:00",
          "2014-10-01T00:00:00",
          "2014-11-01T00:00:00",
          "2014-12-01T00:00:00",
          "2015-01-01T00:00:00",
          "2015-02-01T00:00:00",
          "2015-03-01T00:00:00",
          "2015-04-01T00:00:00",
          "2015-05-01T00:00:00",
          "2015-06-01T00:00:00",
          "2015-07-01T00:00:00",
          "2015-08-01T00:00:00",
          "2015-09-01T00:00:00",
          "2015-10-01T00:00:00",
          "2015-11-01T00:00:00",
          "2015-12-01T00:00:00",
          "2016-01-01T00:00:00",
          "2016-02-01T00:00:00",
          "2016-03-01T00:00:00",
          "2016-04-01T00:00:00",
          "2016-05-01T00:00:00",
          "2016-06-01T00:00:00",
          "2016-07-01T00:00:00",
          "2016-08-01T00:00:00",
          "2016-09-01T00:00:00",
          "2016-10-01T00:00:00",
          "2016-11-01T00:00:00",
          "2016-12-01T00:00:00",
          "2017-01-01T00:00:00",
          "2017-02-01T00:00:00",
          "2017-03-01T00:00:00",
          "2017-04-01T00:00:00",
          "2017-05-01T00:00:00",
          "2017-06-01T00:00:00",
          "2017-07-01T00:00:00",
          "2017-08-01T00:00:00",
          "2017-09-01T00:00:00",
          "2017-10-01T00:00:00",
          "2017-11-01T00:00:00",
          "2017-12-01T00:00:00",
          "2018-01-01T00:00:00",
          "2018-02-01T00:00:00",
          "2018-03-01T00:00:00",
          "2018-04-01T00:00:00",
          "2018-05-01T00:00:00",
          "2018-06-01T00:00:00",
          "2018-07-01T00:00:00",
          "2018-08-01T00:00:00",
          "2018-09-01T00:00:00",
          "2018-10-01T00:00:00",
          "2018-11-01T00:00:00",
          "2018-12-01T00:00:00",
          "2019-01-01T00:00:00",
          "2019-02-01T00:00:00",
          "2019-03-01T00:00:00",
          "2019-04-01T00:00:00",
          "2019-05-01T00:00:00",
          "2019-06-01T00:00:00",
          "2019-07-01T00:00:00",
          "2019-08-01T00:00:00",
          "2019-09-01T00:00:00",
          "2019-10-01T00:00:00",
          "2019-11-01T00:00:00",
          "2019-12-01T00:00:00",
          "2020-01-01T00:00:00",
          "2020-02-01T00:00:00",
          "2020-03-01T00:00:00",
          "2020-04-01T00:00:00",
          "2020-05-01T00:00:00",
          "2020-06-01T00:00:00",
          "2020-07-01T00:00:00",
          "2020-08-01T00:00:00",
          "2020-09-01T00:00:00",
          "2020-10-01T00:00:00",
          "2020-11-01T00:00:00",
          "2020-12-01T00:00:00",
          "2021-01-01T00:00:00",
          "2021-02-01T00:00:00",
          "2021-03-01T00:00:00",
          "2021-04-01T00:00:00",
          "2021-05-01T00:00:00",
          "2021-06-01T00:00:00",
          "2021-07-01T00:00:00",
          "2021-08-01T00:00:00",
          "2021-09-01T00:00:00",
          "2021-10-01T00:00:00",
          "2021-11-01T00:00:00",
          "2021-12-01T00:00:00",
          "2022-01-01T00:00:00",
          "2022-02-01T00:00:00",
          "2022-03-01T00:00:00",
          "2022-04-01T00:00:00",
          "2022-05-01T00:00:00",
          "2022-06-01T00:00:00",
          "2022-07-01T00:00:00",
          "2022-08-01T00:00:00",
          "2022-09-01T00:00:00",
          "2022-10-01T00:00:00",
          "2022-11-01T00:00:00",
          "2022-12-01T00:00:00",
          "2023-01-01T00:00:00",
          "2023-02-01T00:00:00",
          "2023-03-01T00:00:00",
          "2023-04-01T00:00:00",
          "2023-05-01T00:00:00",
          "2023-06-01T00:00:00",
          "2023-07-01T00:00:00",
          "2023-08-01T00:00:00",
          "2023-09-01T00:00:00",
          "2023-10-01T00:00:00",
          "2023-11-01T00:00:00",
          "2023-12-01T00:00:00",
          "2024-01-01T00:00:00"
         ],
         "y": [
          26549,
          26792,
          27667,
          28547,
          29802,
          31560,
          31088,
          31169,
          31129,
          30854,
          31669,
          34003,
          29138,
          29729,
          30680,
          32147,
          32862,
          34874,
          34997,
          35187,
          34539,
          34532,
          35382,
          37536,
          32482,
          33265,
          34458,
          35465,
          36741,
          38219,
          37773,
          38176,
          38102,
          37863,
          38851,
          41520,
          35280,
          35685,
          36756,
          37865,
          39244,
          41105,
          40449,
          40234,
          40107,
          40551,
          41814,
          44494,
          37647,
          37859,
          38565,
          40174,
          41391,
          43590,
          42927,
          42441,
          42740,
          42337,
          44669,
          47692,
          40393,
          40676,
          41435,
          42863,
          43821,
          45455,
          44881,
          44698,
          44446,
          44349,
          45939,
          47717,
          42106,
          41997,
          41702,
          38791,
          39370,
          41799,
          42289,
          43232,
          43816,
          43456,
          45599,
          47369,
          40482,
          40360,
          42050,
          43868,
          46848,
          49222,
          49192,
          49767,
          51236,
          51730,
          53976,
          55268,
          49828,
          49783,
          51090,
          52151,
          54488,
          56763,
          56309,
          55749,
          56409,
          56065,
          56441,
          58027,
          51739,
          51370,
          52362,
          53605,
          54638,
          56994,
          56907,
          55902,
          56254,
          55666,
          56408,
          56851,
          52468
         ]
        },
        {
         "mode": "lines",
         "name": "hotels_restaurants",
         "type": "scatter",
         "visible": false,
         "x": [
          "2014-01-01T00:00:00",
          "2014-02-01T00:00:00",
          "2014-03-01T00:00:00",
          "2014-04-01T00:00:00",
          "2014-05-01T00:00:00",
          "2014-06-01T00:00:00",
          "2014-07-01T00:00:00",
          "2014-08-01T00:00:00",
          "2014-09-01T00:00:00",
          "2014-10-01T00:00:00",
          "2014-11-01T00:00:00",
          "2014-12-01T00:00:00",
          "2015-01-01T00:00:00",
          "2015-02-01T00:00:00",
          "2015-03-01T00:00:00",
          "2015-04-01T00:00:00",
          "2015-05-01T00:00:00",
          "2015-06-01T00:00:00",
          "2015-07-01T00:00:00",
          "2015-08-01T00:00:00",
          "2015-09-01T00:00:00",
          "2015-10-01T00:00:00",
          "2015-11-01T00:00:00",
          "2015-12-01T00:00:00",
          "2016-01-01T00:00:00",
          "2016-02-01T00:00:00",
          "2016-03-01T00:00:00",
          "2016-04-01T00:00:00",
          "2016-05-01T00:00:00",
          "2016-06-01T00:00:00",
          "2016-07-01T00:00:00",
          "2016-08-01T00:00:00",
          "2016-09-01T00:00:00",
          "2016-10-01T00:00:00",
          "2016-11-01T00:00:00",
          "2016-12-01T00:00:00",
          "2017-01-01T00:00:00",
          "2017-02-01T00:00:00",
          "2017-03-01T00:00:00",
          "2017-04-01T00:00:00",
          "2017-05-01T00:00:00",
          "2017-06-01T00:00:00",
          "2017-07-01T00:00:00",
          "2017-08-01T00:00:00",
          "2017-09-01T00:00:00",
          "2017-10-01T00:00:00",
          "2017-11-01T00:00:00",
          "2017-12-01T00:00:00",
          "2018-01-01T00:00:00",
          "2018-02-01T00:00:00",
          "2018-03-01T00:00:00",
          "2018-04-01T00:00:00",
          "2018-05-01T00:00:00",
          "2018-06-01T00:00:00",
          "2018-07-01T00:00:00",
          "2018-08-01T00:00:00",
          "2018-09-01T00:00:00",
          "2018-10-01T00:00:00",
          "2018-11-01T00:00:00",
          "2018-12-01T00:00:00",
          "2019-01-01T00:00:00",
          "2019-02-01T00:00:00",
          "2019-03-01T00:00:00",
          "2019-04-01T00:00:00",
          "2019-05-01T00:00:00",
          "2019-06-01T00:00:00",
          "2019-07-01T00:00:00",
          "2019-08-01T00:00:00",
          "2019-09-01T00:00:00",
          "2019-10-01T00:00:00",
          "2019-11-01T00:00:00",
          "2019-12-01T00:00:00",
          "2020-01-01T00:00:00",
          "2020-02-01T00:00:00",
          "2020-03-01T00:00:00",
          "2020-04-01T00:00:00",
          "2020-05-01T00:00:00",
          "2020-06-01T00:00:00",
          "2020-07-01T00:00:00",
          "2020-08-01T00:00:00",
          "2020-09-01T00:00:00",
          "2020-10-01T00:00:00",
          "2020-11-01T00:00:00",
          "2020-12-01T00:00:00",
          "2021-01-01T00:00:00",
          "2021-02-01T00:00:00",
          "2021-03-01T00:00:00",
          "2021-04-01T00:00:00",
          "2021-05-01T00:00:00",
          "2021-06-01T00:00:00",
          "2021-07-01T00:00:00",
          "2021-08-01T00:00:00",
          "2021-09-01T00:00:00",
          "2021-10-01T00:00:00",
          "2021-11-01T00:00:00",
          "2021-12-01T00:00:00",
          "2022-01-01T00:00:00",
          "2022-02-01T00:00:00",
          "2022-03-01T00:00:00",
          "2022-04-01T00:00:00",
          "2022-05-01T00:00:00",
          "2022-06-01T00:00:00",
          "2022-07-01T00:00:00",
          "2022-08-01T00:00:00",
          "2022-09-01T00:00:00",
          "2022-10-01T00:00:00",
          "2022-11-01T00:00:00",
          "2022-12-01T00:00:00",
          "2023-01-01T00:00:00",
          "2023-02-01T00:00:00",
          "2023-03-01T00:00:00",
          "2023-04-01T00:00:00",
          "2023-05-01T00:00:00",
          "2023-06-01T00:00:00",
          "2023-07-01T00:00:00",
          "2023-08-01T00:00:00",
          "2023-09-01T00:00:00",
          "2023-10-01T00:00:00",
          "2023-11-01T00:00:00",
          "2023-12-01T00:00:00",
          "2024-01-01T00:00:00"
         ],
         "y": [
          17609,
          17957,
          18481,
          19209,
          19909,
          20502,
          20050,
          20501,
          20612,
          20610,
          20754,
          20594,
          19720,
          20042,
          20751,
          21613,
          22624,
          23188,
          22542,
          23318,
          23448,
          23292,
          23440,
          23228,
          21964,
          22350,
          23163,
          24118,
          24923,
          25572,
          24785,
          25691,
          25851,
          25907,
          26007,
          25778,
          24588,
          24858,
          25629,
          26590,
          27743,
          28355,
          27546,
          28198,
          28404,
          28250,
          28314,
          28035,
          26778,
          26988,
          27662,
          28811,
          30057,
          30703,
          29901,
          30444,
          30567,
          30551,
          30459,
          29879,
          29118,
          29260,
          29990,
          31289,
          32362,
          32969,
          32306,
          32992,
          32938,
          32729,
          32358,
          31994,
          30965,
          31105,
          29782,
          24153,
          24952,
          27983,
          29223,
          30216,
          30186,
          29007,
          28054,
          26521,
          22883,
          22412,
          22511,
          24109,
          27624,
          29814,
          30125,
          31505,
          32612,
          33223,
          33633,
          32783,
          30232,
          31121,
          32918,
          34732,
          36548,
          38072,
          36922,
          38037,
          37872,
          37295,
          36743,
          36346,
          34468,
          35071,
          36533,
          38027,
          39802,
          40746,
          39475,
          40331,
          39888,
          39338,
          38884,
          38256,
          36552
         ]
        },
        {
         "mode": "lines",
         "name": "information_communication",
         "type": "scatter",
         "visible": false,
         "x": [
          "2014-01-01T00:00:00",
          "2014-02-01T00:00:00",
          "2014-03-01T00:00:00",
          "2014-04-01T00:00:00",
          "2014-05-01T00:00:00",
          "2014-06-01T00:00:00",
          "2014-07-01T00:00:00",
          "2014-08-01T00:00:00",
          "2014-09-01T00:00:00",
          "2014-10-01T00:00:00",
          "2014-11-01T00:00:00",
          "2014-12-01T00:00:00",
          "2015-01-01T00:00:00",
          "2015-02-01T00:00:00",
          "2015-03-01T00:00:00",
          "2015-04-01T00:00:00",
          "2015-05-01T00:00:00",
          "2015-06-01T00:00:00",
          "2015-07-01T00:00:00",
          "2015-08-01T00:00:00",
          "2015-09-01T00:00:00",
          "2015-10-01T00:00:00",
          "2015-11-01T00:00:00",
          "2015-12-01T00:00:00",
          "2016-01-01T00:00:00",
          "2016-02-01T00:00:00",
          "2016-03-01T00:00:00",
          "2016-04-01T00:00:00",
          "2016-05-01T00:00:00",
          "2016-06-01T00:00:00",
          "2016-07-01T00:00:00",
          "2016-08-01T00:00:00",
          "2016-09-01T00:00:00",
          "2016-10-01T00:00:00",
          "2016-11-01T00:00:00",
          "2016-12-01T00:00:00",
          "2017-01-01T00:00:00",
          "2017-02-01T00:00:00",
          "2017-03-01T00:00:00",
          "2017-04-01T00:00:00",
          "2017-05-01T00:00:00",
          "2017-06-01T00:00:00",
          "2017-07-01T00:00:00",
          "2017-08-01T00:00:00",
          "2017-09-01T00:00:00",
          "2017-10-01T00:00:00",
          "2017-11-01T00:00:00",
          "2017-12-01T00:00:00",
          "2018-01-01T00:00:00",
          "2018-02-01T00:00:00",
          "2018-03-01T00:00:00",
          "2018-04-01T00:00:00",
          "2018-05-01T00:00:00",
          "2018-06-01T00:00:00",
          "2018-07-01T00:00:00",
          "2018-08-01T00:00:00",
          "2018-09-01T00:00:00",
          "2018-10-01T00:00:00",
          "2018-11-01T00:00:00",
          "2018-12-01T00:00:00",
          "2019-01-01T00:00:00",
          "2019-02-01T00:00:00",
          "2019-03-01T00:00:00",
          "2019-04-01T00:00:00",
          "2019-05-01T00:00:00",
          "2019-06-01T00:00:00",
          "2019-07-01T00:00:00",
          "2019-08-01T00:00:00",
          "2019-09-01T00:00:00",
          "2019-10-01T00:00:00",
          "2019-11-01T00:00:00",
          "2019-12-01T00:00:00",
          "2020-01-01T00:00:00",
          "2020-02-01T00:00:00",
          "2020-03-01T00:00:00",
          "2020-04-01T00:00:00",
          "2020-05-01T00:00:00",
          "2020-06-01T00:00:00",
          "2020-07-01T00:00:00",
          "2020-08-01T00:00:00",
          "2020-09-01T00:00:00",
          "2020-10-01T00:00:00",
          "2020-11-01T00:00:00",
          "2020-12-01T00:00:00",
          "2021-01-01T00:00:00",
          "2021-02-01T00:00:00",
          "2021-03-01T00:00:00",
          "2021-04-01T00:00:00",
          "2021-05-01T00:00:00",
          "2021-06-01T00:00:00",
          "2021-07-01T00:00:00",
          "2021-08-01T00:00:00",
          "2021-09-01T00:00:00",
          "2021-10-01T00:00:00",
          "2021-11-01T00:00:00",
          "2021-12-01T00:00:00",
          "2022-01-01T00:00:00",
          "2022-02-01T00:00:00",
          "2022-03-01T00:00:00",
          "2022-04-01T00:00:00",
          "2022-05-01T00:00:00",
          "2022-06-01T00:00:00",
          "2022-07-01T00:00:00",
          "2022-08-01T00:00:00",
          "2022-09-01T00:00:00",
          "2022-10-01T00:00:00",
          "2022-11-01T00:00:00",
          "2022-12-01T00:00:00",
          "2023-01-01T00:00:00",
          "2023-02-01T00:00:00",
          "2023-03-01T00:00:00",
          "2023-04-01T00:00:00",
          "2023-05-01T00:00:00",
          "2023-06-01T00:00:00",
          "2023-07-01T00:00:00",
          "2023-08-01T00:00:00",
          "2023-09-01T00:00:00",
          "2023-10-01T00:00:00",
          "2023-11-01T00:00:00",
          "2023-12-01T00:00:00",
          "2024-01-01T00:00:00"
         ],
         "y": [
          6657,
          6815,
          7001,
          7136,
          7342,
          7332,
          7188,
          7265,
          7489,
          7648,
          7708,
          7565,
          7489,
          7609,
          7764,
          7699,
          7876,
          8070,
          7943,
          7942,
          8100,
          8214,
          8427,
          8569,
          8437,
          8703,
          8992,
          9083,
          9195,
          9457,
          9423,
          9355,
          9631,
          9655,
          10052,
          9885,
          9701,
          9952,
          10209,
          10172,
          10369,
          10564,
          10238,
          10173,
          10333,
          10416,
          10630,
          10877,
          10658,
          10911,
          11148,
          11375,
          11483,
          11523,
          11212,
          11312,
          11573,
          11772,
          11958,
          12140,
          12045,
          12174,
          12476,
          12549,
          12637,
          12761,
          12606,
          12809,
          12993,
          13131,
          13368,
          13405,
          13282,
          13490,
          13489,
          13194,
          13185,
          13296,
          13082,
          13005,
          13270,
          13400,
          13587,
          13811,
          14934,
          15241,
          15614,
          15734,
          15847,
          15939,
          15569,
          15918,
          16398,
          16378,
          16771,
          17255,
          15569,
          15884,
          16279,
          16397,
          16705,
          16996,
          16754,
          16877,
          17094,
          17175,
          17298,
          17371,
          17109,
          17232,
          17532,
          17377,
          17567,
          17546,
          17074,
          17312,
          17600,
          17484,
          17584,
          17559,
          17202
         ]
        },
        {
         "mode": "lines",
         "name": "research_consultancy",
         "type": "scatter",
         "visible": false,
         "x": [
          "2014-01-01T00:00:00",
          "2014-02-01T00:00:00",
          "2014-03-01T00:00:00",
          "2014-04-01T00:00:00",
          "2014-05-01T00:00:00",
          "2014-06-01T00:00:00",
          "2014-07-01T00:00:00",
          "2014-08-01T00:00:00",
          "2014-09-01T00:00:00",
          "2014-10-01T00:00:00",
          "2014-11-01T00:00:00",
          "2014-12-01T00:00:00",
          "2015-01-01T00:00:00",
          "2015-02-01T00:00:00",
          "2015-03-01T00:00:00",
          "2015-04-01T00:00:00",
          "2015-05-01T00:00:00",
          "2015-06-01T00:00:00",
          "2015-07-01T00:00:00",
          "2015-08-01T00:00:00",
          "2015-09-01T00:00:00",
          "2015-10-01T00:00:00",
          "2015-11-01T00:00:00",
          "2015-12-01T00:00:00",
          "2016-01-01T00:00:00",
          "2016-02-01T00:00:00",
          "2016-03-01T00:00:00",
          "2016-04-01T00:00:00",
          "2016-05-01T00:00:00",
          "2016-06-01T00:00:00",
          "2016-07-01T00:00:00",
          "2016-08-01T00:00:00",
          "2016-09-01T00:00:00",
          "2016-10-01T00:00:00",
          "2016-11-01T00:00:00",
          "2016-12-01T00:00:00",
          "2017-01-01T00:00:00",
          "2017-02-01T00:00:00",
          "2017-03-01T00:00:00",
          "2017-04-01T00:00:00",
          "2017-05-01T00:00:00",
          "2017-06-01T00:00:00",
          "2017-07-01T00:00:00",
          "2017-08-01T00:00:00",
          "2017-09-01T00:00:00",
          "2017-10-01T00:00:00",
          "2017-11-01T00:00:00",
          "2017-12-01T00:00:00",
          "2018-01-01T00:00:00",
          "2018-02-01T00:00:00",
          "2018-03-01T00:00:00",
          "2018-04-01T00:00:00",
          "2018-05-01T00:00:00",
          "2018-06-01T00:00:00",
          "2018-07-01T00:00:00",
          "2018-08-01T00:00:00",
          "2018-09-01T00:00:00",
          "2018-10-01T00:00:00",
          "2018-11-01T00:00:00",
          "2018-12-01T00:00:00",
          "2019-01-01T00:00:00",
          "2019-02-01T00:00:00",
          "2019-03-01T00:00:00",
          "2019-04-01T00:00:00",
          "2019-05-01T00:00:00",
          "2019-06-01T00:00:00",
          "2019-07-01T00:00:00",
          "2019-08-01T00:00:00",
          "2019-09-01T00:00:00",
          "2019-10-01T00:00:00",
          "2019-11-01T00:00:00",
          "2019-12-01T00:00:00",
          "2020-01-01T00:00:00",
          "2020-02-01T00:00:00",
          "2020-03-01T00:00:00",
          "2020-04-01T00:00:00",
          "2020-05-01T00:00:00",
          "2020-06-01T00:00:00",
          "2020-07-01T00:00:00",
          "2020-08-01T00:00:00",
          "2020-09-01T00:00:00",
          "2020-10-01T00:00:00",
          "2020-11-01T00:00:00",
          "2020-12-01T00:00:00",
          "2021-01-01T00:00:00",
          "2021-02-01T00:00:00",
          "2021-03-01T00:00:00",
          "2021-04-01T00:00:00",
          "2021-05-01T00:00:00",
          "2021-06-01T00:00:00",
          "2021-07-01T00:00:00",
          "2021-08-01T00:00:00",
          "2021-09-01T00:00:00",
          "2021-10-01T00:00:00",
          "2021-11-01T00:00:00",
          "2021-12-01T00:00:00",
          "2022-01-01T00:00:00",
          "2022-02-01T00:00:00",
          "2022-03-01T00:00:00",
          "2022-04-01T00:00:00",
          "2022-05-01T00:00:00",
          "2022-06-01T00:00:00",
          "2022-07-01T00:00:00",
          "2022-08-01T00:00:00",
          "2022-09-01T00:00:00",
          "2022-10-01T00:00:00",
          "2022-11-01T00:00:00",
          "2022-12-01T00:00:00",
          "2023-01-01T00:00:00",
          "2023-02-01T00:00:00",
          "2023-03-01T00:00:00",
          "2023-04-01T00:00:00",
          "2023-05-01T00:00:00",
          "2023-06-01T00:00:00",
          "2023-07-01T00:00:00",
          "2023-08-01T00:00:00",
          "2023-09-01T00:00:00",
          "2023-10-01T00:00:00",
          "2023-11-01T00:00:00",
          "2023-12-01T00:00:00",
          "2024-01-01T00:00:00"
         ],
         "y": [
          9039,
          9137,
          9292,
          9611,
          9539,
          9665,
          9439,
          9560,
          9861,
          9997,
          10214,
          10440,
          10002,
          10223,
          10552,
          10672,
          10931,
          11029,
          10936,
          10901,
          11319,
          11477,
          11609,
          12016,
          11741,
          12000,
          12247,
          12431,
          12597,
          12685,
          12175,
          12388,
          12786,
          12928,
          13072,
          13233,
          12588,
          12955,
          13301,
          13350,
          13433,
          13722,
          13244,
          13262,
          13617,
          13793,
          14039,
          14240,
          13327,
          13676,
          13877,
          14112,
          14340,
          14509,
          13772,
          14147,
          14606,
          14677,
          14877,
          15031,
          14432,
          14569,
          14749,
          14970,
          15060,
          15269,
          14640,
          14923,
          15210,
          15259,
          15543,
          15510,
          15169,
          15315,
          15254,
          14619,
          14618,
          14753,
          14470,
          14645,
          14834,
          14920,
          15095,
          15107,
          14850,
          15082,
          15377,
          15696,
          15826,
          16225,
          15873,
          16375,
          16885,
          17178,
          17620,
          17961,
          17702,
          18242,
          18916,
          19170,
          19577,
          19994,
          19565,
          20217,
          20805,
          21130,
          21513,
          21726,
          21396,
          21883,
          22312,
          22415,
          22520,
          22746,
          22170,
          22408,
          22979,
          23165,
          23295,
          23409,
          23227
         ]
        },
        {
         "mode": "lines",
         "name": "transport",
         "type": "scatter",
         "visible": false,
         "x": [
          "2014-01-01T00:00:00",
          "2014-02-01T00:00:00",
          "2014-03-01T00:00:00",
          "2014-04-01T00:00:00",
          "2014-05-01T00:00:00",
          "2014-06-01T00:00:00",
          "2014-07-01T00:00:00",
          "2014-08-01T00:00:00",
          "2014-09-01T00:00:00",
          "2014-10-01T00:00:00",
          "2014-11-01T00:00:00",
          "2014-12-01T00:00:00",
          "2015-01-01T00:00:00",
          "2015-02-01T00:00:00",
          "2015-03-01T00:00:00",
          "2015-04-01T00:00:00",
          "2015-05-01T00:00:00",
          "2015-06-01T00:00:00",
          "2015-07-01T00:00:00",
          "2015-08-01T00:00:00",
          "2015-09-01T00:00:00",
          "2015-10-01T00:00:00",
          "2015-11-01T00:00:00",
          "2015-12-01T00:00:00",
          "2016-01-01T00:00:00",
          "2016-02-01T00:00:00",
          "2016-03-01T00:00:00",
          "2016-04-01T00:00:00",
          "2016-05-01T00:00:00",
          "2016-06-01T00:00:00",
          "2016-07-01T00:00:00",
          "2016-08-01T00:00:00",
          "2016-09-01T00:00:00",
          "2016-10-01T00:00:00",
          "2016-11-01T00:00:00",
          "2016-12-01T00:00:00",
          "2017-01-01T00:00:00",
          "2017-02-01T00:00:00",
          "2017-03-01T00:00:00",
          "2017-04-01T00:00:00",
          "2017-05-01T00:00:00",
          "2017-06-01T00:00:00",
          "2017-07-01T00:00:00",
          "2017-08-01T00:00:00",
          "2017-09-01T00:00:00",
          "2017-10-01T00:00:00",
          "2017-11-01T00:00:00",
          "2017-12-01T00:00:00",
          "2018-01-01T00:00:00",
          "2018-02-01T00:00:00",
          "2018-03-01T00:00:00",
          "2018-04-01T00:00:00",
          "2018-05-01T00:00:00",
          "2018-06-01T00:00:00",
          "2018-07-01T00:00:00",
          "2018-08-01T00:00:00",
          "2018-09-01T00:00:00",
          "2018-10-01T00:00:00",
          "2018-11-01T00:00:00",
          "2018-12-01T00:00:00",
          "2019-01-01T00:00:00",
          "2019-02-01T00:00:00",
          "2019-03-01T00:00:00",
          "2019-04-01T00:00:00",
          "2019-05-01T00:00:00",
          "2019-06-01T00:00:00",
          "2019-07-01T00:00:00",
          "2019-08-01T00:00:00",
          "2019-09-01T00:00:00",
          "2019-10-01T00:00:00",
          "2019-11-01T00:00:00",
          "2019-12-01T00:00:00",
          "2020-01-01T00:00:00",
          "2020-02-01T00:00:00",
          "2020-03-01T00:00:00",
          "2020-04-01T00:00:00",
          "2020-05-01T00:00:00",
          "2020-06-01T00:00:00",
          "2020-07-01T00:00:00",
          "2020-08-01T00:00:00",
          "2020-09-01T00:00:00",
          "2020-10-01T00:00:00",
          "2020-11-01T00:00:00",
          "2020-12-01T00:00:00",
          "2021-01-01T00:00:00",
          "2021-02-01T00:00:00",
          "2021-03-01T00:00:00",
          "2021-04-01T00:00:00",
          "2021-05-01T00:00:00",
          "2021-06-01T00:00:00",
          "2021-07-01T00:00:00",
          "2021-08-01T00:00:00",
          "2021-09-01T00:00:00",
          "2021-10-01T00:00:00",
          "2021-11-01T00:00:00",
          "2021-12-01T00:00:00",
          "2022-01-01T00:00:00",
          "2022-02-01T00:00:00",
          "2022-03-01T00:00:00",
          "2022-04-01T00:00:00",
          "2022-05-01T00:00:00",
          "2022-06-01T00:00:00",
          "2022-07-01T00:00:00",
          "2022-08-01T00:00:00",
          "2022-09-01T00:00:00",
          "2022-10-01T00:00:00",
          "2022-11-01T00:00:00",
          "2022-12-01T00:00:00",
          "2023-01-01T00:00:00",
          "2023-02-01T00:00:00",
          "2023-03-01T00:00:00",
          "2023-04-01T00:00:00",
          "2023-05-01T00:00:00",
          "2023-06-01T00:00:00",
          "2023-07-01T00:00:00",
          "2023-08-01T00:00:00",
          "2023-09-01T00:00:00",
          "2023-10-01T00:00:00",
          "2023-11-01T00:00:00",
          "2023-12-01T00:00:00",
          "2024-01-01T00:00:00"
         ],
         "y": [
          14777,
          14732,
          14975,
          15177,
          15380,
          15599,
          15585,
          15603,
          15694,
          15576,
          15555,
          15949,
          16019,
          15641,
          15855,
          16065,
          16181,
          16390,
          16363,
          16471,
          16489,
          16450,
          16589,
          16733,
          15971,
          15978,
          16085,
          16522,
          16546,
          16702,
          16590,
          16728,
          16727,
          16584,
          16681,
          16709,
          16427,
          16447,
          16797,
          16833,
          16950,
          17245,
          16943,
          17241,
          17669,
          17363,
          17436,
          17481,
          17110,
          17261,
          17519,
          17836,
          18347,
          18772,
          18481,
          18683,
          18787,
          18997,
          19020,
          19211,
          18863,
          18847,
          19187,
          19371,
          19457,
          19894,
          19835,
          19902,
          19989,
          19690,
          20088,
          20355,
          19911,
          19838,
          18886,
          18558,
          18427,
          18821,
          18946,
          18337,
          19117,
          19125,
          19398,
          19267,
          19032,
          19343,
          19765,
          20097,
          20266,
          20589,
          20510,
          20945,
          21324,
          21921,
          22727,
          23057,
          23468,
          23956,
          24465,
          24942,
          25103,
          25241,
          25352,
          25770,
          26030,
          26289,
          26515,
          26326,
          28678,
          28532,
          28932,
          29084,
          30345,
          30432,
          30433,
          30918,
          31769,
          32180,
          32502,
          32065,
          31842
         ]
        },
        {
         "mode": "lines",
         "name": "total",
         "type": "scatter",
         "visible": false,
         "x": [
          "2014-01-01T00:00:00",
          "2014-02-01T00:00:00",
          "2014-03-01T00:00:00",
          "2014-04-01T00:00:00",
          "2014-05-01T00:00:00",
          "2014-06-01T00:00:00",
          "2014-07-01T00:00:00",
          "2014-08-01T00:00:00",
          "2014-09-01T00:00:00",
          "2014-10-01T00:00:00",
          "2014-11-01T00:00:00",
          "2014-12-01T00:00:00",
          "2015-01-01T00:00:00",
          "2015-02-01T00:00:00",
          "2015-03-01T00:00:00",
          "2015-04-01T00:00:00",
          "2015-05-01T00:00:00",
          "2015-06-01T00:00:00",
          "2015-07-01T00:00:00",
          "2015-08-01T00:00:00",
          "2015-09-01T00:00:00",
          "2015-10-01T00:00:00",
          "2015-11-01T00:00:00",
          "2015-12-01T00:00:00",
          "2016-01-01T00:00:00",
          "2016-02-01T00:00:00",
          "2016-03-01T00:00:00",
          "2016-04-01T00:00:00",
          "2016-05-01T00:00:00",
          "2016-06-01T00:00:00",
          "2016-07-01T00:00:00",
          "2016-08-01T00:00:00",
          "2016-09-01T00:00:00",
          "2016-10-01T00:00:00",
          "2016-11-01T00:00:00",
          "2016-12-01T00:00:00",
          "2017-01-01T00:00:00",
          "2017-02-01T00:00:00",
          "2017-03-01T00:00:00",
          "2017-04-01T00:00:00",
          "2017-05-01T00:00:00",
          "2017-06-01T00:00:00",
          "2017-07-01T00:00:00",
          "2017-08-01T00:00:00",
          "2017-09-01T00:00:00",
          "2017-10-01T00:00:00",
          "2017-11-01T00:00:00",
          "2017-12-01T00:00:00",
          "2018-01-01T00:00:00",
          "2018-02-01T00:00:00",
          "2018-03-01T00:00:00",
          "2018-04-01T00:00:00",
          "2018-05-01T00:00:00",
          "2018-06-01T00:00:00",
          "2018-07-01T00:00:00",
          "2018-08-01T00:00:00",
          "2018-09-01T00:00:00",
          "2018-10-01T00:00:00",
          "2018-11-01T00:00:00",
          "2018-12-01T00:00:00",
          "2019-01-01T00:00:00",
          "2019-02-01T00:00:00",
          "2019-03-01T00:00:00",
          "2019-04-01T00:00:00",
          "2019-05-01T00:00:00",
          "2019-06-01T00:00:00",
          "2019-07-01T00:00:00",
          "2019-08-01T00:00:00",
          "2019-09-01T00:00:00",
          "2019-10-01T00:00:00",
          "2019-11-01T00:00:00",
          "2019-12-01T00:00:00",
          "2020-01-01T00:00:00",
          "2020-02-01T00:00:00",
          "2020-03-01T00:00:00",
          "2020-04-01T00:00:00",
          "2020-05-01T00:00:00",
          "2020-06-01T00:00:00",
          "2020-07-01T00:00:00",
          "2020-08-01T00:00:00",
          "2020-09-01T00:00:00",
          "2020-10-01T00:00:00",
          "2020-11-01T00:00:00",
          "2020-12-01T00:00:00",
          "2021-01-01T00:00:00",
          "2021-02-01T00:00:00",
          "2021-03-01T00:00:00",
          "2021-04-01T00:00:00",
          "2021-05-01T00:00:00",
          "2021-06-01T00:00:00",
          "2021-07-01T00:00:00",
          "2021-08-01T00:00:00",
          "2021-09-01T00:00:00",
          "2021-10-01T00:00:00",
          "2021-11-01T00:00:00",
          "2021-12-01T00:00:00",
          "2022-01-01T00:00:00",
          "2022-02-01T00:00:00",
          "2022-03-01T00:00:00",
          "2022-04-01T00:00:00",
          "2022-05-01T00:00:00",
          "2022-06-01T00:00:00",
          "2022-07-01T00:00:00",
          "2022-08-01T00:00:00",
          "2022-09-01T00:00:00",
          "2022-10-01T00:00:00",
          "2022-11-01T00:00:00",
          "2022-12-01T00:00:00",
          "2023-01-01T00:00:00",
          "2023-02-01T00:00:00",
          "2023-03-01T00:00:00",
          "2023-04-01T00:00:00",
          "2023-05-01T00:00:00",
          "2023-06-01T00:00:00",
          "2023-07-01T00:00:00",
          "2023-08-01T00:00:00",
          "2023-09-01T00:00:00",
          "2023-10-01T00:00:00",
          "2023-11-01T00:00:00",
          "2023-12-01T00:00:00",
          "2024-01-01T00:00:00"
         ],
         "y": [
          86158,
          86993,
          89550,
          92029,
          94728,
          97492,
          95521,
          96751,
          97956,
          97629,
          98922,
          101447,
          94563,
          95628,
          98679,
          101554,
          104102,
          107500,
          106094,
          107583,
          107974,
          107816,
          109497,
          111927,
          103633,
          105484,
          108782,
          112004,
          114403,
          117379,
          114865,
          117041,
          118030,
          117883,
          119709,
          122117,
          113019,
          114548,
          117993,
          120599,
          123689,
          127259,
          123761,
          125189,
          126602,
          126590,
          128506,
          131307,
          120821,
          122326,
          124942,
          129027,
          132457,
          136260,
          132633,
          133869,
          135627,
          135667,
          138248,
          141279,
          131501,
          132216,
          135157,
          138952,
          141328,
          144632,
          141902,
          143355,
          144096,
          143661,
          145737,
          147205,
          139658,
          139990,
          137130,
          125954,
          127027,
          134069,
          135501,
          137307,
          139603,
          138057,
          139568,
          139394,
          128122,
          128265,
          132038,
          136966,
          144238,
          150684,
          149677,
          153391,
          157971,
          160163,
          164568,
          165870,
          155156,
          157962,
          163795,
          168012,
          173786,
          179247,
          175816,
          178154,
          180268,
          179661,
          180396,
          181179,
          174165,
          174768,
          179978,
          183167,
          188195,
          192365,
          188323,
          189936,
          192032,
          190845,
          191754,
          190680,
          182923
         ]
        },
        {
         "mode": "lines",
         "name": "finance_real_estate",
         "type": "scatter",
         "visible": false,
         "x": [
          "2014-01-01T00:00:00",
          "2014-02-01T00:00:00",
          "2014-03-01T00:00:00",
          "2014-04-01T00:00:00",
          "2014-05-01T00:00:00",
          "2014-06-01T00:00:00",
          "2014-07-01T00:00:00",
          "2014-08-01T00:00:00",
          "2014-09-01T00:00:00",
          "2014-10-01T00:00:00",
          "2014-11-01T00:00:00",
          "2014-12-01T00:00:00",
          "2015-01-01T00:00:00",
          "2015-02-01T00:00:00",
          "2015-03-01T00:00:00",
          "2015-04-01T00:00:00",
          "2015-05-01T00:00:00",
          "2015-06-01T00:00:00",
          "2015-07-01T00:00:00",
          "2015-08-01T00:00:00",
          "2015-09-01T00:00:00",
          "2015-10-01T00:00:00",
          "2015-11-01T00:00:00",
          "2015-12-01T00:00:00",
          "2016-01-01T00:00:00",
          "2016-02-01T00:00:00",
          "2016-03-01T00:00:00",
          "2016-04-01T00:00:00",
          "2016-05-01T00:00:00",
          "2016-06-01T00:00:00",
          "2016-07-01T00:00:00",
          "2016-08-01T00:00:00",
          "2016-09-01T00:00:00",
          "2016-10-01T00:00:00",
          "2016-11-01T00:00:00",
          "2016-12-01T00:00:00",
          "2017-01-01T00:00:00",
          "2017-02-01T00:00:00",
          "2017-03-01T00:00:00",
          "2017-04-01T00:00:00",
          "2017-05-01T00:00:00",
          "2017-06-01T00:00:00",
          "2017-07-01T00:00:00",
          "2017-08-01T00:00:00",
          "2017-09-01T00:00:00",
          "2017-10-01T00:00:00",
          "2017-11-01T00:00:00",
          "2017-12-01T00:00:00",
          "2018-01-01T00:00:00",
          "2018-02-01T00:00:00",
          "2018-03-01T00:00:00",
          "2018-04-01T00:00:00",
          "2018-05-01T00:00:00",
          "2018-06-01T00:00:00",
          "2018-07-01T00:00:00",
          "2018-08-01T00:00:00",
          "2018-09-01T00:00:00",
          "2018-10-01T00:00:00",
          "2018-11-01T00:00:00",
          "2018-12-01T00:00:00",
          "2019-01-01T00:00:00",
          "2019-02-01T00:00:00",
          "2019-03-01T00:00:00",
          "2019-04-01T00:00:00",
          "2019-05-01T00:00:00",
          "2019-06-01T00:00:00",
          "2019-07-01T00:00:00",
          "2019-08-01T00:00:00",
          "2019-09-01T00:00:00",
          "2019-10-01T00:00:00",
          "2019-11-01T00:00:00",
          "2019-12-01T00:00:00",
          "2020-01-01T00:00:00",
          "2020-02-01T00:00:00",
          "2020-03-01T00:00:00",
          "2020-04-01T00:00:00",
          "2020-05-01T00:00:00",
          "2020-06-01T00:00:00",
          "2020-07-01T00:00:00",
          "2020-08-01T00:00:00",
          "2020-09-01T00:00:00",
          "2020-10-01T00:00:00",
          "2020-11-01T00:00:00",
          "2020-12-01T00:00:00",
          "2021-01-01T00:00:00",
          "2021-02-01T00:00:00",
          "2021-03-01T00:00:00",
          "2021-04-01T00:00:00",
          "2021-05-01T00:00:00",
          "2021-06-01T00:00:00",
          "2021-07-01T00:00:00",
          "2021-08-01T00:00:00",
          "2021-09-01T00:00:00",
          "2021-10-01T00:00:00",
          "2021-11-01T00:00:00",
          "2021-12-01T00:00:00",
          "2022-01-01T00:00:00",
          "2022-02-01T00:00:00",
          "2022-03-01T00:00:00",
          "2022-04-01T00:00:00",
          "2022-05-01T00:00:00",
          "2022-06-01T00:00:00",
          "2022-07-01T00:00:00",
          "2022-08-01T00:00:00",
          "2022-09-01T00:00:00",
          "2022-10-01T00:00:00",
          "2022-11-01T00:00:00",
          "2022-12-01T00:00:00",
          "2023-01-01T00:00:00",
          "2023-02-01T00:00:00",
          "2023-03-01T00:00:00",
          "2023-04-01T00:00:00",
          "2023-05-01T00:00:00",
          "2023-06-01T00:00:00",
          "2023-07-01T00:00:00",
          "2023-08-01T00:00:00",
          "2023-09-01T00:00:00",
          "2023-10-01T00:00:00",
          "2023-11-01T00:00:00",
          "2023-12-01T00:00:00",
          "2024-01-01T00:00:00"
         ],
         "y": [
          4684,
          4690,
          4841,
          4928,
          5103,
          5206,
          5159,
          5253,
          5347,
          5272,
          5229,
          5193,
          4935,
          4979,
          5311,
          5443,
          5587,
          5809,
          5690,
          5831,
          5864,
          5702,
          5768,
          5665,
          5263,
          5315,
          5573,
          5887,
          5794,
          5975,
          5951,
          6102,
          6123,
          6203,
          6168,
          6088,
          6000,
          6052,
          6260,
          6546,
          6666,
          6805,
          6684,
          6808,
          6939,
          6861,
          6813,
          6731,
          6480,
          6567,
          6822,
          7083,
          7098,
          7323,
          7205,
          7367,
          7503,
          7459,
          7335,
          7392,
          7141,
          7169,
          7460,
          7857,
          7880,
          8053,
          8033,
          8061,
          8203,
          8166,
          8053,
          7988,
          8359,
          8167,
          8092,
          7889,
          7759,
          8297,
          8454,
          8428,
          8517,
          8194,
          7965,
          7590,
          7410,
          7646,
          8053,
          8368,
          8187,
          8809,
          8757,
          8744,
          8858,
          8898,
          8840,
          8722,
          8336,
          8576,
          9240,
          9549,
          9831,
          10158,
          9710,
          9882,
          10025,
          9842,
          9939,
          9730,
          9596,
          9420,
          10463,
          10624,
          10706,
          10811,
          10526,
          10889,
          10970,
          10522,
          10472,
          10129,
          9832
         ]
        },
        {
         "mode": "lines",
         "name": "culture_leisure_other",
         "type": "scatter",
         "visible": false,
         "x": [
          "2014-01-01T00:00:00",
          "2014-02-01T00:00:00",
          "2014-03-01T00:00:00",
          "2014-04-01T00:00:00",
          "2014-05-01T00:00:00",
          "2014-06-01T00:00:00",
          "2014-07-01T00:00:00",
          "2014-08-01T00:00:00",
          "2014-09-01T00:00:00",
          "2014-10-01T00:00:00",
          "2014-11-01T00:00:00",
          "2014-12-01T00:00:00",
          "2015-01-01T00:00:00",
          "2015-02-01T00:00:00",
          "2015-03-01T00:00:00",
          "2015-04-01T00:00:00",
          "2015-05-01T00:00:00",
          "2015-06-01T00:00:00",
          "2015-07-01T00:00:00",
          "2015-08-01T00:00:00",
          "2015-09-01T00:00:00",
          "2015-10-01T00:00:00",
          "2015-11-01T00:00:00",
          "2015-12-01T00:00:00",
          "2016-01-01T00:00:00",
          "2016-02-01T00:00:00",
          "2016-03-01T00:00:00",
          "2016-04-01T00:00:00",
          "2016-05-01T00:00:00",
          "2016-06-01T00:00:00",
          "2016-07-01T00:00:00",
          "2016-08-01T00:00:00",
          "2016-09-01T00:00:00",
          "2016-10-01T00:00:00",
          "2016-11-01T00:00:00",
          "2016-12-01T00:00:00",
          "2017-01-01T00:00:00",
          "2017-02-01T00:00:00",
          "2017-03-01T00:00:00",
          "2017-04-01T00:00:00",
          "2017-05-01T00:00:00",
          "2017-06-01T00:00:00",
          "2017-07-01T00:00:00",
          "2017-08-01T00:00:00",
          "2017-09-01T00:00:00",
          "2017-10-01T00:00:00",
          "2017-11-01T00:00:00",
          "2017-12-01T00:00:00",
          "2018-01-01T00:00:00",
          "2018-02-01T00:00:00",
          "2018-03-01T00:00:00",
          "2018-04-01T00:00:00",
          "2018-05-01T00:00:00",
          "2018-06-01T00:00:00",
          "2018-07-01T00:00:00",
          "2018-08-01T00:00:00",
          "2018-09-01T00:00:00",
          "2018-10-01T00:00:00",
          "2018-11-01T00:00:00",
          "2018-12-01T00:00:00",
          "2019-01-01T00:00:00",
          "2019-02-01T00:00:00",
          "2019-03-01T00:00:00",
          "2019-04-01T00:00:00",
          "2019-05-01T00:00:00",
          "2019-06-01T00:00:00",
          "2019-07-01T00:00:00",
          "2019-08-01T00:00:00",
          "2019-09-01T00:00:00",
          "2019-10-01T00:00:00",
          "2019-11-01T00:00:00",
          "2019-12-01T00:00:00",
          "2020-01-01T00:00:00",
          "2020-02-01T00:00:00",
          "2020-03-01T00:00:00",
          "2020-04-01T00:00:00",
          "2020-05-01T00:00:00",
          "2020-06-01T00:00:00",
          "2020-07-01T00:00:00",
          "2020-08-01T00:00:00",
          "2020-09-01T00:00:00",
          "2020-10-01T00:00:00",
          "2020-11-01T00:00:00",
          "2020-12-01T00:00:00",
          "2021-01-01T00:00:00",
          "2021-02-01T00:00:00",
          "2021-03-01T00:00:00",
          "2021-04-01T00:00:00",
          "2021-05-01T00:00:00",
          "2021-06-01T00:00:00",
          "2021-07-01T00:00:00",
          "2021-08-01T00:00:00",
          "2021-09-01T00:00:00",
          "2021-10-01T00:00:00",
          "2021-11-01T00:00:00",
          "2021-12-01T00:00:00",
          "2022-01-01T00:00:00",
          "2022-02-01T00:00:00",
          "2022-03-01T00:00:00",
          "2022-04-01T00:00:00",
          "2022-05-01T00:00:00",
          "2022-06-01T00:00:00",
          "2022-07-01T00:00:00",
          "2022-08-01T00:00:00",
          "2022-09-01T00:00:00",
          "2022-10-01T00:00:00",
          "2022-11-01T00:00:00",
          "2022-12-01T00:00:00",
          "2023-01-01T00:00:00",
          "2023-02-01T00:00:00",
          "2023-03-01T00:00:00",
          "2023-04-01T00:00:00",
          "2023-05-01T00:00:00",
          "2023-06-01T00:00:00",
          "2023-07-01T00:00:00",
          "2023-08-01T00:00:00",
          "2023-09-01T00:00:00",
          "2023-10-01T00:00:00",
          "2023-11-01T00:00:00",
          "2023-12-01T00:00:00",
          "2024-01-01T00:00:00"
         ],
         "y": [
          6843,
          6870,
          7293,
          7421,
          7653,
          7628,
          7012,
          7400,
          7824,
          7672,
          7793,
          7703,
          7260,
          7405,
          7766,
          7915,
          8041,
          8140,
          7623,
          7933,
          8215,
          8149,
          8282,
          8180,
          7775,
          7873,
          8264,
          8498,
          8607,
          8769,
          8168,
          8601,
          8810,
          8743,
          8878,
          8904,
          8435,
          8599,
          9041,
          9243,
          9284,
          9463,
          8657,
          9273,
          9533,
          9356,
          9460,
          9449,
          8821,
          9064,
          9349,
          9636,
          9741,
          9840,
          9135,
          9475,
          9851,
          9874,
          9930,
          9934,
          9509,
          9521,
          9860,
          10053,
          10111,
          10231,
          9601,
          9970,
          10317,
          10337,
          10388,
          10236,
          9866,
          10078,
          9925,
          8750,
          8716,
          9120,
          9037,
          9444,
          9863,
          9955,
          9870,
          9729,
          8531,
          8181,
          8668,
          9094,
          9640,
          10086,
          9651,
          10137,
          10658,
          10835,
          11001,
          10824,
          10021,
          10400,
          10887,
          11071,
          11534,
          12023,
          11204,
          11622,
          12033,
          11865,
          11947,
          11653,
          11179,
          11260,
          11844,
          12035,
          12617,
          13090,
          11738,
          12176,
          12572,
          12490,
          12609,
          12411,
          11800
         ]
        }
       ],
       "layout": {
        "height": 600,
        "template": {
         "data": {
          "bar": [
           {
            "error_x": {
             "color": "#2a3f5f"
            },
            "error_y": {
             "color": "#2a3f5f"
            },
            "marker": {
             "line": {
              "color": "white",
              "width": 0.5
             },
             "pattern": {
              "fillmode": "overlay",
              "size": 10,
              "solidity": 0.2
             }
            },
            "type": "bar"
           }
          ],
          "barpolar": [
           {
            "marker": {
             "line": {
              "color": "white",
              "width": 0.5
             },
             "pattern": {
              "fillmode": "overlay",
              "size": 10,
              "solidity": 0.2
             }
            },
            "type": "barpolar"
           }
          ],
          "carpet": [
           {
            "aaxis": {
             "endlinecolor": "#2a3f5f",
             "gridcolor": "#C8D4E3",
             "linecolor": "#C8D4E3",
             "minorgridcolor": "#C8D4E3",
             "startlinecolor": "#2a3f5f"
            },
            "baxis": {
             "endlinecolor": "#2a3f5f",
             "gridcolor": "#C8D4E3",
             "linecolor": "#C8D4E3",
             "minorgridcolor": "#C8D4E3",
             "startlinecolor": "#2a3f5f"
            },
            "type": "carpet"
           }
          ],
          "choropleth": [
           {
            "colorbar": {
             "outlinewidth": 0,
             "ticks": ""
            },
            "type": "choropleth"
           }
          ],
          "contour": [
           {
            "colorbar": {
             "outlinewidth": 0,
             "ticks": ""
            },
            "colorscale": [
             [
              0,
              "#0d0887"
             ],
             [
              0.1111111111111111,
              "#46039f"
             ],
             [
              0.2222222222222222,
              "#7201a8"
             ],
             [
              0.3333333333333333,
              "#9c179e"
             ],
             [
              0.4444444444444444,
              "#bd3786"
             ],
             [
              0.5555555555555556,
              "#d8576b"
             ],
             [
              0.6666666666666666,
              "#ed7953"
             ],
             [
              0.7777777777777778,
              "#fb9f3a"
             ],
             [
              0.8888888888888888,
              "#fdca26"
             ],
             [
              1,
              "#f0f921"
             ]
            ],
            "type": "contour"
           }
          ],
          "contourcarpet": [
           {
            "colorbar": {
             "outlinewidth": 0,
             "ticks": ""
            },
            "type": "contourcarpet"
           }
          ],
          "heatmap": [
           {
            "colorbar": {
             "outlinewidth": 0,
             "ticks": ""
            },
            "colorscale": [
             [
              0,
              "#0d0887"
             ],
             [
              0.1111111111111111,
              "#46039f"
             ],
             [
              0.2222222222222222,
              "#7201a8"
             ],
             [
              0.3333333333333333,
              "#9c179e"
             ],
             [
              0.4444444444444444,
              "#bd3786"
             ],
             [
              0.5555555555555556,
              "#d8576b"
             ],
             [
              0.6666666666666666,
              "#ed7953"
             ],
             [
              0.7777777777777778,
              "#fb9f3a"
             ],
             [
              0.8888888888888888,
              "#fdca26"
             ],
             [
              1,
              "#f0f921"
             ]
            ],
            "type": "heatmap"
           }
          ],
          "heatmapgl": [
           {
            "colorbar": {
             "outlinewidth": 0,
             "ticks": ""
            },
            "colorscale": [
             [
              0,
              "#0d0887"
             ],
             [
              0.1111111111111111,
              "#46039f"
             ],
             [
              0.2222222222222222,
              "#7201a8"
             ],
             [
              0.3333333333333333,
              "#9c179e"
             ],
             [
              0.4444444444444444,
              "#bd3786"
             ],
             [
              0.5555555555555556,
              "#d8576b"
             ],
             [
              0.6666666666666666,
              "#ed7953"
             ],
             [
              0.7777777777777778,
              "#fb9f3a"
             ],
             [
              0.8888888888888888,
              "#fdca26"
             ],
             [
              1,
              "#f0f921"
             ]
            ],
            "type": "heatmapgl"
           }
          ],
          "histogram": [
           {
            "marker": {
             "pattern": {
              "fillmode": "overlay",
              "size": 10,
              "solidity": 0.2
             }
            },
            "type": "histogram"
           }
          ],
          "histogram2d": [
           {
            "colorbar": {
             "outlinewidth": 0,
             "ticks": ""
            },
            "colorscale": [
             [
              0,
              "#0d0887"
             ],
             [
              0.1111111111111111,
              "#46039f"
             ],
             [
              0.2222222222222222,
              "#7201a8"
             ],
             [
              0.3333333333333333,
              "#9c179e"
             ],
             [
              0.4444444444444444,
              "#bd3786"
             ],
             [
              0.5555555555555556,
              "#d8576b"
             ],
             [
              0.6666666666666666,
              "#ed7953"
             ],
             [
              0.7777777777777778,
              "#fb9f3a"
             ],
             [
              0.8888888888888888,
              "#fdca26"
             ],
             [
              1,
              "#f0f921"
             ]
            ],
            "type": "histogram2d"
           }
          ],
          "histogram2dcontour": [
           {
            "colorbar": {
             "outlinewidth": 0,
             "ticks": ""
            },
            "colorscale": [
             [
              0,
              "#0d0887"
             ],
             [
              0.1111111111111111,
              "#46039f"
             ],
             [
              0.2222222222222222,
              "#7201a8"
             ],
             [
              0.3333333333333333,
              "#9c179e"
             ],
             [
              0.4444444444444444,
              "#bd3786"
             ],
             [
              0.5555555555555556,
              "#d8576b"
             ],
             [
              0.6666666666666666,
              "#ed7953"
             ],
             [
              0.7777777777777778,
              "#fb9f3a"
             ],
             [
              0.8888888888888888,
              "#fdca26"
             ],
             [
              1,
              "#f0f921"
             ]
            ],
            "type": "histogram2dcontour"
           }
          ],
          "mesh3d": [
           {
            "colorbar": {
             "outlinewidth": 0,
             "ticks": ""
            },
            "type": "mesh3d"
           }
          ],
          "parcoords": [
           {
            "line": {
             "colorbar": {
              "outlinewidth": 0,
              "ticks": ""
             }
            },
            "type": "parcoords"
           }
          ],
          "pie": [
           {
            "automargin": true,
            "type": "pie"
           }
          ],
          "scatter": [
           {
            "fillpattern": {
             "fillmode": "overlay",
             "size": 10,
             "solidity": 0.2
            },
            "type": "scatter"
           }
          ],
          "scatter3d": [
           {
            "line": {
             "colorbar": {
              "outlinewidth": 0,
              "ticks": ""
             }
            },
            "marker": {
             "colorbar": {
              "outlinewidth": 0,
              "ticks": ""
             }
            },
            "type": "scatter3d"
           }
          ],
          "scattercarpet": [
           {
            "marker": {
             "colorbar": {
              "outlinewidth": 0,
              "ticks": ""
             }
            },
            "type": "scattercarpet"
           }
          ],
          "scattergeo": [
           {
            "marker": {
             "colorbar": {
              "outlinewidth": 0,
              "ticks": ""
             }
            },
            "type": "scattergeo"
           }
          ],
          "scattergl": [
           {
            "marker": {
             "colorbar": {
              "outlinewidth": 0,
              "ticks": ""
             }
            },
            "type": "scattergl"
           }
          ],
          "scattermapbox": [
           {
            "marker": {
             "colorbar": {
              "outlinewidth": 0,
              "ticks": ""
             }
            },
            "type": "scattermapbox"
           }
          ],
          "scatterpolar": [
           {
            "marker": {
             "colorbar": {
              "outlinewidth": 0,
              "ticks": ""
             }
            },
            "type": "scatterpolar"
           }
          ],
          "scatterpolargl": [
           {
            "marker": {
             "colorbar": {
              "outlinewidth": 0,
              "ticks": ""
             }
            },
            "type": "scatterpolargl"
           }
          ],
          "scatterternary": [
           {
            "marker": {
             "colorbar": {
              "outlinewidth": 0,
              "ticks": ""
             }
            },
            "type": "scatterternary"
           }
          ],
          "surface": [
           {
            "colorbar": {
             "outlinewidth": 0,
             "ticks": ""
            },
            "colorscale": [
             [
              0,
              "#0d0887"
             ],
             [
              0.1111111111111111,
              "#46039f"
             ],
             [
              0.2222222222222222,
              "#7201a8"
             ],
             [
              0.3333333333333333,
              "#9c179e"
             ],
             [
              0.4444444444444444,
              "#bd3786"
             ],
             [
              0.5555555555555556,
              "#d8576b"
             ],
             [
              0.6666666666666666,
              "#ed7953"
             ],
             [
              0.7777777777777778,
              "#fb9f3a"
             ],
             [
              0.8888888888888888,
              "#fdca26"
             ],
             [
              1,
              "#f0f921"
             ]
            ],
            "type": "surface"
           }
          ],
          "table": [
           {
            "cells": {
             "fill": {
              "color": "#EBF0F8"
             },
             "line": {
              "color": "white"
             }
            },
            "header": {
             "fill": {
              "color": "#C8D4E3"
             },
             "line": {
              "color": "white"
             }
            },
            "type": "table"
           }
          ]
         },
         "layout": {
          "annotationdefaults": {
           "arrowcolor": "#2a3f5f",
           "arrowhead": 0,
           "arrowwidth": 1
          },
          "autotypenumbers": "strict",
          "coloraxis": {
           "colorbar": {
            "outlinewidth": 0,
            "ticks": ""
           }
          },
          "colorscale": {
           "diverging": [
            [
             0,
             "#8e0152"
            ],
            [
             0.1,
             "#c51b7d"
            ],
            [
             0.2,
             "#de77ae"
            ],
            [
             0.3,
             "#f1b6da"
            ],
            [
             0.4,
             "#fde0ef"
            ],
            [
             0.5,
             "#f7f7f7"
            ],
            [
             0.6,
             "#e6f5d0"
            ],
            [
             0.7,
             "#b8e186"
            ],
            [
             0.8,
             "#7fbc41"
            ],
            [
             0.9,
             "#4d9221"
            ],
            [
             1,
             "#276419"
            ]
           ],
           "sequential": [
            [
             0,
             "#0d0887"
            ],
            [
             0.1111111111111111,
             "#46039f"
            ],
            [
             0.2222222222222222,
             "#7201a8"
            ],
            [
             0.3333333333333333,
             "#9c179e"
            ],
            [
             0.4444444444444444,
             "#bd3786"
            ],
            [
             0.5555555555555556,
             "#d8576b"
            ],
            [
             0.6666666666666666,
             "#ed7953"
            ],
            [
             0.7777777777777778,
             "#fb9f3a"
            ],
            [
             0.8888888888888888,
             "#fdca26"
            ],
            [
             1,
             "#f0f921"
            ]
           ],
           "sequentialminus": [
            [
             0,
             "#0d0887"
            ],
            [
             0.1111111111111111,
             "#46039f"
            ],
            [
             0.2222222222222222,
             "#7201a8"
            ],
            [
             0.3333333333333333,
             "#9c179e"
            ],
            [
             0.4444444444444444,
             "#bd3786"
            ],
            [
             0.5555555555555556,
             "#d8576b"
            ],
            [
             0.6666666666666666,
             "#ed7953"
            ],
            [
             0.7777777777777778,
             "#fb9f3a"
            ],
            [
             0.8888888888888888,
             "#fdca26"
            ],
            [
             1,
             "#f0f921"
            ]
           ]
          },
          "colorway": [
           "#636efa",
           "#EF553B",
           "#00cc96",
           "#ab63fa",
           "#FFA15A",
           "#19d3f3",
           "#FF6692",
           "#B6E880",
           "#FF97FF",
           "#FECB52"
          ],
          "font": {
           "color": "#2a3f5f"
          },
          "geo": {
           "bgcolor": "white",
           "lakecolor": "white",
           "landcolor": "white",
           "showlakes": true,
           "showland": true,
           "subunitcolor": "#C8D4E3"
          },
          "hoverlabel": {
           "align": "left"
          },
          "hovermode": "closest",
          "mapbox": {
           "style": "light"
          },
          "paper_bgcolor": "white",
          "plot_bgcolor": "white",
          "polar": {
           "angularaxis": {
            "gridcolor": "#EBF0F8",
            "linecolor": "#EBF0F8",
            "ticks": ""
           },
           "bgcolor": "white",
           "radialaxis": {
            "gridcolor": "#EBF0F8",
            "linecolor": "#EBF0F8",
            "ticks": ""
           }
          },
          "scene": {
           "xaxis": {
            "backgroundcolor": "white",
            "gridcolor": "#DFE8F3",
            "gridwidth": 2,
            "linecolor": "#EBF0F8",
            "showbackground": true,
            "ticks": "",
            "zerolinecolor": "#EBF0F8"
           },
           "yaxis": {
            "backgroundcolor": "white",
            "gridcolor": "#DFE8F3",
            "gridwidth": 2,
            "linecolor": "#EBF0F8",
            "showbackground": true,
            "ticks": "",
            "zerolinecolor": "#EBF0F8"
           },
           "zaxis": {
            "backgroundcolor": "white",
            "gridcolor": "#DFE8F3",
            "gridwidth": 2,
            "linecolor": "#EBF0F8",
            "showbackground": true,
            "ticks": "",
            "zerolinecolor": "#EBF0F8"
           }
          },
          "shapedefaults": {
           "line": {
            "color": "#2a3f5f"
           }
          },
          "ternary": {
           "aaxis": {
            "gridcolor": "#DFE8F3",
            "linecolor": "#A2B1C6",
            "ticks": ""
           },
           "baxis": {
            "gridcolor": "#DFE8F3",
            "linecolor": "#A2B1C6",
            "ticks": ""
           },
           "bgcolor": "white",
           "caxis": {
            "gridcolor": "#DFE8F3",
            "linecolor": "#A2B1C6",
            "ticks": ""
           }
          },
          "title": {
           "x": 0.05
          },
          "xaxis": {
           "automargin": true,
           "gridcolor": "#EBF0F8",
           "linecolor": "#EBF0F8",
           "ticks": "",
           "title": {
            "standoff": 15
           },
           "zerolinecolor": "#EBF0F8",
           "zerolinewidth": 2
          },
          "yaxis": {
           "automargin": true,
           "gridcolor": "#EBF0F8",
           "linecolor": "#EBF0F8",
           "ticks": "",
           "title": {
            "standoff": 15
           },
           "zerolinecolor": "#EBF0F8",
           "zerolinewidth": 2
          }
         }
        },
        "title": {
         "text": "Amount of international employees in service industries",
         "x": 0.5,
         "xanchor": "center"
        },
        "width": 800,
        "xaxis": {
         "anchor": "y",
         "domain": [
          0,
          1
         ],
         "gridcolor": "rgba(0, 0, 0, 0.2)",
         "showgrid": true,
         "title": {
          "text": "Time"
         }
        },
        "yaxis": {
         "anchor": "x",
         "domain": [
          0,
          1
         ],
         "gridcolor": "rgba(0, 0, 0, 0.2)",
         "showgrid": true
        }
       }
      }
     },
     "metadata": {},
     "output_type": "display_data"
    },
    {
     "data": {
      "application/vnd.jupyter.widget-view+json": {
       "model_id": "7817f3e6c7ae402cb9a45e1428e36001",
       "version_major": 2,
       "version_minor": 0
      },
      "text/plain": [
       "Dropdown(description='industry:', options=('cleaning_etc', 'hotels_restaurants', 'information_communication', …"
      ]
     },
     "metadata": {},
     "output_type": "display_data"
    }
   ],
   "source": [
    "fig = make_subplots(rows=1, cols=1, shared_xaxes=True)\n",
    "\n",
    "for column in int_labor_p.columns:\n",
    "    fig.add_trace(go.Scatter(x=int_labor_p.index, y=int_labor_p[column], mode='lines', name=column, visible=False))\n",
    "\n",
    "fig.data[0].visible = True\n",
    "fig.update_layout(\n",
    "    title={'text': \"Amount of international employees in service industries\", 'x': 0.5, 'xanchor': 'center'},\n",
    "    xaxis_title='Time',\n",
    "    template='plotly_white',\n",
    "    height=600,\n",
    "    width=800,\n",
    "    xaxis=dict(\n",
    "        showgrid=True,  \n",
    "        gridcolor='rgba(0, 0, 0, 0.2)',\n",
    "    ),\n",
    "    yaxis=dict(\n",
    "        showgrid=True,   \n",
    "        gridcolor='rgba(0, 0, 0, 0.2)', \n",
    "    ),\n",
    ")\n",
    "\n",
    "def plot_emp(industry):\n",
    "    for trace in fig.data:\n",
    "        trace.visible = (trace.name == industry)\n",
    "\n",
    "    clear_output(wait=True)\n",
    "    fig.show()   \n",
    "    display(industry_dropdown)\n",
    "\n",
    "industry_menu = widgets.Dropdown(options=int_labor_p.columns, description='industry:')\n",
    "industry_menu.observe(lambda change: plot_emp(change.new), names='value')\n",
    "\n",
    "clear_output(wait=True)\n",
    "fig.show()\n",
    "display(industry_menu)"
   ]
  },
  {
   "cell_type": "markdown",
   "metadata": {},
   "source": [
    "Using the dropdown menu on the left, it allows to shift through all industries. \n",
    "\n",
    "The sub-industries of information and communication, research and consultancy, and transport show a clear upwards trend in international labor, while the overall industry and all other sub-industries show a slight downwards trend after mid/end 2023. It appears, however, that this negative trend is due to seasonal correlation when compared to previous years."
   ]
  },
  {
   "cell_type": "markdown",
   "metadata": {},
   "source": [
    "## <a id='toc5_'></a>[Analysis](#toc5_)"
   ]
  },
  {
   "cell_type": "markdown",
   "metadata": {},
   "source": [
    "To further our analysis, we would like to investigate the relationship between amount of international workers in the service industry and the labor shortage. We would therefor like to merge our datasets from Jobindsats with the data from DST. In the next part, we look at the two respective datasets and then attempt to merge them."
   ]
  },
  {
   "cell_type": "code",
   "execution_count": 23,
   "metadata": {},
   "outputs": [
    {
     "name": "stdout",
     "output_type": "stream",
     "text": [
      "Dates in empl_industry: <DatetimeArray>\n",
      "['2022-07-01 00:00:00', '2023-12-01 00:00:00', '2014-05-01 00:00:00',\n",
      " '2021-10-01 00:00:00', '2023-06-01 00:00:00', '2017-08-01 00:00:00',\n",
      " '2018-06-01 00:00:00', '2017-12-01 00:00:00', '2023-08-01 00:00:00',\n",
      " '2017-07-01 00:00:00',\n",
      " ...\n",
      " '2020-06-01 00:00:00', '2014-11-01 00:00:00', '2016-04-01 00:00:00',\n",
      " '2023-07-01 00:00:00', '2014-10-01 00:00:00', '2016-05-01 00:00:00',\n",
      " '2019-05-01 00:00:00', '2022-09-01 00:00:00', '2023-02-01 00:00:00',\n",
      " '2015-11-01 00:00:00']\n",
      "Length: 121, dtype: datetime64[ns]\n",
      "Industries in empl_industry = ['hotels_restaurants' 'research_consultancy' 'cleaning_etc'\n",
      " 'culture_leisure' 'transport' 'information_communication'\n",
      " 'finance_insurance' 'real_estate' 'other_services'], total = 9\n",
      "Dates in int_lb: <DatetimeArray>\n",
      "['2014-01-01 00:00:00', '2014-02-01 00:00:00', '2014-03-01 00:00:00',\n",
      " '2014-04-01 00:00:00', '2014-05-01 00:00:00', '2014-06-01 00:00:00',\n",
      " '2014-07-01 00:00:00', '2014-08-01 00:00:00', '2014-09-01 00:00:00',\n",
      " '2014-10-01 00:00:00',\n",
      " ...\n",
      " '2023-04-01 00:00:00', '2023-05-01 00:00:00', '2023-06-01 00:00:00',\n",
      " '2023-07-01 00:00:00', '2023-08-01 00:00:00', '2023-09-01 00:00:00',\n",
      " '2023-10-01 00:00:00', '2023-11-01 00:00:00', '2023-12-01 00:00:00',\n",
      " '2024-01-01 00:00:00']\n",
      "Length: 121, dtype: datetime64[ns]\n",
      "Industries in int_lb = ['research_consultancy' 'transport' 'other_services' 'culture_leisure'\n",
      " 'finance_insurance' 'real_estate' 'information_communication'\n",
      " 'hotels_restaurants' 'cleaning_etc'], total = 9\n",
      "dates in employment data, but not in international workers data: []\n",
      "industries in empl_industry data, but not in international workers data: []\n",
      "The datasets contain the same time and industry variables, and we can move forward with the merge.\n"
     ]
    }
   ],
   "source": [
    "# The data we need from Jobindsats was imported in the very beginning of the project as \"int_labor\". \n",
    "# This data has NOT been pivoted, but is cleaned and ready to be used for this part of the analysis.\n",
    "# The data we need from DST is the same as we've previously imported. \n",
    "# However, we need some other variables this time. We therefor use a similar but slightly different cleaning process:\n",
    "empl_industry = dataproject.dst_empl_merging(employees)\n",
    "\n",
    "# To be able to merge the two datasets without unexpected problems or missing values, we do a quick check:\n",
    "dataproject.checking_data(int_labor,empl_industry)"
   ]
  },
  {
   "cell_type": "code",
   "execution_count": 24,
   "metadata": {},
   "outputs": [
    {
     "name": "stdout",
     "output_type": "stream",
     "text": [
      "Merge succesfull, the dataset now contains data on both total amount of employees and international employees\n"
     ]
    },
    {
     "data": {
      "text/html": [
       "<div>\n",
       "<style scoped>\n",
       "    .dataframe tbody tr th:only-of-type {\n",
       "        vertical-align: middle;\n",
       "    }\n",
       "\n",
       "    .dataframe tbody tr th {\n",
       "        vertical-align: top;\n",
       "    }\n",
       "\n",
       "    .dataframe thead th {\n",
       "        text-align: right;\n",
       "    }\n",
       "</style>\n",
       "<table border=\"1\" class=\"dataframe\">\n",
       "  <thead>\n",
       "    <tr style=\"text-align: right;\">\n",
       "      <th></th>\n",
       "      <th>industry</th>\n",
       "      <th>time</th>\n",
       "      <th>employees</th>\n",
       "      <th>int_empl</th>\n",
       "    </tr>\n",
       "  </thead>\n",
       "  <tbody>\n",
       "    <tr>\n",
       "      <th>0</th>\n",
       "      <td>hotels_restaurants</td>\n",
       "      <td>2022-07-01</td>\n",
       "      <td>130086</td>\n",
       "      <td>36922</td>\n",
       "    </tr>\n",
       "    <tr>\n",
       "      <th>1</th>\n",
       "      <td>research_consultancy</td>\n",
       "      <td>2022-07-01</td>\n",
       "      <td>174720</td>\n",
       "      <td>19565</td>\n",
       "    </tr>\n",
       "    <tr>\n",
       "      <th>2</th>\n",
       "      <td>cleaning_etc</td>\n",
       "      <td>2022-07-01</td>\n",
       "      <td>162164</td>\n",
       "      <td>56309</td>\n",
       "    </tr>\n",
       "    <tr>\n",
       "      <th>3</th>\n",
       "      <td>culture_leisure</td>\n",
       "      <td>2022-07-01</td>\n",
       "      <td>123922</td>\n",
       "      <td>5081</td>\n",
       "    </tr>\n",
       "    <tr>\n",
       "      <th>4</th>\n",
       "      <td>transport</td>\n",
       "      <td>2022-07-01</td>\n",
       "      <td>730955</td>\n",
       "      <td>25352</td>\n",
       "    </tr>\n",
       "  </tbody>\n",
       "</table>\n",
       "</div>"
      ],
      "text/plain": [
       "               industry       time  employees  int_empl\n",
       "0    hotels_restaurants 2022-07-01     130086     36922\n",
       "1  research_consultancy 2022-07-01     174720     19565\n",
       "2          cleaning_etc 2022-07-01     162164     56309\n",
       "3       culture_leisure 2022-07-01     123922      5081\n",
       "4             transport 2022-07-01     730955     25352"
      ]
     },
     "metadata": {},
     "output_type": "display_data"
    },
    {
     "name": "stdout",
     "output_type": "stream",
     "text": [
      "Industries in the merged dataset: ['hotels_restaurants' 'research_consultancy' 'cleaning_etc'\n",
      " 'culture_leisure' 'transport' 'information_communication'\n",
      " 'finance_insurance' 'real_estate' 'other_services'], total = 9\n"
     ]
    }
   ],
   "source": [
    "merged = dataproject.merging_datasets(int_labor,empl_industry)"
   ]
  },
  {
   "cell_type": "code",
   "execution_count": 25,
   "metadata": {},
   "outputs": [
    {
     "data": {
      "text/html": [
       "<div>\n",
       "<style scoped>\n",
       "    .dataframe tbody tr th:only-of-type {\n",
       "        vertical-align: middle;\n",
       "    }\n",
       "\n",
       "    .dataframe tbody tr th {\n",
       "        vertical-align: top;\n",
       "    }\n",
       "\n",
       "    .dataframe thead th {\n",
       "        text-align: right;\n",
       "    }\n",
       "</style>\n",
       "<table border=\"1\" class=\"dataframe\">\n",
       "  <thead>\n",
       "    <tr style=\"text-align: right;\">\n",
       "      <th></th>\n",
       "      <th>industry</th>\n",
       "      <th>time</th>\n",
       "      <th>employees</th>\n",
       "      <th>int_empl</th>\n",
       "      <th>share</th>\n",
       "      <th>percentage</th>\n",
       "    </tr>\n",
       "  </thead>\n",
       "  <tbody>\n",
       "    <tr>\n",
       "      <th>0</th>\n",
       "      <td>hotels_restaurants</td>\n",
       "      <td>2022-07-01</td>\n",
       "      <td>130086</td>\n",
       "      <td>36922</td>\n",
       "      <td>0.283828</td>\n",
       "      <td>28.382762</td>\n",
       "    </tr>\n",
       "    <tr>\n",
       "      <th>1</th>\n",
       "      <td>research_consultancy</td>\n",
       "      <td>2022-07-01</td>\n",
       "      <td>174720</td>\n",
       "      <td>19565</td>\n",
       "      <td>0.111979</td>\n",
       "      <td>11.197917</td>\n",
       "    </tr>\n",
       "    <tr>\n",
       "      <th>2</th>\n",
       "      <td>cleaning_etc</td>\n",
       "      <td>2022-07-01</td>\n",
       "      <td>162164</td>\n",
       "      <td>56309</td>\n",
       "      <td>0.347235</td>\n",
       "      <td>34.723490</td>\n",
       "    </tr>\n",
       "    <tr>\n",
       "      <th>3</th>\n",
       "      <td>culture_leisure</td>\n",
       "      <td>2022-07-01</td>\n",
       "      <td>123922</td>\n",
       "      <td>5081</td>\n",
       "      <td>0.041002</td>\n",
       "      <td>4.100160</td>\n",
       "    </tr>\n",
       "    <tr>\n",
       "      <th>4</th>\n",
       "      <td>transport</td>\n",
       "      <td>2022-07-01</td>\n",
       "      <td>730955</td>\n",
       "      <td>25352</td>\n",
       "      <td>0.034683</td>\n",
       "      <td>3.468339</td>\n",
       "    </tr>\n",
       "  </tbody>\n",
       "</table>\n",
       "</div>"
      ],
      "text/plain": [
       "               industry       time  employees  int_empl     share  percentage\n",
       "0    hotels_restaurants 2022-07-01     130086     36922  0.283828   28.382762\n",
       "1  research_consultancy 2022-07-01     174720     19565  0.111979   11.197917\n",
       "2          cleaning_etc 2022-07-01     162164     56309  0.347235   34.723490\n",
       "3       culture_leisure 2022-07-01     123922      5081  0.041002    4.100160\n",
       "4             transport 2022-07-01     730955     25352  0.034683    3.468339"
      ]
     },
     "metadata": {},
     "output_type": "display_data"
    }
   ],
   "source": [
    "# Adding a new column of observations: the respective share of international employees in each industry\n",
    "merged['share'] = merged['int_empl'] / merged['employees']\n",
    "merged['percentage'] = merged['share'].multiply(100)\n",
    "display(merged.head(5))"
   ]
  },
  {
   "cell_type": "markdown",
   "metadata": {},
   "source": [
    "**A figure showing the proportion of foreign labor and labor shortage in the service industry**"
   ]
  },
  {
   "cell_type": "code",
   "execution_count": 38,
   "metadata": {},
   "outputs": [
    {
     "data": {
      "image/png": "[encoded data removed]",
      "text/plain": [
       "<Figure size 1000x600 with 1 Axes>"
      ]
     },
     "metadata": {},
     "output_type": "display_data"
    }
   ],
   "source": [
    "merged['industry'] = merged['industry'].replace('hotels_restaurents', 'Hotels and Restaurants')\n",
    "\n",
    "# real_estate and finance_insurance combined to finance_real_estate in 'merged' dataset\n",
    "merged.loc[merged['industry'].isin(['real_estate', 'finance_insurance']), 'industry'] = 'finance_real_estate'\n",
    "\n",
    "# Aggregating the percentages values for finance_real_estate\n",
    "merged = merged.groupby(['industry', 'time']).sum().reset_index()\n",
    "\n",
    "# Indexing\n",
    "finance_real_estate_index = merged[merged['industry'] == 'finance_real_estate'].index\n",
    "\n",
    "# Calculating the mean to find the correct values for finance_real_estate\n",
    "merged.loc[finance_real_estate_index, 'percentage'] /= 2\n",
    "\n",
    "# We find the latest year\n",
    "last_year = merged['time'].dt.year.max()\n",
    "last_year_data = merged[merged['time'].dt.year == last_year]\n",
    "\n",
    "# We find percentage of international employees and labor shortage by merging the two datasets\n",
    "merged_last_year = pd.merge(last_year_data, lab_short_service, on=['industry', 'time'])\n",
    "\n",
    "# Sort the industries\n",
    "merged_last_year = merged_last_year.sort_values(by='industry')\n",
    "\n",
    "merged_last_year.set_index('industry', inplace=True)\n",
    "\n",
    "# Creating the figure\n",
    "fig, ax = plt.subplots(figsize=(10, 6))\n",
    "\n",
    "# Plotting both percentage of international employees and labor shortage\n",
    "merged_last_year['labor_shortage'].plot(kind='bar', color='mediumpurple', ax=ax, position=0, width=0.4, label='Labor Shortage')\n",
    "merged_last_year['percentage'].plot(kind='bar', color='indigo', ax=ax, position=1, width=0.4, label='International Employees')\n",
    "\n",
    "ax.set_ylabel('Count / Percentage')\n",
    "ax.set_xlabel('Industry')\n",
    "plt.xticks(rotation=45, ha='right')\n",
    "ax.set_title(f'Comparison of labor shortage and international employees in service industries({last_year})')\n",
    "ax.legend(loc='upper left', bbox_to_anchor=(1, 1))\n",
    "\n",
    "plt.tight_layout()\n",
    "plt.show()"
   ]
  },
  {
   "cell_type": "markdown",
   "metadata": {},
   "source": [
    "## <a id='toc6_'></a>[Conclusion](#toc6_)"
   ]
  },
  {
   "cell_type": "markdown",
   "metadata": {},
   "source": [
    "In conclusion, reqruiting international workers to Denmark is an effort that can greatly benefit the Danish economy: International workers already make up a large share of the cleaning and hotel/restauration industries, which also score high in the labor shortage statistic, making them invaluable in keeping the problem at bay. We believe that increasing the scope of internationnal work in the country can help remedy labor shortage in other industries as well, which is why it is so important to create policies to increase the international work force in Denmark\n",
    "\n",
    "This can be done by creating better conditions in and easier access to the Danish labor market for international citizens as well as pushing employers to broaden their horizons and utilize the international labor to decrease the lack of labor.\n",
    "\n",
    "Lastly, note that the high labor shortage in 2024 may be influenced by the epidemic, which had a big impact on the labor market. Therefore, some reservations should be taken regarding these statistics."
   ]
  }
 ],
 "metadata": {
  "kernelspec": {
   "display_name": "base",
   "language": "python",
   "name": "python3"
  },
  "language_info": {
   "codemirror_mode": {
    "name": "ipython",
    "version": 3
   },
   "file_extension": ".py",
   "mimetype": "text/x-python",
   "name": "python",
   "nbconvert_exporter": "python",
   "pygments_lexer": "ipython3",
   "version": "3.11.7"
  },
  "toc-autonumbering": true,
  "vscode": {
   "interpreter": {
    "hash": "47ef90cdf3004d3f859f1fb202523c65c07ba7c22eefd261b181f4744e2d0403"
   }
  }
 },
 "nbformat": 4,
 "nbformat_minor": 4
}
