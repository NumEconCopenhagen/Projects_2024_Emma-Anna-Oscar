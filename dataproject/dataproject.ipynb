{
 "cells": [
  {
   "cell_type": "markdown",
   "metadata": {},
   "source": [
    "# **DATA PROJECT 2024: DO INTERENATIONAL WORKERS IN DENMARK REMEDY LABOR SHORTAGE?**\n",
    "\n",
    "By Emma Knippel, Anna Abildsjov and Oscar Nyholm"
   ]
  },
  {
   "cell_type": "markdown",
   "metadata": {},
   "source": [
    "# Table of contents\n",
    "* [Setup](#toc0_)   \n",
    "\n",
    "* [Introduction](#toc1_) \n",
    "\n",
    "* [Read and clean data](#toc2_)    \n",
    "\n",
    "* [Exploring the data sets](#toc3_)    \n",
    "\n",
    "* [Merging data sets of employment and international labor](#toc4_)   \n",
    "\n",
    "* [Analysis](#toc5_) \n",
    "\n",
    "* [Conclusion](#toc6_) "
   ]
  },
  {
   "cell_type": "markdown",
   "metadata": {},
   "source": [
    "## <a id='toc0_'></a>[Setup](#toc0_)"
   ]
  },
  {
   "cell_type": "code",
   "execution_count": 15,
   "metadata": {},
   "outputs": [
    {
     "name": "stdout",
     "output_type": "stream",
     "text": [
      "The autoreload extension is already loaded. To reload it, use:\n",
      "  %reload_ext autoreload\n"
     ]
    }
   ],
   "source": [
    "import pandas as pd\n",
    "import numpy as np\n",
    "import matplotlib.pyplot as plt\n",
    "import ipywidgets as widgets\n",
    "from matplotlib_venn import venn2\n",
    "import json\n",
    "\n",
    "# autoreload modules when code is run\n",
    "%load_ext autoreload\n",
    "%autoreload 2\n"
   ]
  },
  {
   "cell_type": "code",
   "execution_count": 16,
   "metadata": {},
   "outputs": [
    {
     "name": "stdout",
     "output_type": "stream",
     "text": [
      "Collecting git+https://github.com/alemartinello/dstapi\n",
      "  Cloning https://github.com/alemartinello/dstapi to /private/var/folders/24/czmv85dj1_3dcc2tc4x8kd0r0000gn/T/pip-req-build-2dcypd8b\n",
      "  Running command git clone --quiet https://github.com/alemartinello/dstapi /private/var/folders/24/czmv85dj1_3dcc2tc4x8kd0r0000gn/T/pip-req-build-2dcypd8b\n",
      "  Resolved https://github.com/alemartinello/dstapi to commit d9eeb5a82cbc70b7d63b2ff44d92632fd77123a4\n",
      "  Preparing metadata (setup.py) ... \u001b[?25ldone\n",
      "\u001b[?25hRequirement already satisfied: pandas in /Users/emmaknippel/anaconda3/lib/python3.11/site-packages (from dstapi==0.2) (2.1.4)\n",
      "Requirement already satisfied: requests in /Users/emmaknippel/anaconda3/lib/python3.11/site-packages (from dstapi==0.2) (2.31.0)\n",
      "Requirement already satisfied: numpy<2,>=1.23.2 in /Users/emmaknippel/anaconda3/lib/python3.11/site-packages (from pandas->dstapi==0.2) (1.26.3)\n",
      "Requirement already satisfied: python-dateutil>=2.8.2 in /Users/emmaknippel/anaconda3/lib/python3.11/site-packages (from pandas->dstapi==0.2) (2.8.2)\n",
      "Requirement already satisfied: pytz>=2020.1 in /Users/emmaknippel/anaconda3/lib/python3.11/site-packages (from pandas->dstapi==0.2) (2023.3.post1)\n",
      "Requirement already satisfied: tzdata>=2022.1 in /Users/emmaknippel/anaconda3/lib/python3.11/site-packages (from pandas->dstapi==0.2) (2023.3)\n",
      "Requirement already satisfied: charset-normalizer<4,>=2 in /Users/emmaknippel/anaconda3/lib/python3.11/site-packages (from requests->dstapi==0.2) (2.0.4)\n",
      "Requirement already satisfied: idna<4,>=2.5 in /Users/emmaknippel/anaconda3/lib/python3.11/site-packages (from requests->dstapi==0.2) (3.4)\n",
      "Requirement already satisfied: urllib3<3,>=1.21.1 in /Users/emmaknippel/anaconda3/lib/python3.11/site-packages (from requests->dstapi==0.2) (1.26.18)\n",
      "Requirement already satisfied: certifi>=2017.4.17 in /Users/emmaknippel/anaconda3/lib/python3.11/site-packages (from requests->dstapi==0.2) (2024.2.2)\n",
      "Requirement already satisfied: six>=1.5 in /Users/emmaknippel/anaconda3/lib/python3.11/site-packages (from python-dateutil>=2.8.2->pandas->dstapi==0.2) (1.16.0)\n",
      "Note: you may need to restart the kernel to use updated packages.\n",
      "Requirement already satisfied: pandas-datareader in /Users/emmaknippel/anaconda3/lib/python3.11/site-packages (0.10.0)\n",
      "Requirement already satisfied: lxml in /Users/emmaknippel/anaconda3/lib/python3.11/site-packages (from pandas-datareader) (4.9.3)\n",
      "Requirement already satisfied: pandas>=0.23 in /Users/emmaknippel/anaconda3/lib/python3.11/site-packages (from pandas-datareader) (2.1.4)\n",
      "Requirement already satisfied: requests>=2.19.0 in /Users/emmaknippel/anaconda3/lib/python3.11/site-packages (from pandas-datareader) (2.31.0)\n",
      "Requirement already satisfied: numpy<2,>=1.23.2 in /Users/emmaknippel/anaconda3/lib/python3.11/site-packages (from pandas>=0.23->pandas-datareader) (1.26.3)\n",
      "Requirement already satisfied: python-dateutil>=2.8.2 in /Users/emmaknippel/anaconda3/lib/python3.11/site-packages (from pandas>=0.23->pandas-datareader) (2.8.2)\n",
      "Requirement already satisfied: pytz>=2020.1 in /Users/emmaknippel/anaconda3/lib/python3.11/site-packages (from pandas>=0.23->pandas-datareader) (2023.3.post1)\n",
      "Requirement already satisfied: tzdata>=2022.1 in /Users/emmaknippel/anaconda3/lib/python3.11/site-packages (from pandas>=0.23->pandas-datareader) (2023.3)\n",
      "Requirement already satisfied: charset-normalizer<4,>=2 in /Users/emmaknippel/anaconda3/lib/python3.11/site-packages (from requests>=2.19.0->pandas-datareader) (2.0.4)\n",
      "Requirement already satisfied: idna<4,>=2.5 in /Users/emmaknippel/anaconda3/lib/python3.11/site-packages (from requests>=2.19.0->pandas-datareader) (3.4)\n",
      "Requirement already satisfied: urllib3<3,>=1.21.1 in /Users/emmaknippel/anaconda3/lib/python3.11/site-packages (from requests>=2.19.0->pandas-datareader) (1.26.18)\n",
      "Requirement already satisfied: certifi>=2017.4.17 in /Users/emmaknippel/anaconda3/lib/python3.11/site-packages (from requests>=2.19.0->pandas-datareader) (2024.2.2)\n",
      "Requirement already satisfied: six>=1.5 in /Users/emmaknippel/anaconda3/lib/python3.11/site-packages (from python-dateutil>=2.8.2->pandas>=0.23->pandas-datareader) (1.16.0)\n",
      "Note: you may need to restart the kernel to use updated packages.\n"
     ]
    }
   ],
   "source": [
    "# installing API reader, that will allow to load data from DST.\n",
    "%pip install git+https://github.com/alemartinello/dstapi\n",
    "%pip install pandas-datareader\n",
    "\n",
    "import pandas_datareader # install with `pip install pandas-datareader`\n",
    "from dstapi import DstApi # install with `pip install git+https://github.com/alemartinello/dstapi`\n",
    "\n",
    "import dataproject #importing our own py-file with our code."
   ]
  },
  {
   "cell_type": "markdown",
   "metadata": {},
   "source": [
    "## <a id='toc1_'></a>[Introduction](#toc1_)"
   ]
  },
  {
   "cell_type": "markdown",
   "metadata": {},
   "source": []
  },
  {
   "cell_type": "markdown",
   "metadata": {},
   "source": [
    "## <a id='toc1_'></a>[Read and clean data](#toc1_)"
   ]
  },
  {
   "cell_type": "markdown",
   "metadata": {},
   "source": []
  },
  {
   "cell_type": "code",
   "execution_count": null,
   "metadata": {},
   "outputs": [],
   "source": [
    "# importing the actual data from DST\n",
    "employees = DstApi('LBESK03')\n",
    "lb_short_service = DstApi('KBS2')\n",
    "lb_short_manu = DstApi('BARO3')\n",
    "lb_short_cons = DstApi('KBYG33')\n",
    "with open('International Labor.json', 'r') as f:\n",
    "    int_data = json.load(f)\n",
    "int_lb = pd.DataFrame(int_data)"
   ]
  },
  {
   "cell_type": "code",
   "execution_count": 2,
   "metadata": {},
   "outputs": [
    {
     "ename": "NameError",
     "evalue": "name 'employees' is not defined",
     "output_type": "error",
     "traceback": [
      "\u001b[0;31m---------------------------------------------------------------------------\u001b[0m",
      "\u001b[0;31mNameError\u001b[0m                                 Traceback (most recent call last)",
      "Cell \u001b[0;32mIn[2], line 1\u001b[0m\n\u001b[0;32m----> 1\u001b[0m tabsum \u001b[38;5;241m=\u001b[39m employees\u001b[38;5;241m.\u001b[39mtablesummary(language \u001b[38;5;241m=\u001b[39m \u001b[38;5;124m'\u001b[39m\u001b[38;5;124men\u001b[39m\u001b[38;5;124m'\u001b[39m)\n\u001b[1;32m      2\u001b[0m display(tabsum)\n\u001b[1;32m      3\u001b[0m \u001b[38;5;28;01mfor\u001b[39;00m variable \u001b[38;5;129;01min\u001b[39;00m tabsum[\u001b[38;5;124m'\u001b[39m\u001b[38;5;124mvariable name\u001b[39m\u001b[38;5;124m'\u001b[39m]:\n",
      "\u001b[0;31mNameError\u001b[0m: name 'employees' is not defined"
     ]
    }
   ],
   "source": [
    "tabsum = employees.tablesummary(language = 'en')\n",
    "display(tabsum)\n",
    "for variable in tabsum['variable name']:\n",
    "    print(variable+':')\n",
    "    display(employees.variable_levels(variable, language='en'))"
   ]
  },
  {
   "cell_type": "code",
   "execution_count": null,
   "metadata": {},
   "outputs": [],
   "source": [
    "tabsum2 = lb_short_service.tablesummary(language = 'en')\n",
    "display(tabsum2)\n",
    "for variable in tabsum2['variable name']:\n",
    "    print(variable+':')\n",
    "    display(lb_short_service.variable_levels(variable, language='en'))"
   ]
  },
  {
   "cell_type": "code",
   "execution_count": null,
   "metadata": {},
   "outputs": [],
   "source": [
    "tabsum3 = lb_short_manu.tablesummary(language = 'en')\n",
    "display(tabsum3)\n",
    "for variable in tabsum3['variable name']:\n",
    "    print(variable+':')\n",
    "    display(lb_short_manu.variable_levels(variable, language='en'))"
   ]
  },
  {
   "cell_type": "code",
   "execution_count": null,
   "metadata": {},
   "outputs": [],
   "source": [
    "tabsum4 = lb_short_cons.tablesummary(language = 'en')\n",
    "display(tabsum4)\n",
    "for variable in tabsum4['variable name']:\n",
    "    print(variable+':')\n",
    "    display(lb_short_cons.variable_levels(variable, language='en'))"
   ]
  },
  {
   "cell_type": "code",
   "execution_count": null,
   "metadata": {},
   "outputs": [],
   "source": [
    "params = employees._define_base_params(language='en')\n",
    "\n",
    "# For the employment data, we first define our parameters so that we get only data from january 2014 to january 2024.\n",
    "params = {'table': 'LBESK03',\n",
    " 'format': 'BULK',\n",
    " 'lang': 'en',\n",
    " 'variables': [{'code': 'BRANCHEDB071038', 'values': ['*']},\n",
    "  {'code': 'Tid', 'values': ['>2013M12<=2024M01']}]}\n",
    "\n",
    "# Then, we retract the data we defined, drop the column of industry since we do not need it and rename the columns to english, simple titles.\n",
    "empl = employees.get_data(params=params)\n",
    "empl.drop(['BRANCHEDB071038'], axis=1, inplace=True)\n",
    "empl.rename(columns = {'INDHOLD':'employees', 'TID':'time'}, inplace=True)\n",
    "empl.head(5)"
   ]
  },
  {
   "cell_type": "code",
   "execution_count": null,
   "metadata": {},
   "outputs": [],
   "source": [
    "params2 = lb_short_service._define_base_params(language='en')\n",
    "\n",
    "# For the labor shortaage data, we need to sort through the dataset a bit more when defining out variables:\n",
    "# We need to specify which industries we want to get data from, since the dataset contains both broad and narrow categories.\n",
    "#Furhtermore, we want to get data only for the labor shortage and from january 2014 to january 2024.\n",
    "params2 = {'table': 'KBS2',\n",
    " 'format': 'BULK',\n",
    " 'lang': 'en',\n",
    " 'variables': [{'code': 'BRANCHE07', 'values': [\n",
    "     '000',\n",
    "     '005',\n",
    "     '015',\n",
    "     '035',\n",
    "     '045',\n",
    "     '060',\n",
    "     '065',\n",
    "     '080'\n",
    " ]},\n",
    "  {'code': 'TYPE', 'values': ['MAAK']},\n",
    "  {'code': 'Tid', 'values': ['>2013M12<=2024M01']}]}\n",
    "\n",
    "# We retrieve the parameters and sort the data by time and industry.\n",
    "lab_short_service = lb_short_service.get_data(params=params2)\n",
    "lab_short_service.sort_values(by = ['TID', 'BRANCHE07'], inplace=True)\n",
    "\n",
    "# Then, we drop the column 'TYPE', since we only have data for the labor shortage anyways, and this column would otherwise be used to split the data into diffeereeent categories of production limitations.\n",
    "# We rename the columns to english, simple titles, and the rows to the industry names rather than the industry codes.\n",
    "# We also drop the old index and reset it.\n",
    "lab_short_service.drop(['TYPE'], axis = 1, inplace = True)\n",
    "lab_short_service.rename(columns = {'BRANCHE07':'industry', 'TID':'Time', 'INDHOLD':'Labor Shortage'}, inplace=True)\n",
    "lab_short_service.reset_index(drop=True, inplace=True)\n",
    "lab_short_service.head(10)"
   ]
  },
  {
   "cell_type": "code",
   "execution_count": null,
   "metadata": {},
   "outputs": [],
   "source": [
    "lab_short_service['industry'] = lab_short_service.industry.replace({\n",
    "    '000':'Total','SERVICES TOTAL':'Total',\n",
    "    '005':'Transport','TRANSPORT (49-53)':'Transport',\n",
    "    '015':'Hotels and restaurants','TOURISME (55-56, 79)': 'Hotels and restaurants',\n",
    "    '035':'Information and communication','COMMUNICATION AND INFORMATION (58, 61-63)':'Information and communication',\n",
    "    '045':'Finance and real estate','FINANCE, INSURANCE AND REAL ESTATE (64-65, 68)': 'Finance and real estate',\n",
    "    '060':'Research and consultancy','CONSULTANCY, RESEARCH AND OTHERS (69-74)':'Research and consultancy',\n",
    "    '065':'Cleaning etc.', 'CLEANING AND OTHER OPERATIONEL SERVICE (77-78, 81-82)':'Cleaning etc.',\n",
    "    '080':'Culture and leisure','ARTS, RECREATION AND OTHER SERVICES (90-95)':'Culture and leisure',\n",
    "    })\n",
    "\n",
    "lab_short_service.head(100)\n"
   ]
  },
  {
   "cell_type": "code",
   "execution_count": null,
   "metadata": {},
   "outputs": [],
   "source": [
    "params3 = lb_short_manu._define_base_params(language='en')\n",
    "\n",
    "params3 = {'table': 'BARO3',\n",
    " 'format': 'BULK',\n",
    " 'lang': 'en',\n",
    " 'variables': [{'code': 'BRANCHE07', 'values': ['C']},\n",
    "  {'code': 'TYPE', 'values': ['AMA']},\n",
    "  {'code': 'Tid', 'values': ['>2013K4<=2024K1']}]}\n",
    "\n",
    "lab_short_manu = lb_short_manu.get_data(params=params3)\n",
    "lab_short_manu.sort_values(by = ['TID'], inplace=True)\n",
    "lab_short_manu.rename(columns={'BRANCHE07': 'Industry', 'TID': 'Time', 'INDHOLD': 'Labor Shortage'}, inplace=True)\n",
    "lab_short_manu.reset_index(drop=True, inplace=True)\n",
    "lab_short_manu['Time'] = pd.to_datetime(lab_short_manu['Time'], format='mixed')\n",
    "lab_short_manu.head(10)"
   ]
  },
  {
   "cell_type": "code",
   "execution_count": null,
   "metadata": {},
   "outputs": [],
   "source": [
    "params4 = lb_short_cons._define_base_params(language='en')\n",
    "\n",
    "params4 = {'table': 'KBYG33',\n",
    " 'format': 'BULK',\n",
    " 'lang': 'en',\n",
    " 'variables': [{'code': 'BRANCHE07', 'values': ['F']},\n",
    "  {'code': 'TYPE', 'values': ['AMA']},\n",
    "  {'code': 'Tid', 'values': ['>2013M12<=2024M01']}]}\n",
    "\n",
    "lab_short_cons = lb_short_cons.get_data(params=params4)\n",
    "lab_short_cons.sort_values(by = ['TID'], inplace=True)\n",
    "lab_short_cons.rename(columns={'BRANCHE07': 'Industry', 'TID': 'Time', 'INDHOLD': 'Labor Shortage'}, inplace=True)\n",
    "lab_short_cons.reset_index(drop=True, inplace=True)\n",
    "lab_short_cons['Time'] = pd.to_datetime(lab_short_cons['Time'], format='%YM%m')\n",
    "lab_short_cons.head(5)"
   ]
  },
  {
   "cell_type": "markdown",
   "metadata": {},
   "source": [
    "**Cleaning the data on International workers sorted from JobIndsats**"
   ]
  },
  {
   "cell_type": "code",
   "execution_count": 14,
   "metadata": {},
   "outputs": [
    {
     "name": "stdout",
     "output_type": "stream",
     "text": [
      "Before cleaning, the JSON datafile from JobIndsats contains 1089 observations and 5 variables.\n",
      "We have removed two columns and renamed the remaining.\n",
      "The dataset now contains 1089 observations and 3 variables.\n",
      "All our observations are of type: <class 'str'>. We want them to be integers.\n",
      "The observations are now of type: <class 'numpy.float64'> and the first observation is: 2.184\n",
      "The observations are now of type: <class 'numpy.int64'> and the first observation is: 2184\n",
      "We convert our time Variable into datetime variables.\n",
      "We now convert the DataFrame using the .pivot method, using time as index, industries as columns and international labor as our observations.\n",
      "All our industries are in Danish, so we rename them to English.\n",
      "For our dataset to match the data from DST, we sum over all industries to get the total and combine four of the industires so that they match\n",
      "Lastly, we drop the industries, that we have just combined to make new ones.\n",
      "The cleaned dataset now contains 8 columns (industries) and 121 observations\n"
     ]
    },
    {
     "data": {
      "text/html": [
       "<div>\n",
       "<style scoped>\n",
       "    .dataframe tbody tr th:only-of-type {\n",
       "        vertical-align: middle;\n",
       "    }\n",
       "\n",
       "    .dataframe tbody tr th {\n",
       "        vertical-align: top;\n",
       "    }\n",
       "\n",
       "    .dataframe thead th {\n",
       "        text-align: right;\n",
       "    }\n",
       "</style>\n",
       "<table border=\"1\" class=\"dataframe\">\n",
       "  <thead>\n",
       "    <tr style=\"text-align: right;\">\n",
       "      <th>industry</th>\n",
       "      <th>hotels_restaurents</th>\n",
       "      <th>information_communictaion</th>\n",
       "      <th>cleaning_etc</th>\n",
       "      <th>transport</th>\n",
       "      <th>research_consultancy</th>\n",
       "      <th>total</th>\n",
       "      <th>finance_real_estate</th>\n",
       "      <th>culture_leisure_other</th>\n",
       "    </tr>\n",
       "    <tr>\n",
       "      <th>time</th>\n",
       "      <th></th>\n",
       "      <th></th>\n",
       "      <th></th>\n",
       "      <th></th>\n",
       "      <th></th>\n",
       "      <th></th>\n",
       "      <th></th>\n",
       "      <th></th>\n",
       "    </tr>\n",
       "  </thead>\n",
       "  <tbody>\n",
       "    <tr>\n",
       "      <th>2014M01</th>\n",
       "      <td>17609</td>\n",
       "      <td>6657</td>\n",
       "      <td>26549</td>\n",
       "      <td>14777</td>\n",
       "      <td>9039</td>\n",
       "      <td>86158</td>\n",
       "      <td>4684</td>\n",
       "      <td>6843</td>\n",
       "    </tr>\n",
       "    <tr>\n",
       "      <th>2014M02</th>\n",
       "      <td>17957</td>\n",
       "      <td>6815</td>\n",
       "      <td>26792</td>\n",
       "      <td>14732</td>\n",
       "      <td>9137</td>\n",
       "      <td>86993</td>\n",
       "      <td>4690</td>\n",
       "      <td>6870</td>\n",
       "    </tr>\n",
       "    <tr>\n",
       "      <th>2014M03</th>\n",
       "      <td>18481</td>\n",
       "      <td>7001</td>\n",
       "      <td>27667</td>\n",
       "      <td>14975</td>\n",
       "      <td>9292</td>\n",
       "      <td>89550</td>\n",
       "      <td>4841</td>\n",
       "      <td>7293</td>\n",
       "    </tr>\n",
       "    <tr>\n",
       "      <th>2014M04</th>\n",
       "      <td>19209</td>\n",
       "      <td>7136</td>\n",
       "      <td>28547</td>\n",
       "      <td>15177</td>\n",
       "      <td>9611</td>\n",
       "      <td>92029</td>\n",
       "      <td>4928</td>\n",
       "      <td>7421</td>\n",
       "    </tr>\n",
       "    <tr>\n",
       "      <th>2014M05</th>\n",
       "      <td>19909</td>\n",
       "      <td>7342</td>\n",
       "      <td>29802</td>\n",
       "      <td>15380</td>\n",
       "      <td>9539</td>\n",
       "      <td>94728</td>\n",
       "      <td>5103</td>\n",
       "      <td>7653</td>\n",
       "    </tr>\n",
       "  </tbody>\n",
       "</table>\n",
       "</div>"
      ],
      "text/plain": [
       "industry  hotels_restaurents  information_communictaion  cleaning_etc  \\\n",
       "time                                                                    \n",
       "2014M01                17609                       6657         26549   \n",
       "2014M02                17957                       6815         26792   \n",
       "2014M03                18481                       7001         27667   \n",
       "2014M04                19209                       7136         28547   \n",
       "2014M05                19909                       7342         29802   \n",
       "\n",
       "industry  transport  research_consultancy  total  finance_real_estate  \\\n",
       "time                                                                    \n",
       "2014M01       14777                  9039  86158                 4684   \n",
       "2014M02       14732                  9137  86993                 4690   \n",
       "2014M03       14975                  9292  89550                 4841   \n",
       "2014M04       15177                  9611  92029                 4928   \n",
       "2014M05       15380                  9539  94728                 5103   \n",
       "\n",
       "industry  culture_leisure_other  \n",
       "time                             \n",
       "2014M01                    6843  \n",
       "2014M02                    6870  \n",
       "2014M03                    7293  \n",
       "2014M04                    7421  \n",
       "2014M05                    7653  "
      ]
     },
     "execution_count": 14,
     "metadata": {},
     "output_type": "execute_result"
    }
   ],
   "source": [
    "import dataproject\n",
    "int_labor = dataproject.clean_json_data()\n",
    "int_labor.head(5)"
   ]
  },
  {
   "cell_type": "markdown",
   "metadata": {},
   "source": [
    "## Explore each data set"
   ]
  },
  {
   "cell_type": "markdown",
   "metadata": {},
   "source": [
    "In order to be able to **explore the raw data**, you may provide **static** and **interactive plots** to show important developments "
   ]
  },
  {
   "cell_type": "markdown",
   "metadata": {},
   "source": [
    "Statisk plot af:\n",
    "- mangel på medarbejdere i de 3 sektorer, januar 2014 til januar 2024"
   ]
  },
  {
   "cell_type": "code",
   "execution_count": null,
   "metadata": {},
   "outputs": [],
   "source": [
    "data = {'Time': ['2014M01', '2014M02', '2014M03']}\n",
    "df = pd.DataFrame(data)\n",
    "\n",
    "df[['Year', 'Month']] = df['Time'].str.extract(r'(\\d{4})M(\\d{2})')\n",
    "\n",
    "df['Time'] = pd.to_datetime(df[['Year', 'Month']].assign(day=1))\n",
    "\n",
    "df.drop(['Year', 'Month'], axis=1, inplace=True)\n",
    "\n",
    "lab_short_service['Time'] = pd.to_datetime(lab_short_service['Time'], format='%YM%m')\n",
    "lab_short_manu['Time'] = pd.to_datetime(lab_short_manu['Time'], format='%Y-%m-%d')\n",
    "lab_short_cons['Time'] = pd.to_datetime(lab_short_cons['Time'], format='%Y-%m-%d')\n",
    "\n",
    "plt.plot(lab_short_service['Time'], lab_short_service['Labor Shortage'], label='Service sector')\n",
    "plt.plot(lab_short_manu['Time'], lab_short_manu['Labor Shortage'], label='Manufacturing sector')\n",
    "plt.plot(lab_short_cons['Time'], lab_short_cons['Labor Shortage'], label='Construction sector')\n",
    "\n",
    "plt.xlabel('Time')\n",
    "plt.ylabel('Labor Shortage')\n",
    "plt.title('Labor Shortage across Sectors (January 2014 - January 2024)')\n",
    "plt.legend()\n",
    "\n",
    "plt.show()\n"
   ]
  },
  {
   "cell_type": "markdown",
   "metadata": {},
   "source": [
    "**Interactive plot** :"
   ]
  },
  {
   "cell_type": "markdown",
   "metadata": {},
   "source": [
    "Her skal vi have udviklingen i antal internationale medarbejdere i hver af servicebrancherne med drop-down"
   ]
  },
  {
   "cell_type": "code",
   "execution_count": null,
   "metadata": {},
   "outputs": [],
   "source": [
    "def plot_func():\n",
    "    # Function that operates on data set\n",
    "    pass\n",
    "\n",
    "widgets.interact(plot_func, \n",
    "    # Let the widget interact with data through plot_func()    \n",
    "); \n"
   ]
  },
  {
   "cell_type": "markdown",
   "metadata": {},
   "source": [
    "Explain what you see when moving elements of the interactive plot around. "
   ]
  },
  {
   "cell_type": "markdown",
   "metadata": {},
   "source": [
    "# Analysis"
   ]
  },
  {
   "cell_type": "markdown",
   "metadata": {},
   "source": [
    "To get a quick overview of the data, we show some **summary statistics** on a meaningful aggregation. "
   ]
  },
  {
   "cell_type": "markdown",
   "metadata": {},
   "source": [
    "MAKE FURTHER ANALYSIS. EXPLAIN THE CODE BRIEFLY AND SUMMARIZE THE RESULTS."
   ]
  },
  {
   "cell_type": "markdown",
   "metadata": {},
   "source": [
    "# Conclusion"
   ]
  },
  {
   "cell_type": "markdown",
   "metadata": {},
   "source": [
    "ADD CONCISE CONLUSION."
   ]
  }
 ],
 "metadata": {
  "kernelspec": {
   "display_name": "base",
   "language": "python",
   "name": "python3"
  },
  "language_info": {
   "codemirror_mode": {
    "name": "ipython",
    "version": 3
   },
   "file_extension": ".py",
   "mimetype": "text/x-python",
   "name": "python",
   "nbconvert_exporter": "python",
   "pygments_lexer": "ipython3",
   "version": "3.11.7"
  },
  "toc-autonumbering": true,
  "vscode": {
   "interpreter": {
    "hash": "47ef90cdf3004d3f859f1fb202523c65c07ba7c22eefd261b181f4744e2d0403"
   }
  }
 },
 "nbformat": 4,
 "nbformat_minor": 4
}
