{
 "cells": [
  {
   "cell_type": "markdown",
   "metadata": {},
   "source": [
    "# **Solution to Inaugural Project 2024**\n",
    "By Anna Abildskov, Emma Knippel and Oscar Nyholm"
   ]
  },
  {
   "cell_type": "markdown",
   "metadata": {},
   "source": [
    "# Table of contents\n",
    "* [Setup](#toc0_)   \n",
    "\n",
    "* [Question 1: Edgeworth Box](#toc1_) \n",
    "\n",
    "* [Question 2: Market Clearing Error](#toc2_)    \n",
    "\n",
    "* [Question 3: Market Clearing Price](#toc3_)    \n",
    "\n",
    "* [Question 4: A as Price Setter](#toc4_)   \n",
    "\n",
    "* [Question 5: A as Market Maker](#toc5_) \n",
    "\n",
    "* [Question 6: Utalitarian Social Planner](#toc6_) \n",
    "\n",
    "* [Question 7: Random Draw](#toc7_) \n",
    "\n",
    "* [Question 8: Market Equilibrium](#toc8_) \n",
    "\n"
   ]
  },
  {
   "cell_type": "markdown",
   "metadata": {},
   "source": [
    "## <a id='toc0_'></a>[Setup](#toc0_)"
   ]
  },
  {
   "cell_type": "markdown",
   "metadata": {},
   "source": [
    "Imports and set magics:"
   ]
  },
  {
   "cell_type": "code",
   "execution_count": 50,
   "metadata": {},
   "outputs": [
    {
     "name": "stdout",
     "output_type": "stream",
     "text": [
      "The autoreload extension is already loaded. To reload it, use:\n",
      "  %reload_ext autoreload\n"
     ]
    }
   ],
   "source": [
    "import numpy as np\n",
    "import matplotlib.pyplot as plt\n",
    "plt.rcParams.update({\"axes.grid\":True,\"grid.color\":\"black\",\"grid.alpha\":\"0.25\",\"grid.linestyle\":\"--\"})\n",
    "plt.rcParams.update({'font.size': 14})\n",
    "\n",
    "# autoreload modules when code is run. Otherwise, python will not see recent changes. \n",
    "%load_ext autoreload\n",
    "%autoreload 2\n",
    "\n",
    "# Import your own code\n",
    "from inauguralproject import ExchangeEconomyClass"
   ]
  },
  {
   "cell_type": "markdown",
   "metadata": {},
   "source": [
    "## <a id='toc1_'></a>[Question 1: Edgeworth Box](#toc1_)"
   ]
  },
  {
   "cell_type": "markdown",
   "metadata": {},
   "source": [
    "**1.1 Illustrating the endowment in the edgeworth box**\n",
    "\n",
    "First, we utilize the code provided to illustrate the endowments for both A and B in the edgeworth box. "
   ]
  },
  {
   "cell_type": "code",
   "execution_count": null,
   "metadata": {},
   "outputs": [],
   "source": [
    "model = ExchangeEconomyClass()\n",
    "par = model.par\n",
    "\n",
    "# a. total endowment\n",
    "w1bar = 1.0\n",
    "w2bar = 1.0\n",
    "\n",
    "# b. figure set up\n",
    "fig = plt.figure(frameon=False,figsize=(6,6), dpi=100)\n",
    "ax_A = fig.add_subplot(1, 1, 1)\n",
    "\n",
    "ax_A.set_xlabel(\"$x_1^A$\")\n",
    "ax_A.set_ylabel(\"$x_2^A$\")\n",
    "\n",
    "temp = ax_A.twinx()\n",
    "temp.set_ylabel(\"$x_2^B$\")\n",
    "ax_B = temp.twiny()\n",
    "ax_B.set_xlabel(\"$x_1^B$\")\n",
    "ax_B.invert_xaxis()\n",
    "ax_B.invert_yaxis()\n",
    "\n",
    "# A\n",
    "ax_A.scatter(par.w1A,par.w2A,marker='s',color='black',label='endowment')\n",
    "\n",
    "# limits\n",
    "ax_A.plot([0,w1bar],[0,0],lw=2,color='black')\n",
    "ax_A.plot([0,w1bar],[w2bar,w2bar],lw=2,color='black')\n",
    "ax_A.plot([0,0],[0,w2bar],lw=2,color='black')\n",
    "ax_A.plot([w1bar,w1bar],[0,w2bar],lw=2,color='black')\n",
    "\n",
    "ax_A.set_xlim([-0.1, w1bar + 0.1])\n",
    "ax_A.set_ylim([-0.1, w2bar + 0.1])    \n",
    "ax_B.set_xlim([w1bar + 0.1, -0.1])\n",
    "ax_B.set_ylim([w2bar + 0.1, -0.1])\n",
    "\n",
    "ax_A.legend(frameon=True,loc='upper right',bbox_to_anchor=(1.6,1.0));"
   ]
  },
  {
   "cell_type": "markdown",
   "metadata": {},
   "source": [
    "**1.2 Illustrating the consumption sets for pareto improvement**\n",
    "\n",
    "In the edgeworth box, we plot all the combinations of $x_1^A$ and $x_2^A$ (when $x_1^B$ $\\equiv$ $(1-x_1^A)$ and $x_2^B$ is $\\equiv$ $(1-x_2^A)$) that yield a pareto improvement in utility from the starting point of A and B consuming their respective endowments. We do this by creating a nested loop over all N values of $x_1^A$ and $x_2^A$ in {$0, \\frac{1}{N}, \\frac{2}{N},..,N$} and adding them pairwise to a list if they satisfy both of the following conditions conditions:\n",
    "\n",
    "$$\\begin{aligned} \n",
    "u^A(x_1^A,x_2^A)≥u^A(\\omega_1^A,\\omega_2^A)\\\\\n",
    "u^B(x_1^B,x_2^B)≥u^B(\\omega_1^B,\\omega_3^B)\n",
    "\\end{aligned}$$\n",
    "\n",
    "Then, we introduce the value-pairs to the edgeworth box, marked as \"Pareto improvements\".\n"
   ]
  },
  {
   "cell_type": "code",
   "execution_count": null,
   "metadata": {},
   "outputs": [],
   "source": [
    "pareto_pairs = model.pareto_improvement()\n",
    "\n",
    "x1A_values = [pair[0] for pair in pareto_pairs]\n",
    "x2A_values = [pair[1] for pair in pareto_pairs]\n",
    "\n",
    "fig = plt.figure(frameon=False,figsize=(6,6), dpi=100)\n",
    "ax_A = fig.add_subplot(1, 1, 1)\n",
    "\n",
    "ax_A.set_xlabel(\"$x_1^A$\")\n",
    "ax_A.set_ylabel(\"$x_2^A$\")\n",
    "\n",
    "temp = ax_A.twinx()\n",
    "temp.set_ylabel(\"$x_2^B$\")\n",
    "ax_B = temp.twiny()\n",
    "ax_B.set_xlabel(\"$x_1^B$\")\n",
    "ax_B.invert_xaxis()\n",
    "ax_B.invert_yaxis()\n",
    "\n",
    "ax_A.scatter(x1A_values, x2A_values,marker='s',color='black',label='Pareto improvement')\n",
    "\n",
    "ax_A.plot([0,w1bar],[0,0],lw=2,color='black')\n",
    "ax_A.plot([0,w1bar],[w2bar,w2bar],lw=2,color='black')\n",
    "ax_A.plot([0,0],[0,w2bar],lw=2,color='black')\n",
    "ax_A.plot([w1bar,w1bar],[0,w2bar],lw=2,color='black')\n",
    "\n",
    "ax_A.set_xlim([-0.1, w1bar + 0.1])\n",
    "ax_A.set_ylim([-0.1, w2bar + 0.1])    \n",
    "ax_B.set_xlim([w1bar + 0.1, -0.1])\n",
    "ax_B.set_ylim([w2bar + 0.1, -0.1])\n",
    "\n",
    "ax_A.legend(frameon=True,loc='center right',bbox_to_anchor=(1.6,1.0));"
   ]
  },
  {
   "cell_type": "markdown",
   "metadata": {},
   "source": [
    "## <a id='toc2_'></a>[Question 2: Market Clearing Error](#toc2_)"
   ]
  },
  {
   "cell_type": "markdown",
   "metadata": {},
   "source": [
    "**2.1 Printing market clearing errors**\n",
    "\n",
    "To calculate the market clearing errors for $p_1$ $\\in$ $\\mathcal{P}_1$ = {$0.5, 0.5+2\\frac{1}{N},0.5+2\\frac{2}{N},...,2.5$}, we loop over the values and save the errors to a list. The first five value pairs in the list are presented below."
   ]
  },
  {
   "cell_type": "code",
   "execution_count": null,
   "metadata": {},
   "outputs": [],
   "source": [
    "eps_values = model.market_clearing_error()\n",
    "print(f'The first five value pairs are:\\n\\\n",
    "({eps_values[0][0]:.3f}, {eps_values[0][1]:.3f})\\n\\\n",
    "({eps_values[1][0]:.3f}, {eps_values[1][1]:.3f})\\n\\\n",
    "({eps_values[2][0]:.3f}, {eps_values[2][1]:.3f})\\n\\\n",
    "({eps_values[4][0]:.3f}, {eps_values[4][1]:.3f})')"
   ]
  },
  {
   "cell_type": "markdown",
   "metadata": {},
   "source": [
    "## <a id='toc3_'></a>[Question 3: Market Clearing Price](#toc3_)"
   ]
  },
  {
   "cell_type": "markdown",
   "metadata": {},
   "source": [
    "**3.1 Finding the Market Clearing Price**\n",
    "\n",
    "In order to find the market clearing price, we need to obtain a value of $p_1$ where $\\epsilon_1$ is equal to 0. Since Walras' law applies, this - by definition - means that $\\epsilon_2$ is also 0, and the market clears.\n",
    "\n",
    "We assumed that the exercise called for a value of $p_1$ within $\\mathcal{P}_1$. Therefore, we realized that our value would not necessarily be exactly equal to 0, but rather an approximation. Thus, we set our tolerance at 0.009, getting the value within $\\mathcal{P}_1$ that yields the market clearing error CLOSEST to zero.\n",
    "\n",
    "Now, we just find the single value of $p_1$ in $\\mathcal{P}_1$ where our condition holds, giving us the market clearing price."
   ]
  },
  {
   "cell_type": "code",
   "execution_count": null,
   "metadata": {},
   "outputs": [],
   "source": [
    "market_clearing_price = model.market_clearing_price()[0]\n",
    "\n",
    "print(f'The market clearing price is {market_clearing_price:.3f}')"
   ]
  },
  {
   "cell_type": "markdown",
   "metadata": {},
   "source": [
    "## <a id='toc4_'></a>[Question 4: A as Price Setter](#toc4_)"
   ]
  },
  {
   "cell_type": "markdown",
   "metadata": {},
   "source": [
    "For the following two question, we assume that consumer A can choose a price to maximize her own utility.\n",
    "\n",
    "**4.1 When choosing a price $p_1$ wihtin $\\mathcal{P}_1$**\n",
    "\n",
    "Consumer A is looking to maximize her own utility at a price $p_1$, given the distribution of endowment between her and consumer B. She is thus looking to maximize:\n",
    "$$\\max_{p_1 \\in \\mathcal{P}_1} u^A(1-x^B_1(\\mathbf{p},\\mathbf{\\omega^B}), 1-x^B_2(\\mathbf{p},\\mathbf{\\omega^B}))$$\n",
    "\n",
    "Since we are looking to find the optimal price in a discrete amount, we utilize a grid-search."
   ]
  },
  {
   "cell_type": "code",
   "execution_count": 52,
   "metadata": {},
   "outputs": [
    {
     "ename": "AttributeError",
     "evalue": "'types.SimpleNamespace' object has no attribute 'price_setter'",
     "output_type": "error",
     "traceback": [
      "\u001b[0;31m---------------------------------------------------------------------------\u001b[0m",
      "\u001b[0;31mAttributeError\u001b[0m                            Traceback (most recent call last)",
      "Cell \u001b[0;32mIn[52], line 10\u001b[0m\n\u001b[1;32m      7\u001b[0m p1_best \u001b[38;5;241m=\u001b[39m np\u001b[38;5;241m.\u001b[39mnan \u001b[38;5;66;03m# not-a-number\u001b[39;00m\n\u001b[1;32m      9\u001b[0m \u001b[38;5;28;01mfor\u001b[39;00m p1 \u001b[38;5;129;01min\u001b[39;00m p1_vec:\n\u001b[0;32m---> 10\u001b[0m     utility_now \u001b[38;5;241m=\u001b[39m \u001b[38;5;241m-\u001b[39mpar\u001b[38;5;241m.\u001b[39mprice_setter(p1)\n\u001b[1;32m     11\u001b[0m     \u001b[38;5;28;01mif\u001b[39;00m utility_now \u001b[38;5;241m>\u001b[39m utility_best:\n\u001b[1;32m     12\u001b[0m         p1_best \u001b[38;5;241m=\u001b[39m p1\n",
      "\u001b[0;31mAttributeError\u001b[0m: 'types.SimpleNamespace' object has no attribute 'price_setter'"
     ]
    }
   ],
   "source": [
    "N=75\n",
    "p1_vec = np.linspace(0.5,2.5,N)\n",
    "\n",
    "# to solve this question, we do a grid-search wihtin the possible values of P_1 \n",
    "\n",
    "utility_best = -np.inf # initial maximum\n",
    "p1_best = np.nan # not-a-number\n",
    "\n",
    "for p1 in p1_vec:\n",
    "    utility_now = -par.price_setter(p1)\n",
    "    if utility_now > utility_best:\n",
    "        p1_best = p1\n",
    "        utility_best = utility_now\n",
    "\n",
    "print(f'max utility is {utility_best:.8f} at p1 = {p1_best:.8f}')\n",
    "\n"
   ]
  },
  {
   "cell_type": "markdown",
   "metadata": {},
   "source": [
    "**4.2 When choosing any price $p_1$>0**\n",
    "\n",
    "Consumer A can now freely choose any positive value of $p_1$ to maximize her own utility given the distribution of endowments between her and consumer B. She is thus looking to maximize:\n",
    "\n",
    "$$\\max_{p_1>0} u^A(1-x^B_1(\\mathbf{p},\\mathbf{\\omega^B}), 1-x^B_2(\\mathbf{p},\\mathbf{\\omega^B}))$$\n",
    "\n",
    "Since we are now looking for any positive value of $p_1$, we are looking at a continous maximization problem and will therefor be calling a solver using SciPy optimizer. \n"
   ]
  },
  {
   "cell_type": "code",
   "execution_count": 51,
   "metadata": {},
   "outputs": [
    {
     "ename": "AttributeError",
     "evalue": "'types.SimpleNamespace' object has no attribute 'price_setter'",
     "output_type": "error",
     "traceback": [
      "\u001b[0;31m---------------------------------------------------------------------------\u001b[0m",
      "\u001b[0;31mAttributeError\u001b[0m                            Traceback (most recent call last)",
      "Cell \u001b[0;32mIn[51], line 6\u001b[0m\n\u001b[1;32m      3\u001b[0m bounds \u001b[38;5;241m=\u001b[39m [(\u001b[38;5;241m0\u001b[39m,\u001b[38;5;28;01mNone\u001b[39;00m)] \u001b[38;5;66;03m# the price can be any positive number\u001b[39;00m\n\u001b[1;32m      4\u001b[0m initial_guess \u001b[38;5;241m=\u001b[39m [\u001b[38;5;241m0\u001b[39m]\n\u001b[0;32m----> 6\u001b[0m sol \u001b[38;5;241m=\u001b[39m optimize\u001b[38;5;241m.\u001b[39mminimize(par\u001b[38;5;241m.\u001b[39mprice_setter,initial_guess,bounds\u001b[38;5;241m=\u001b[39mbounds)\n",
      "\u001b[0;31mAttributeError\u001b[0m: 'types.SimpleNamespace' object has no attribute 'price_setter'"
     ]
    }
   ],
   "source": [
    "from scipy import optimize\n",
    "\n",
    "bounds = [(0,None)] # the price can be any positive number\n",
    "initial_guess = [0]\n",
    "\n",
    "sol = optimize.minimize(par.price_setter,initial_guess,bounds=bounds)\n",
    "\n",
    "\n"
   ]
  },
  {
   "cell_type": "markdown",
   "metadata": {},
   "source": [
    "## <a id='toc5_'></a>[Question 5: A as Market Maker](#toc5_)"
   ]
  },
  {
   "cell_type": "markdown",
   "metadata": {},
   "source": []
  },
  {
   "cell_type": "markdown",
   "metadata": {},
   "source": [
    "## <a id='toc6_'></a>[Question 6: Utalitarian Social Planner](#toc6_)"
   ]
  },
  {
   "cell_type": "markdown",
   "metadata": {},
   "source": []
  },
  {
   "cell_type": "markdown",
   "metadata": {},
   "source": [
    "## <a id='toc7_'></a>[Question 7: Random Draw](#toc7_)"
   ]
  },
  {
   "cell_type": "markdown",
   "metadata": {},
   "source": [
    "**7.1 Drawing the set $\\mathcal{W}$ with 50 elements**\n",
    "\n",
    "We draw 50 random values of $\\omega_1^A$ and 50 random values of $\\omega_2^A$.\\\n",
    "Then, we pair them together in a numpy array, our $\\mathcal{W}$ and print out the first five elements of the set to illustrate."
   ]
  },
  {
   "cell_type": "code",
   "execution_count": null,
   "metadata": {},
   "outputs": [],
   "source": [
    "np.random.seed(2000)\n",
    "w1A = np.random.uniform(low=0, high=1, size=50)\n",
    "w2A = np.random.uniform(low=0, high=1, size=50)\n",
    "\n",
    "W = np.column_stack((w1A,w2A))\n",
    "print(f'The first five elements of the set are:\\n\\\n",
    "({W[0][0]:.3f}, {W[0][1]:.3f})\\n\\\n",
    "({W[1][0]:.3f}, {W[1][1]:.3f})\\n\\\n",
    "({W[2][0]:.3f}, {W[2][1]:.3f})\\n\\\n",
    "({W[4][0]:.3f}, {W[4][1]:.3f})')\n"
   ]
  },
  {
   "cell_type": "markdown",
   "metadata": {},
   "source": [
    "## <a id='toc8_'></a>[Question 8: Market Equilibrium](#toc8_)"
   ]
  },
  {
   "cell_type": "markdown",
   "metadata": {},
   "source": []
  },
  {
   "cell_type": "markdown",
   "metadata": {},
   "source": [
    "ADD CONCISE CONLUSION."
   ]
  }
 ],
 "metadata": {
  "kernelspec": {
   "display_name": "base",
   "language": "python",
   "name": "python3"
  },
  "language_info": {
   "codemirror_mode": {
    "name": "ipython",
    "version": 3
   },
   "file_extension": ".py",
   "mimetype": "text/x-python",
   "name": "python",
   "nbconvert_exporter": "python",
   "pygments_lexer": "ipython3",
   "version": "3.11.7"
  },
  "toc-autonumbering": true,
  "vscode": {
   "interpreter": {
    "hash": "47ef90cdf3004d3f859f1fb202523c65c07ba7c22eefd261b181f4744e2d0403"
   }
  }
 },
 "nbformat": 4,
 "nbformat_minor": 4
}
