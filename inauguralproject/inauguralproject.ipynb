{
 "cells": [
  {
   "cell_type": "markdown",
   "metadata": {},
   "source": [
    "# **Solution to Inaugural Project 2024**\n",
    "By Anna Abildskov, Emma Knippel and Oscar Nyholm"
   ]
  },
  {
   "cell_type": "markdown",
   "metadata": {},
   "source": [
    "# Table of contents\n",
    "* [Setup](#toc0_)   \n",
    "\n",
    "* [Question 1: Edgeworth Box](#toc1_) \n",
    "\n",
    "* [Question 2: Market Clearing Error](#toc2_)    \n",
    "\n",
    "* [Question 3: Market Clearing Price](#toc3_)    \n",
    "\n",
    "* [Question 4: A as Price Setter](#toc4_)   \n",
    "\n",
    "* [Question 5: A as Market Maker](#toc5_) \n",
    "\n",
    "* [Question 6: Utalitarian Social Planner](#toc6_) \n",
    "\n",
    "* [Question 7: Random Draw](#toc7_) \n",
    "\n",
    "* [Question 8: Market Equilibrium](#toc8_) \n",
    "\n"
   ]
  },
  {
   "cell_type": "markdown",
   "metadata": {},
   "source": [
    "## <a id='toc0_'></a>[Setup](#toc0_)"
   ]
  },
  {
   "cell_type": "markdown",
   "metadata": {},
   "source": [
    "Imports and set magics:"
   ]
  },
  {
   "cell_type": "code",
   "execution_count": 1,
   "metadata": {},
   "outputs": [],
   "source": [
    "import numpy as np\n",
    "import matplotlib.pyplot as plt\n",
    "from scipy import optimize\n",
    "plt.rcParams.update({\"axes.grid\":True,\"grid.color\":\"black\",\"grid.alpha\":\"0.25\",\"grid.linestyle\":\"--\"})\n",
    "plt.rcParams.update({'font.size': 14})\n",
    "\n",
    "# autoreload modules when code is run. Otherwise, python will not see recent changes. \n",
    "%load_ext autoreload\n",
    "%autoreload 2\n",
    "\n",
    "# Import your own code\n",
    "from inauguralproject import ExchangeEconomyClass"
   ]
  },
  {
   "cell_type": "markdown",
   "metadata": {},
   "source": [
    "## <a id='toc1_'></a>[Question 1: Edgeworth Box](#toc1_)"
   ]
  },
  {
   "cell_type": "markdown",
   "metadata": {},
   "source": [
    "**1.1 Illustrating the endowment in the edgeworth box**\n",
    "\n",
    "First, we utilize the code provided to illustrate the endowments for both A and B in the edgeworth box. "
   ]
  },
  {
   "cell_type": "code",
   "execution_count": null,
   "metadata": {},
   "outputs": [],
   "source": [
    "model = ExchangeEconomyClass()\n",
    "par = model.par\n",
    "\n",
    "# a. total endowment\n",
    "w1bar = 1.0\n",
    "w2bar = 1.0\n",
    "\n",
    "# b. figure set up\n",
    "fig = plt.figure(frameon=False,figsize=(6,6), dpi=100)\n",
    "ax_A = fig.add_subplot(1, 1, 1)\n",
    "\n",
    "ax_A.set_xlabel(\"$x_1^A$\")\n",
    "ax_A.set_ylabel(\"$x_2^A$\")\n",
    "\n",
    "temp = ax_A.twinx()\n",
    "temp.set_ylabel(\"$x_2^B$\")\n",
    "ax_B = temp.twiny()\n",
    "ax_B.set_xlabel(\"$x_1^B$\")\n",
    "ax_B.invert_xaxis()\n",
    "ax_B.invert_yaxis()\n",
    "\n",
    "# A\n",
    "ax_A.scatter(par.w1A,par.w2A,marker='s',color='black',label='Endowment')\n",
    "\n",
    "# limits\n",
    "ax_A.plot([0,w1bar],[0,0],lw=2,color='black')\n",
    "ax_A.plot([0,w1bar],[w2bar,w2bar],lw=2,color='black')\n",
    "ax_A.plot([0,0],[0,w2bar],lw=2,color='black')\n",
    "ax_A.plot([w1bar,w1bar],[0,w2bar],lw=2,color='black')\n",
    "\n",
    "ax_A.set_xlim([-0.1, w1bar + 0.1])\n",
    "ax_A.set_ylim([-0.1, w2bar + 0.1])    \n",
    "ax_B.set_xlim([w1bar + 0.1, -0.1])\n",
    "ax_B.set_ylim([w2bar + 0.1, -0.1])\n",
    "\n",
    "ax_A.legend(frameon=True,loc='upper right',bbox_to_anchor=(1.6,1.0));"
   ]
  },
  {
   "cell_type": "markdown",
   "metadata": {},
   "source": [
    "**1.2 Illustrating the consumption sets for pareto improvement**\n",
    "\n",
    "In the edgeworth box, we plot all the combinations of $x_1^A$ and $x_2^A$ (when $x_1^B$ $\\equiv$ $(1-x_1^A)$ and $x_2^B$ is $\\equiv$ $(1-x_2^A)$) that yield a pareto improvement in utility from the starting point of A and B consuming their respective endowments. We do this by creating a nested loop over all N values of $x_1^A$ and $x_2^A$ in {$0, \\frac{1}{N}, \\frac{2}{N},..,N$} and adding them pairwise to a list if they satisfy both of the following conditions conditions:\n",
    "\n",
    "$$\\begin{aligned} \n",
    "u^A(x_1^A,x_2^A)≥u^A(\\omega_1^A,\\omega_2^A)\\\\\n",
    "u^B(x_1^B,x_2^B)≥u^B(\\omega_1^B,\\omega_3^B)\n",
    "\\end{aligned}$$\n",
    "\n",
    "Then, we introduce the value-pairs to the edgeworth box, marked as \"Pareto improvements\".\n"
   ]
  },
  {
   "cell_type": "code",
   "execution_count": null,
   "metadata": {},
   "outputs": [],
   "source": [
    "pareto_pairs = model.pareto_improvement()\n",
    "\n",
    "x1A_values = [pair[0] for pair in pareto_pairs]\n",
    "x2A_values = [pair[1] for pair in pareto_pairs]\n",
    "\n",
    "fig = plt.figure(frameon=False,figsize=(6,6), dpi=100)\n",
    "ax_A = fig.add_subplot(1, 1, 1)\n",
    "\n",
    "ax_A.set_xlabel(\"$x_1^A$\")\n",
    "ax_A.set_ylabel(\"$x_2^A$\")\n",
    "\n",
    "temp = ax_A.twinx()\n",
    "temp.set_ylabel(\"$x_2^B$\")\n",
    "ax_B = temp.twiny()\n",
    "ax_B.set_xlabel(\"$x_1^B$\")\n",
    "ax_B.invert_xaxis()\n",
    "ax_B.invert_yaxis()\n",
    "\n",
    "ax_A.scatter(x1A_values, x2A_values,marker='s',color='blue',label='Pareto improvement')\n",
    "ax_A.scatter(par.w1A,par.w2A,marker='s',color='black',label='Endowment')\n",
    "\n",
    "ax_A.plot([0,w1bar],[0,0],lw=2,color='black')\n",
    "ax_A.plot([0,w1bar],[w2bar,w2bar],lw=2,color='black')\n",
    "ax_A.plot([0,0],[0,w2bar],lw=2,color='black')\n",
    "ax_A.plot([w1bar,w1bar],[0,w2bar],lw=2,color='black')\n",
    "\n",
    "ax_A.set_xlim([-0.1, w1bar + 0.1])\n",
    "ax_A.set_ylim([-0.1, w2bar + 0.1])    \n",
    "ax_B.set_xlim([w1bar + 0.1, -0.1])\n",
    "ax_B.set_ylim([w2bar + 0.1, -0.1])\n",
    "\n",
    "ax_A.legend(frameon=True,loc='upper right',bbox_to_anchor=(1.8,1.0));"
   ]
  },
  {
   "cell_type": "markdown",
   "metadata": {},
   "source": [
    "## <a id='toc2_'></a>[Question 2: Market Clearing Error](#toc2_)"
   ]
  },
  {
   "cell_type": "markdown",
   "metadata": {},
   "source": [
    "**2.1 Plotting market clearing errors**\n",
    "\n",
    "To calculate the market clearing errors for $p_1$ $\\in$ $\\mathcal{P}_1$ = {$0.5, 0.5+2\\frac{1}{N},0.5+2\\frac{2}{N},...,2.5$}, we loop over the values and save the errors as two separate lists.\n",
    "Then, we plot them against the value os $p_1$ to give an overview of the errors."
   ]
  },
  {
   "cell_type": "code",
   "execution_count": null,
   "metadata": {},
   "outputs": [],
   "source": [
    "#We calculate the values of epsilon_1 and epsilon_2 for the values of p1 in the vector.\n",
    "eps1_values, eps2_values = model.market_clearing_error()\n",
    "\n",
    "#Now, we plot the values we just found\n",
    "fig = plt.figure(figsize=(10,6), dpi=100)\n",
    "ax = fig.add_subplot(1,1,1)\n",
    "ax.plot(np.linspace(0.5,2.5,75), eps1_values, label='$\\epsilon_1(\\mathbf{p,\\omega})$', color='blue')\n",
    "ax.plot(np.linspace(0.5,2.5,75), eps2_values, label='$\\epsilon_2(\\mathbf{p,\\omega})$', color='black')\n",
    "ax.grid('true')\n",
    "ax.legend(frameon=True,loc='upper left')\n",
    "ax.set_xlabel('Price')\n",
    "ax.set_ylabel('Market clearing error')\n",
    "ax.set_title('Market clearing error as a function of price')"
   ]
  },
  {
   "cell_type": "markdown",
   "metadata": {},
   "source": [
    "## <a id='toc3_'></a>[Question 3: Market Clearing Price](#toc3_)"
   ]
  },
  {
   "cell_type": "markdown",
   "metadata": {},
   "source": [
    "**3.1 Finding the Market Clearing Price**\n",
    "\n",
    "In order to find the market clearing price, we need to obtain a value of $p_1$ where $\\epsilon_1$ is equal to 0. Since Walras' law applies, this - by definition - means that $\\epsilon_2$ is also 0, and the market clears.\n",
    "\n",
    "We assumed that the exercise called for a value of $p_1$ within $\\mathcal{P}_1$. Therefore, we realized that our value would not necessarily be exactly equal to 0, but rather an approximation. Thus, we set our tolerance at 0.009, getting the value within $\\mathcal{P}_1$ that yields the market clearing error CLOSEST to zero.\n",
    "\n",
    "Now, we just find the single value of $p_1$ in $\\mathcal{P}_1$ where our condition holds, giving us the market clearing price."
   ]
  },
  {
   "cell_type": "code",
   "execution_count": null,
   "metadata": {},
   "outputs": [],
   "source": [
    "market_clearing_price = model.market_clearing_price()[0]\n",
    "\n",
    "print(f'The market clearing price is {market_clearing_price:.3f}')"
   ]
  },
  {
   "cell_type": "markdown",
   "metadata": {},
   "source": [
    "## <a id='toc4_'></a>[Question 4: A as Price Setter](#toc4_)"
   ]
  },
  {
   "cell_type": "markdown",
   "metadata": {},
   "source": [
    "For the following two question, we assume that consumer A can choose a price to maximize her own utility.\n",
    "\n",
    "**4.1 When choosing a price $p_1$ wihtin $\\mathcal{P}_1$**\n",
    "\n",
    "Consumer A is looking to maximize her own utility at a price $p_1$, given the distribution of endowment between her and consumer B. She is thus looking to maximize:\n",
    "$$\\max_{p_1 \\in \\mathcal{P}_1} u^A(1-x^B_1(\\mathbf{p},\\mathbf{\\omega^B}), 1-x^B_2(\\mathbf{p},\\mathbf{\\omega^B}))$$\n",
    "\n",
    "Since we are looking to find the optimal price in a discrete amount, we utilize a grid-search."
   ]
  },
  {
   "cell_type": "code",
   "execution_count": null,
   "metadata": {},
   "outputs": [],
   "source": [
    "N=75\n",
    "p1_vec = np.linspace(0.5,2.5,N)\n",
    "\n",
    "# to solve this question, we do loop through the possible values of p_1 \n",
    "\n",
    "utility_best = -np.inf # initial maximum\n",
    "p1_best = np.nan # not-a-number\n",
    "\n",
    "for p1 in p1_vec:\n",
    "    utility_now = -model.price_setter(p1)\n",
    "    if utility_now > utility_best:\n",
    "        p1_best = p1\n",
    "        utility_best = utility_now\n",
    "\n",
    "x1B,x2B = model.demand_B(p1)\n",
    "utilityB = model.utility_B(x1B,x2B)\n",
    "\n",
    "print(f'Consumer A would choose prise p_1 = {p1_best:.3f}, and get utility {utility_best:.3f}')\n",
    "print(f'Consumer B would recieve utility = {utilityB:.3f}')\n",
    "print(f'The respective consumers would consume (x1A,x2A) = ({1-x1B:.3f},{1-x2B:.3f}) and (x1B,x2B) = ({x1B:.3f},{x2B:.3f})')\n"
   ]
  },
  {
   "cell_type": "markdown",
   "metadata": {},
   "source": [
    "**4.2 When choosing any price $p_1$>0**\n",
    "\n",
    "Consumer A can now freely choose any positive value of $p_1$ to maximize her own utility given the distribution of endowments between her and consumer B. She is thus looking to maximize:\n",
    "\n",
    "$$\\max_{p_1>0} u^A(1-x^B_1(\\mathbf{p},\\mathbf{\\omega^B}), 1-x^B_2(\\mathbf{p},\\mathbf{\\omega^B}))$$\n",
    "\n",
    "Since we are now looking for any positive value of $p_1$, we are looking at a continous maximization problem and will therefor be calling a solver using SciPy optimize. \n"
   ]
  },
  {
   "cell_type": "code",
   "execution_count": null,
   "metadata": {},
   "outputs": [],
   "source": [
    "bounds = [(0,None)] # the price can be any positive number\n",
    "initial_guess = [2] # we guess 2 because we saw before that the price will be in this range.\n",
    "\n",
    "sol = optimize.minimize(model.price_setter,initial_guess,bounds=bounds)\n",
    "\n",
    "# unpacking the solution\n",
    "x1B,x2B = model.demand_B(sol.x)\n",
    "utilityB = model.utility_B(x1B,x2B)\n",
    "utilityA = model.utility_A(1-x1B,1-x2B)\n",
    "\n",
    "np.set_printoptions(precision=3)\n",
    "print(f'Consumer A would choose price p_1 = {sol.x} and get utility {utilityA}')\n",
    "print(f'Consumer B would recieve utility = {utilityB}')\n",
    "print(f'The respective consumers would consume (x1A,x2A) = ({1-x1B},{1-x2B}) and (x1B,x2B) = ({x1B},{x2B})')\n",
    "\n"
   ]
  },
  {
   "cell_type": "markdown",
   "metadata": {},
   "source": [
    "## <a id='toc5_'></a>[Question 5: A as Market Maker](#toc5_)"
   ]
  },
  {
   "cell_type": "markdown",
   "metadata": {},
   "source": [
    "For the following two questions, we now assume that consumer A chooses consumer B's consumption, but such that consumer B is not worse of than with their initial endowments. \n",
    "\n",
    "**5.1 Choosing consumption restricted to $\\mathcal{C}$**\n",
    "\n",
    "Consumer A's choice is first restricted to $\\mathcal{C}$ and is thus looking to maximize:\n",
    "$$\\max_{(x_1^A,x_2^A) \\in \\mathcal{C}} u^A(x_1^A,x_2^A)$$\n",
    "\n",
    "Like in question 4.1, as this is a discrete set of possible allocations, we loop through the possibilites. \n"
   ]
  },
  {
   "cell_type": "code",
   "execution_count": null,
   "metadata": {},
   "outputs": [],
   "source": [
    "max_utility = -np.inf # initial guess\n",
    "\n",
    "# We use the values from model.par - this will make our code mode robust\n",
    "initial_utilityB = model.utility_B(1-model.par.w1A,1-model.par.w2A)\n",
    "initial_utilityA = model.utility_A(model.par.w1A,model.par.w2A)\n",
    "\n",
    "allocationA = (None,None)\n",
    "x1A_vec = np.linspace(0,1,N)\n",
    "x2A_vec = np.linspace(0,1,N)\n",
    "\n",
    "for x1A in x1A_vec:\n",
    "    for x2A in x2A_vec:\n",
    "        utility_nowA = model.utility_A(x1A,x2A)\n",
    "        utility_nowB = model.utility_B(1-x1A,1-x2A)\n",
    "        if utility_nowA > max_utility and utility_nowB >= initial_utilityB:\n",
    "            max_utility = utility_nowA\n",
    "            allocationA = (x1A,x2A)\n",
    "\n",
    "utilityB = model.utility_B(1-allocationA[0],1-allocationA[1])\n",
    "\n",
    "np.set_printoptions(precision=3)\n",
    "print(f'Consumer As initial endowment was (x1A,x2A) = (0.8,0.3) and her utility was {initial_utilityA:.3f}')\n",
    "print(f'Consumer Bs initial endowment was (x1B,x2B) = (0.2,0.7) and her utility was {initial_utilityB:.3f}')\n",
    "print(f'Consumer A would choose consumption (x1A,x2A) = ({allocationA[0]:.3f},{allocationA[1]:.3f}) and would get utility {max_utility:.3f}')\n",
    "print(f'Consumer B would have consumption (x1B,x2B) = ({1-allocationA[0]:.3f},{1-allocationA[1]:.3f}) and would get utility {utilityB:.3f}')\n"
   ]
  },
  {
   "cell_type": "markdown",
   "metadata": {},
   "source": [
    "**5.2 Choosing consumption with no further restrictions**\n",
    "\n",
    "Consumer A can now choose any allocation and is thus looking to maximize:\n",
    "$$\\max_{(x_1^A,x_2^A)\\in[0,1]*[0,1]} u^A(x_1^A,x_2^A)\\\\\n",
    "s.t.  u^B(1-x_1^A,1-x_2^A)≥u^B(\\omega_1^B,\\omega_2^B)$$\n",
    "\n",
    "Like in 4.2, consumer A can now choose freely and we therefor use the SciPy optimizer for this."
   ]
  },
  {
   "cell_type": "code",
   "execution_count": null,
   "metadata": {},
   "outputs": [],
   "source": [
    "bounds = [(0,1)]\n",
    "constraints = {'type':'ineq', 'fun':lambda x: model.utility_B(1-x[0],1-x[1]) - initial_utilityB}\n",
    "initial_guess = [1]\n",
    "\n",
    "sol = optimize.minimize(model.market_maker,initial_guess,method='SLSQP',bounds=bounds,constraints=constraints)\n",
    "\n",
    "# unpacking the solution\n",
    "x1A,x2A = model.demand_A(sol.x)\n",
    "utilityA = model.utility_A(x1A,x2A)\n",
    "utilityB = model.utility_B(1-x1A,1-x2A)\n",
    "\n",
    "np.set_printoptions(precision=3)\n",
    "print(f'Consumer As initial endowment was (x1A,x2A) = (0.8,0.3) and her utility was {initial_utilityA:.3f}')\n",
    "print(f'Consumer Bs initial endowment was (x1B,x2B) = (0.2,0.7) and her utility was {initial_utilityB:.3f}')\n",
    "print(f'Consumer A would choose consumption (x1A,x2A) = ({x1A},{x2A}) and would get utility {utilityA}')\n",
    "print(f'Consumer B would have consumption (x1B,x2B) = ({1-x1A},{1-x2A}) and would get utility {utilityB}')\n"
   ]
  },
  {
   "cell_type": "markdown",
   "metadata": {},
   "source": [
    "## <a id='toc6_'></a>[Question 6: Utilitarian Social Planner](#toc6_)"
   ]
  },
  {
   "cell_type": "markdown",
   "metadata": {},
   "source": [
    "**6.1 Utilitarian Social Planners best allocation**\n",
    "\n",
    "To find the best allocation we need to define the new function and set some constraints which ensure that both x_1A and x_2A do not exceed 1, but neither do they become less than 0.\n",
    "\n",
    "In addition, we come up with a guess at x0, after which we use the optimize.minimize function to find the best allocation."
   ]
  },
  {
   "cell_type": "code",
   "execution_count": null,
   "metadata": {},
   "outputs": [],
   "source": [
    "optimal_allocation = model.utilitarian_planner()\n",
    "\n",
    "print(\"Utilitarian social planer allocation:\")\n",
    "print(f\"x_1A = {optimal_allocation[0]:.3f}\")\n",
    "print(f\"x_2A = {optimal_allocation[1]:.3f}\")\n"
   ]
  },
  {
   "cell_type": "markdown",
   "metadata": {},
   "source": [
    "x_1B = 1 - x_1A = 0.667\n",
    "<br>\n",
    "x_2B = 1 - x_2A = 0.333\n"
   ]
  },
  {
   "cell_type": "markdown",
   "metadata": {},
   "source": [
    "**6.2 Illustrate and compare with your results in question 3-5**"
   ]
  },
  {
   "cell_type": "code",
   "execution_count": null,
   "metadata": {},
   "outputs": [],
   "source": [
    "x1A, x2A = optimal_allocation\n",
    "x1B, x2B = 1 - x1A, 1 - x2A\n",
    "\n",
    "plt.figure(figsize=(6, 6))\n",
    "plt.plot([x1A], [x2A], 'bo', label='Consumer A')\n",
    "plt.plot([x1B], [x2B], 'ro', label='Consumer B')\n",
    "plt.xlabel('good 1')\n",
    "plt.ylabel('good 2')\n",
    "plt.title('Consumer A and B Bundles')\n",
    "plt.legend()\n",
    "plt.grid(True)\n",
    "plt.xlim(0,1)\n",
    "plt.ylim(0,1)\n",
    "plt.show()\n"
   ]
  },
  {
   "cell_type": "markdown",
   "metadata": {},
   "source": [
    "## <a id='toc7_'></a>[Question 7: Random Draw](#toc7_)"
   ]
  },
  {
   "cell_type": "markdown",
   "metadata": {},
   "source": [
    "**7.1 Drawing the set $\\mathcal{W}$ with 50 elements**\n",
    "\n",
    "We draw 50 random values of $\\omega_1^A$ and 50 random values of $\\omega_2^A$.\\\n",
    "Then, we pair them together in a numpy array, our $\\mathcal{W}$ and print out the first five elements of the set to illustrate."
   ]
  },
  {
   "cell_type": "code",
   "execution_count": null,
   "metadata": {},
   "outputs": [],
   "source": [
    "np.random.seed(2000)\n",
    "w1A = np.random.uniform(low=0, high=1, size=50)\n",
    "w2A = np.random.uniform(low=0, high=1, size=50)\n",
    "\n",
    "W = np.column_stack((w1A,w2A))\n",
    "print(f'The first five elements of the set are:\\n\\\n",
    "({W[0][0]:.3f}, {W[0][1]:.3f})\\n\\\n",
    "({W[1][0]:.3f}, {W[1][1]:.3f})\\n\\\n",
    "({W[2][0]:.3f}, {W[2][1]:.3f})\\n\\\n",
    "({W[4][0]:.3f}, {W[4][1]:.3f})')\n"
   ]
  },
  {
   "cell_type": "markdown",
   "metadata": {},
   "source": [
    "## <a id='toc8_'></a>[Question 8: Market Equilibrium](#toc8_)"
   ]
  },
  {
   "cell_type": "markdown",
   "metadata": {},
   "source": [
    "We find the market equilibrium allocations by optimizing the consumption set C. This can be done by setting up constraints, give an initial guess on both goods and optimizing the function."
   ]
  },
  {
   "cell_type": "code",
   "execution_count": null,
   "metadata": {},
   "outputs": [],
   "source": [
    "x1, x2 = model.market_equilibrium_allocation8()\n",
    "\n",
    "print(\"Market equilibrium allocation for consumer A:\")\n",
    "print(f\"x1 = {x1:.3f}\")\n",
    "print(f\"x2 = {x2:.3f}\")\n",
    "\n",
    "x1A, x2A = x1, x2\n",
    "x1B = 1 - x1A\n",
    "x2B = 1 - x2A\n",
    "\n",
    "plt.figure(figsize=(6, 6))\n",
    "plt.scatter(x1A, x2A, color='green', label='consumer A')\n",
    "plt.scatter(x1B, x2B, color='orange', label='consumer B')\n",
    "plt.xlabel('Good 1')\n",
    "plt.ylabel('Good 2')\n",
    "plt.title('Edgeworth Box with Market Equilibrium Allocation for Consumer A')\n",
    "plt.xlim(0, 1)\n",
    "plt.ylim(0, 1)\n",
    "plt.legend()\n",
    "plt.grid(True)\n",
    "plt.show()"
   ]
  }
 ],
 "metadata": {
  "kernelspec": {
   "display_name": "base",
   "language": "python",
   "name": "python3"
  },
  "language_info": {
   "codemirror_mode": {
    "name": "ipython",
    "version": 3
   },
   "file_extension": ".py",
   "mimetype": "text/x-python",
   "name": "python",
   "nbconvert_exporter": "python",
   "pygments_lexer": "ipython3",
   "version": "3.11.7"
  },
  "toc-autonumbering": true,
  "vscode": {
   "interpreter": {
    "hash": "47ef90cdf3004d3f859f1fb202523c65c07ba7c22eefd261b181f4744e2d0403"
   }
  }
 },
 "nbformat": 4,
 "nbformat_minor": 4
}
