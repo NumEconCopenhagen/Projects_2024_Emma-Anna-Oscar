{
 "cells": [
  {
   "cell_type": "markdown",
   "metadata": {},
   "source": [
    "**Table of contents**<a id='toc0_'></a>    \n",
    "- 1. [Problem 1: Production economy and CO2 taxation](#toc1_)    \n",
    "- 2. [Problem 2: Career choice model](#toc2_)    \n",
    "- 3. [Problem 3: Barycentric interpolation](#toc3_)    \n",
    "\n",
    "<!-- vscode-jupyter-toc-config\n",
    "\tnumbering=true\n",
    "\tanchor=true\n",
    "\tflat=false\n",
    "\tminLevel=2\n",
    "\tmaxLevel=6\n",
    "\t/vscode-jupyter-toc-config -->\n",
    "<!-- THIS CELL WILL BE REPLACED ON TOC UPDATE. DO NOT WRITE YOUR TEXT IN THIS CELL -->"
   ]
  },
  {
   "cell_type": "code",
   "execution_count": 2,
   "metadata": {},
   "outputs": [],
   "source": [
    "# Write your code here\n",
    "import numpy as np\n",
    "from types import SimpleNamespace\n",
    "import matplotlib.pyplot as plt\n",
    "import pandas as pd\n",
    "\n",
    "from exam import ProductionEconomy\n",
    "from exam import CareerChoice\n",
    "from exam import count\n",
    "from exam import plot_career\n",
    "from exam import plot_exp_utility\n",
    "from exam import plot_realized_utility\n",
    "from exam import count2\n",
    "from exam import plot_switch\n",
    " \n",
    "%load_ext autoreload\n",
    "%autoreload 2\n",
    "%matplotlib inline"
   ]
  },
  {
   "cell_type": "markdown",
   "metadata": {},
   "source": [
    "## 1. <a id='toc1_'></a>[Problem 1: Production economy and CO2 taxation](#toc0_)"
   ]
  },
  {
   "cell_type": "markdown",
   "metadata": {},
   "source": [
    "Consider a production economy with two firms indexed by $j \\in \\{1,2\\}$. Each produce its own good. They solve\n",
    "\n",
    "$$\n",
    "\\begin{align*}\n",
    "\\max_{y_{j}}\\pi_{j}&=p_{j}y_{j}-w_{j}\\ell_{j}\\\\\\text{s.t.}\\;&y_{j}=A\\ell_{j}^{\\gamma}.\n",
    "\\end{align*}\n",
    "$$\n",
    "\n",
    "Optimal firm behavior is\n",
    "\n",
    "$$\n",
    "\\begin{align*}\n",
    "\\ell_{j}^{\\star}(w,p_{j})&=\\left(\\frac{p_{j}A\\gamma}{w}\\right)^{\\frac{1}{1-\\gamma}} \\\\\n",
    "y_{j}^{\\star}(w,p_{j})&=A\\left(\\ell_{j}^{\\star}(w,p_{j})\\right)^{\\gamma}\n",
    "\\end{align*}\n",
    "$$\n",
    "\n",
    "The implied profits are\n",
    "\n",
    "$$\n",
    "\\pi_{j}^*(w,p_{j})=\\frac{1-\\gamma}{\\gamma}w\\cdot\\left(\\frac{p_{j}A\\gamma}{w}\\right)^{\\frac{1}{1-\\gamma}}\n",
    "$$\n",
    "\n",
    "A single consumer supplies labor, and consumes the goods the firms produce. She also recieves the implied profits of the firm.<br>\n",
    "She solves:\n",
    "\n",
    "$$\n",
    "\\begin{align*}\n",
    "U(p_1,p_2,w,\\tau,T) = \\max_{c_{1},c_{2},\\ell} & \\log(c_{1}^{\\alpha}c_{2}^{1-\\alpha})-\\nu\\frac{\\ell^{1+\\epsilon}}{1+\\epsilon} \\\\\n",
    "\\text{s.t.}\\,\\,\\,&p_{1}c_{1}+(p_{2}+\\tau)c_{2}=w\\ell+T+\\pi_{1}^*(w,p_{1})+\\pi_{2}^*(w,p_{2})\n",
    "\\end{align*}\n",
    "$$\n",
    "\n",
    "where $\\tau$ is a tax and $T$ is lump-sum transfer. <br>\n",
    "For a given $\\ell$, it can be shown that optimal behavior is\n",
    "\n",
    "$$\n",
    "\\begin{align*}\n",
    "c_{1}(\\ell)&=\\alpha\\frac{w\\ell+T+\\pi_{1}^*(w,p_{1})+\\pi_{2}^*(w,p_{2})}{p_{1}} \\\\\n",
    "c_{2}(\\ell)&=(1-\\alpha)\\frac{w\\ell+T+\\pi_{1}^*(w,p_{1})+\\pi_{2}^*(w,p_{2})}{p_{2}+\\tau} \\\\\n",
    "\\end{align*}\n",
    "$$\n",
    "Such that optimal behavior is:\n",
    "$$\n",
    "\\ell^* = \\underset{\\ell}{\\arg\\max} \\log(\\left(c_{1}(\\ell)\\right)^{\\alpha}\\cdot \\left(c_{2}(\\ell)\\right)^{1-\\alpha})-\\nu\\frac{\\ell^{1+\\epsilon}}{1+\\epsilon} \n",
    "$$\n",
    "With optimal consumption:\n",
    "$$\n",
    "\\begin{align*}\n",
    "c_1^*=c_{1}(\\ell^*) \\\\\n",
    "c_2^*=c_{2}(\\ell^*)\\\\\n",
    "\\end{align*}\n",
    "$$\n",
    "\n",
    "\n",
    "The government chooses $\\tau$ and balances its budget so $T=\\tau c_2^*$. We initially set $\\tau,T=0$.\n",
    "\n",
    "Market clearing requires:\n",
    "\n",
    "1. Labor market: $\\ell^* = \\ell_1^* + \\ell_2^*$\n",
    "1. Good market 1: $c_1^* = y_1^*$\n",
    "1. Good market 2: $c_2^* = y_2^*$\n"
   ]
  },
  {
   "cell_type": "markdown",
   "metadata": {},
   "source": [
    "**Question 1:** Check market clearing conditions for $p_1$ in `linspace(0.1,2.0,10)` and $p_2$ in `linspace(0.1,2.0,10)`. We choose $w=1$ as numeraire."
   ]
  },
  {
   "cell_type": "code",
   "execution_count": 5,
   "metadata": {},
   "outputs": [],
   "source": [
    "# initialize an instance of the ProductionEconomy class\n",
    "economy = ProductionEconomy()"
   ]
  },
  {
   "cell_type": "code",
   "execution_count": 29,
   "metadata": {},
   "outputs": [
    {
     "name": "stdout",
     "output_type": "stream",
     "text": [
      "For p1 = 0.10, p2 = 0.10, excess demand is:\n",
      " labor = 0.993, good 1: 2.959, good 2: 6.972\n",
      "For p1 = 0.10, p2 = 0.31, excess demand is:\n",
      " labor = 0.964, good 1: 3.004, good 2: 2.135\n",
      "For p1 = 0.10, p2 = 0.52, excess demand is:\n",
      " labor = 0.906, good 1: 3.093, good 2: 1.143\n",
      "For p1 = 0.10, p2 = 0.73, excess demand is:\n",
      " labor = 0.819, good 1: 3.230, good 2: 0.677\n",
      "Markets do not clear. For p1 = 2.00, p2 = 1.16 excess demand is:\n",
      " labor: -0.633, good1: -0.695, good2: 0.654\n",
      "Markets do not clear. For p1 = 2.00, p2 = 1.37 excess demand is:\n",
      " labor: -0.785, good1: -0.678, good2: 0.417\n",
      "Markets do not clear. For p1 = 2.00, p2 = 1.58 excess demand is:\n",
      " labor: -0.961, good1: -0.658, good2: 0.224\n",
      "Markets do not clear. For p1 = 2.00, p2 = 1.79 excess demand is:\n",
      " labor: -1.160, good1: -0.634, good2: 0.060\n",
      "Markets do not clear. For p1 = 2.00, p2 = 2.00 excess demand is:\n",
      " labor: -1.382, good1: -0.607, good2: -0.084\n",
      "Found no combination of p1 and p2, which clears all three markets\n"
     ]
    }
   ],
   "source": [
    "w = 1.0 # wage as numeraire\n",
    "p1_val = np.linspace(0.1, 2.0, 10) # price vector of good 1\n",
    "p2_val = np.linspace(0.1, 2.0, 10) # price vector of good 2\n",
    "\n",
    "n = 0 # counter\n",
    "for p1 in p1_val:\n",
    "    for p2 in p2_val:\n",
    "        errors = economy.market_error(p1,p2,w)\n",
    "        n += 1\n",
    "        if n < 5:\n",
    "            print(f'For p1 = {p1:.2f}, p2 = {p2:.2f}, excess demand is:\\n labor = {errors[0]:.3f}, good 1: {errors[1]:.3f}, good 2: {errors[2]:.3f}')\n",
    "        elif errors == 0:\n",
    "            print(f'for p1 = {p1:.2f}, p2 = {p2:.2f} all markets clear')\n",
    "        elif errors[0] == 0:\n",
    "            print(f'for p1 = {p1:.2f}, p2 = {p2:.2f} labor market clears.\\n Excess demand for good 1: {errors[1]:.3f}, good2: {errors[2]:.3f}')\n",
    "        elif errors[1] == 0:\n",
    "            print(f'for p1 = {p1:.2f}, p2 = {p2:.2f} market for good 1 clears.\\n Excess demand for labor: {errors[0]:.3f}, good2: {errors[2]:.3f}')\n",
    "        elif errors[2] == 0:\n",
    "            print(f'for p1 = {p1:.2f}, p2 = {p2:.2f} market for good 2 clears.\\n Excess demand for labor: {errors[0]:.3f}, good1: {errors[1]:.3f}')\n",
    "        elif n > 95:\n",
    "            print(f'Markets do not clear. For p1 = {p1:.2f}, p2 = {p2:.2f} excess demand is:\\n labor: {errors[0]:.3f}, good1: {errors[1]:.3f}, good2: {errors[2]:.3f}')\n",
    "        \n",
    "check = economy.check_market_clearing(p1_val,p2_val,w)"
   ]
  },
  {
   "cell_type": "code",
   "execution_count": 4,
   "metadata": {},
   "outputs": [
    {
     "ename": "TypeError",
     "evalue": "ProductionEconomy.find_equilibrium_prices.<locals>.<lambda>() missing 1 required positional argument: 'p2'",
     "output_type": "error",
     "traceback": [
      "\u001b[0;31m---------------------------------------------------------------------------\u001b[0m",
      "\u001b[0;31mTypeError\u001b[0m                                 Traceback (most recent call last)",
      "Cell \u001b[0;32mIn[4], line 9\u001b[0m\n\u001b[1;32m      6\u001b[0m economy \u001b[38;5;241m=\u001b[39m ProductionEconomy()\n\u001b[1;32m      8\u001b[0m \u001b[38;5;66;03m# Find equilibrium prices\u001b[39;00m\n\u001b[0;32m----> 9\u001b[0m equilibrium_prices \u001b[38;5;241m=\u001b[39m economy\u001b[38;5;241m.\u001b[39mfind_equilibrium_prices(w)\n\u001b[1;32m     10\u001b[0m \u001b[38;5;28mprint\u001b[39m(\u001b[38;5;124mf\u001b[39m\u001b[38;5;124m\"\u001b[39m\u001b[38;5;124mEquilibrium prices: p1 = \u001b[39m\u001b[38;5;132;01m{\u001b[39;00mequilibrium_prices[\u001b[38;5;241m0\u001b[39m]\u001b[38;5;132;01m}\u001b[39;00m\u001b[38;5;124m, p2 = \u001b[39m\u001b[38;5;132;01m{\u001b[39;00mequilibrium_prices[\u001b[38;5;241m1\u001b[39m]\u001b[38;5;132;01m}\u001b[39;00m\u001b[38;5;124m\"\u001b[39m)\n\u001b[1;32m     12\u001b[0m \u001b[38;5;66;03m# Check market clearing conditions at equilibrium prices\u001b[39;00m\n",
      "File \u001b[0;32m~/Desktop/Documents/Polit/1. sem KA/IPANA/Projects_2024_Emma-Anna-Oscar/exam project/exam.py:127\u001b[0m, in \u001b[0;36mProductionEconomy.find_equilibrium_prices\u001b[0;34m(self, w)\u001b[0m\n\u001b[1;32m    124\u001b[0m initial_guess \u001b[38;5;241m=\u001b[39m [\u001b[38;5;241m0\u001b[39m, \u001b[38;5;241m0\u001b[39m]\n\u001b[1;32m    125\u001b[0m obj_p \u001b[38;5;241m=\u001b[39m \u001b[38;5;28;01mlambda\u001b[39;00m p1, p2: \u001b[38;5;28mself\u001b[39m\u001b[38;5;241m.\u001b[39mmarket_error(p1,p2, w)\n\u001b[0;32m--> 127\u001b[0m result \u001b[38;5;241m=\u001b[39m optimize\u001b[38;5;241m.\u001b[39mroot(obj_p, initial_guess, method\u001b[38;5;241m=\u001b[39m\u001b[38;5;124m'\u001b[39m\u001b[38;5;124mhybr\u001b[39m\u001b[38;5;124m'\u001b[39m)\n\u001b[1;32m    129\u001b[0m \u001b[38;5;28;01mreturn\u001b[39;00m result\n",
      "File \u001b[0;32m~/anaconda3/lib/python3.11/site-packages/scipy/optimize/_root.py:236\u001b[0m, in \u001b[0;36mroot\u001b[0;34m(fun, x0, args, method, jac, tol, callback, options)\u001b[0m\n\u001b[1;32m    233\u001b[0m         options\u001b[38;5;241m.\u001b[39msetdefault(\u001b[38;5;124m'\u001b[39m\u001b[38;5;124mfatol\u001b[39m\u001b[38;5;124m'\u001b[39m, np\u001b[38;5;241m.\u001b[39minf)\n\u001b[1;32m    235\u001b[0m \u001b[38;5;28;01mif\u001b[39;00m meth \u001b[38;5;241m==\u001b[39m \u001b[38;5;124m'\u001b[39m\u001b[38;5;124mhybr\u001b[39m\u001b[38;5;124m'\u001b[39m:\n\u001b[0;32m--> 236\u001b[0m     sol \u001b[38;5;241m=\u001b[39m _root_hybr(fun, x0, args\u001b[38;5;241m=\u001b[39margs, jac\u001b[38;5;241m=\u001b[39mjac, \u001b[38;5;241m*\u001b[39m\u001b[38;5;241m*\u001b[39moptions)\n\u001b[1;32m    237\u001b[0m \u001b[38;5;28;01melif\u001b[39;00m meth \u001b[38;5;241m==\u001b[39m \u001b[38;5;124m'\u001b[39m\u001b[38;5;124mlm\u001b[39m\u001b[38;5;124m'\u001b[39m:\n\u001b[1;32m    238\u001b[0m     sol \u001b[38;5;241m=\u001b[39m _root_leastsq(fun, x0, args\u001b[38;5;241m=\u001b[39margs, jac\u001b[38;5;241m=\u001b[39mjac, \u001b[38;5;241m*\u001b[39m\u001b[38;5;241m*\u001b[39moptions)\n",
      "File \u001b[0;32m~/anaconda3/lib/python3.11/site-packages/scipy/optimize/_minpack_py.py:228\u001b[0m, in \u001b[0;36m_root_hybr\u001b[0;34m(func, x0, args, jac, col_deriv, xtol, maxfev, band, eps, factor, diag, **unknown_options)\u001b[0m\n\u001b[1;32m    226\u001b[0m \u001b[38;5;28;01mif\u001b[39;00m \u001b[38;5;129;01mnot\u001b[39;00m \u001b[38;5;28misinstance\u001b[39m(args, \u001b[38;5;28mtuple\u001b[39m):\n\u001b[1;32m    227\u001b[0m     args \u001b[38;5;241m=\u001b[39m (args,)\n\u001b[0;32m--> 228\u001b[0m shape, dtype \u001b[38;5;241m=\u001b[39m _check_func(\u001b[38;5;124m'\u001b[39m\u001b[38;5;124mfsolve\u001b[39m\u001b[38;5;124m'\u001b[39m, \u001b[38;5;124m'\u001b[39m\u001b[38;5;124mfunc\u001b[39m\u001b[38;5;124m'\u001b[39m, func, x0, args, n, (n,))\n\u001b[1;32m    229\u001b[0m \u001b[38;5;28;01mif\u001b[39;00m epsfcn \u001b[38;5;129;01mis\u001b[39;00m \u001b[38;5;28;01mNone\u001b[39;00m:\n\u001b[1;32m    230\u001b[0m     epsfcn \u001b[38;5;241m=\u001b[39m finfo(dtype)\u001b[38;5;241m.\u001b[39meps\n",
      "File \u001b[0;32m~/anaconda3/lib/python3.11/site-packages/scipy/optimize/_minpack_py.py:25\u001b[0m, in \u001b[0;36m_check_func\u001b[0;34m(checker, argname, thefunc, x0, args, numinputs, output_shape)\u001b[0m\n\u001b[1;32m     23\u001b[0m \u001b[38;5;28;01mdef\u001b[39;00m \u001b[38;5;21m_check_func\u001b[39m(checker, argname, thefunc, x0, args, numinputs,\n\u001b[1;32m     24\u001b[0m                 output_shape\u001b[38;5;241m=\u001b[39m\u001b[38;5;28;01mNone\u001b[39;00m):\n\u001b[0;32m---> 25\u001b[0m     res \u001b[38;5;241m=\u001b[39m atleast_1d(thefunc(\u001b[38;5;241m*\u001b[39m((x0[:numinputs],) \u001b[38;5;241m+\u001b[39m args)))\n\u001b[1;32m     26\u001b[0m     \u001b[38;5;28;01mif\u001b[39;00m (output_shape \u001b[38;5;129;01mis\u001b[39;00m \u001b[38;5;129;01mnot\u001b[39;00m \u001b[38;5;28;01mNone\u001b[39;00m) \u001b[38;5;129;01mand\u001b[39;00m (shape(res) \u001b[38;5;241m!=\u001b[39m output_shape):\n\u001b[1;32m     27\u001b[0m         \u001b[38;5;28;01mif\u001b[39;00m (output_shape[\u001b[38;5;241m0\u001b[39m] \u001b[38;5;241m!=\u001b[39m \u001b[38;5;241m1\u001b[39m):\n",
      "\u001b[0;31mTypeError\u001b[0m: ProductionEconomy.find_equilibrium_prices.<locals>.<lambda>() missing 1 required positional argument: 'p2'"
     ]
    }
   ],
   "source": [
    "p1_val = np.linspace(0.1, 2.0, 10)\n",
    "p2_val = np.linspace(0.1, 2.0, 10)\n",
    "w = 1 \n",
    "\n",
    "# Create an instance of the ProductionEconomy\n",
    "economy = ProductionEconomy()\n",
    "\n",
    "# Find equilibrium prices\n",
    "equilibrium_prices = economy.find_equilibrium_prices(w)\n",
    "print(f\"Equilibrium prices: p1 = {equilibrium_prices[0]}, p2 = {equilibrium_prices[1]}\")\n",
    "\n",
    "# Check market clearing conditions at equilibrium prices\n",
    "results = economy.check_market_clearing([equilibrium_prices[0]], [equilibrium_prices[1]], w)\n",
    "\n",
    "# Convert results to DataFrame\n",
    "df_results = pd.DataFrame(results)\n",
    "print(df_results)"
   ]
  },
  {
   "cell_type": "markdown",
   "metadata": {},
   "source": [
    "**Question 2:** Find the equilibrium prices $p_1$ and $p_2$.<br>\n",
    "*Hint: you can use Walras' law to only check 2 of the market clearings*"
   ]
  },
  {
   "cell_type": "code",
   "execution_count": null,
   "metadata": {},
   "outputs": [],
   "source": [
    "# write your answer here\n",
    "model = ProductionEconomy()"
   ]
  },
  {
   "cell_type": "code",
   "execution_count": null,
   "metadata": {},
   "outputs": [],
   "source": [
    "model.firm1(1.5,1.0)"
   ]
  },
  {
   "cell_type": "markdown",
   "metadata": {},
   "source": [
    "Assume the government care about the social welfare function:\n",
    "\n",
    "$$\n",
    "SWF = U - \\kappa y_2^*\n",
    "$$"
   ]
  },
  {
   "cell_type": "markdown",
   "metadata": {},
   "source": [
    "Here $\\kappa$ measures the social cost of carbon emitted by the production of $y_2$ in equilibrium."
   ]
  },
  {
   "cell_type": "markdown",
   "metadata": {},
   "source": [
    "**Question 3:** What values of $\\tau$ and (implied) $T$ should the government choose to maximize $SWF$?"
   ]
  },
  {
   "cell_type": "code",
   "execution_count": null,
   "metadata": {},
   "outputs": [],
   "source": [
    "# write your answer here"
   ]
  },
  {
   "cell_type": "markdown",
   "metadata": {},
   "source": [
    "## 2. <a id='toc2_'></a>[Problem 2: Career choice model](#toc0_)"
   ]
  },
  {
   "cell_type": "code",
   "execution_count": null,
   "metadata": {},
   "outputs": [],
   "source": [
    "par = SimpleNamespace()\n",
    "par.N = 10\n",
    "par.K = 10000"
   ]
  },
  {
   "cell_type": "markdown",
   "metadata": {},
   "source": [
    "Consider a graduate $i$ making a choice between entering $J$ different career tracks. <br>\n",
    "Entering career $j$ yields utility $u^k_{ij}$. This value is unknown to the graduate ex ante, but will ex post be: <br>\n",
    "$$\n",
    "    u_{i,j}^k = v_{j} + \\epsilon_{i,j}^k\n",
    "$$\n",
    "\n",
    "They know that $\\epsilon^k_{i,j}\\sim \\mathcal{N}(0,\\sigma^2)$, but they do not observe $\\epsilon^k_{i,j}$ before making their career choice. <br>"
   ]
  },
  {
   "cell_type": "markdown",
   "metadata": {},
   "source": [
    "Consider the concrete case of $J=3$ with:\n",
    "$$\n",
    "\\begin{align*}\n",
    "    v_{1} &= 1 \\\\\n",
    "    v_{2} &= 2 \\\\\n",
    "    v_{3} &= 3\n",
    "\\end{align*}\n",
    "$$"
   ]
  },
  {
   "cell_type": "markdown",
   "metadata": {},
   "source": [
    "If the graduates know the values of $v_j$ and the distribution of $\\epsilon_{i,j}^k$, they can calculate the expected utility of each career track using simulation: <br>\n",
    "$$\n",
    "    \\mathbb{E}\\left[ u^k_{i,j}\\vert v_j \\right] \\approx v_j + \\frac{1}{K}\\sum_{k=1}^K \\epsilon_{i,j}^k\n",
    "$$"
   ]
  },
  {
   "cell_type": "markdown",
   "metadata": {},
   "source": [
    "**Question 1:** Simulate and calculate expected utility and the average realised utility for $K=10000$ draws, for each career choice $j$.\n"
   ]
  },
  {
   "cell_type": "code",
   "execution_count": null,
   "metadata": {},
   "outputs": [],
   "source": [
    "model = CareerChoice(1999)\n",
    "EU = model.utility()\n",
    "\n",
    "print(f'E[(u_i,1^k|v_1)] = {EU[0]:.4f}')\n",
    "print(f'E[(u_i,2^k|v_1)] = {EU[1]:.4f}')\n",
    "print(f'E[(u_i,3^k|v_1)] = {EU[2]:.4f}')"
   ]
  },
  {
   "cell_type": "markdown",
   "metadata": {},
   "source": [
    "**Question 1 solution:** <br><br>\n",
    "We use the seed 1999 for the identical random draws of each of the career uncertainty parameters, $\\epsilon^k_{i,j}$. \n",
    "\n",
    "This yields the following expected utilities for each career choice, $j$, and thus average realized utility, when averaging over the K = 10,000 draws:\n",
    "\n",
    "$$\n",
    "    \\mathbb{E}\\left[ u^k_{i,1}\\vert v_1 \\right] \\approx 1.0161 \\\\\n",
    "    \\mathbb{E}\\left[ u^k_{i,2}\\vert v_2 \\right] \\approx 1.9960 \\\\\n",
    "    \\mathbb{E}\\left[ u^k_{i,3}\\vert v_2 \\right] \\approx 3.0030\n",
    "$$\n",
    "<br><br>"
   ]
  },
  {
   "cell_type": "markdown",
   "metadata": {},
   "source": [
    "Now consider a new scenario: Imagine that the graduate does not know $v_j$. The *only* prior information they have on the value of each job, comes from their $F_{i}$ friends that work in each career $j$. After talking with them, they know the average utility of their friends (which includes their friends' noise term), giving them the prior expecation: <br>\n",
    "$$\n",
    "\\tilde{u}^k_{i,j}\\left( F_{i}\\right) = \\frac{1}{F_{i}}\\sum_{f=1}^{F_{i}} \\left(v_{j} + \\epsilon^k_{f,j}\\right), \\; \\epsilon^k_{f,j}\\sim \\mathcal{N}(0,\\sigma^2)\n",
    "$$\n",
    "For ease of notation consider that each graduate have $F_{i}=i$ friends in each career. <br>"
   ]
  },
  {
   "cell_type": "markdown",
   "metadata": {},
   "source": [
    "For $K$ times do the following: <br>\n",
    "1. For each person $i$ draw $J\\cdot F_i$ values of $\\epsilon_{f,j}^{k}$, and calculate the prior expected utility of each career track, $\\tilde{u}^k_{i,j}\\left( F_{i}\\right)$. <br>\n",
    "Also draw their own $J$ noise terms, $\\epsilon_{i,j}^k$\n",
    "1. Each person $i$ chooses the career track with the highest expected utility: $$j_i^{k*}= \\arg\\max_{j\\in{1,2\\dots,J}}\\left\\{ \\tilde{u}^k_{i,j}\\left( F_{i}\\right)\\right\\} $$\n",
    "1. Store the chosen careers: $j_i^{k*}$, the prior expectation of the value of their chosen career: $\\tilde{u}^k_{i,j=j_i^{k*}}\\left( F_{i}\\right)$, and the realized value of their chosen career track: $u^k_{i,j=j_i^{k*}}=v_{j=j_i^{k*}}+\\epsilon_{i,j=j_i^{k*}}^k$."
   ]
  },
  {
   "cell_type": "markdown",
   "metadata": {},
   "source": [
    "Chosen values will be: <br>\n",
    "$i\\in\\left\\{1,2\\dots,N\\right\\}, N=10$ <br>\n",
    "$F_i = i$<br>\n",
    "So there are 10 graduates. The first has 1 friend in each career, the second has 2 friends, ... the tenth has 10 friends."
   ]
  },
  {
   "cell_type": "markdown",
   "metadata": {},
   "source": [
    "**Question 2:** Simulate and visualize: For each type of graduate, $i$, the share of graduates choosing each career, the average subjective expected utility of the graduates, and the average ex post realized utility given their choice. <br>\n",
    "That is, calculate and visualize: <br>\n",
    "$$\n",
    "\\begin{align*}\n",
    "    \\frac{1}{K} \\sum_{k=1}^{K} \\mathbb{I}\\left\\{ j=j_i^{k*} \\right\\}  \\;\\forall j\\in\\left\\{1,2,\\dots,J\\right\\}\n",
    "\\end{align*}\n",
    "$$\n",
    "$$\n",
    "\\begin{align*}\n",
    "    \\frac{1}{K} \\sum_{k=1}^{K} \\tilde{u}^k_{ij=j_i^{k*}}\\left( F_{i}\\right)\n",
    "\\end{align*}\n",
    "$$\n",
    "And \n",
    "$$\n",
    "\\begin{align*}\n",
    "    \\frac{1}{K} \\sum_{k=1}^{K} u^k_{ij=j_i^{k*}} \n",
    "\\end{align*}\n",
    "$$\n",
    "For each graduate $i$."
   ]
  },
  {
   "cell_type": "markdown",
   "metadata": {},
   "source": [
    "The following is the simulation and visualization of the share of graduates choosing each career for each type, $i$:"
   ]
  },
  {
   "cell_type": "code",
   "execution_count": null,
   "metadata": {},
   "outputs": [],
   "source": [
    "# we call the simulation function that creates three dictionaries.\n",
    "# the first dictionary, careerdict, contains the 10,000 career choices for each type of graduate.\n",
    "# the second dictionary, EVdict, contains the expected value of the 10,000 career choices made by each type of graduate.\n",
    "# the third dictionary, RVdict, contains the realized value of the 10,000 careers chosen by each type of graduate.\n",
    "careerdict, EVdict, RVdict = model.simulate()"
   ]
  },
  {
   "cell_type": "code",
   "execution_count": null,
   "metadata": {},
   "outputs": [],
   "source": [
    "# first, we focus on the career dictionary\n",
    "# by creating 10 separate lists, we can count the number of times each career is chosen by each type of graduate.\n",
    "# C1 contains the number of times each career is chosen by type 1 graduates, C2 by type 2 graduates, and so on.\n",
    "# the count function, defined in the exam_2024.py file, takes a dictionary as input and returns a list with a count of times each variable occurs.\n",
    "# the count function is called for each type of graduate.\n",
    "C1 = count(careerdict[1])\n",
    "C2 = count(careerdict[2])\n",
    "C3 = count(careerdict[3])\n",
    "C4 = count(careerdict[4])\n",
    "C5 = count(careerdict[5])\n",
    "C6 = count(careerdict[6])\n",
    "C7 = count(careerdict[7])\n",
    "C8 = count(careerdict[8])\n",
    "C9 = count(careerdict[9])\n",
    "C10 = count(careerdict[10])\n",
    "\n",
    "# the plot function, defined in the exam_2024.py file, plots the number of times each career is chosen by each type of graduate.\n",
    "# it is made into one big figure with 10 subplots, one for each type of graduate.\n",
    "plot_career(C1, C2, C3, C4, C5, C6, C7, C8, C9, C10)"
   ]
  },
  {
   "cell_type": "code",
   "execution_count": null,
   "metadata": {},
   "outputs": [],
   "source": [
    "# secondly, we focus on the expected value dictionary.\n",
    "# we sum the expected value of the 10,000 career choices made by each type of graduate and divide by the number of graduates.\n",
    "# this gives us the expected utility ex ante for each type of graduate.\n",
    "EV1 = sum(EVdict[1])/par.K\n",
    "EV2 = sum(EVdict[2])/par.K\n",
    "EV3 = sum(EVdict[3])/par.K\n",
    "EV4 = sum(EVdict[4])/par.K\n",
    "EV5 = sum(EVdict[5])/par.K\n",
    "EV6 = sum(EVdict[6])/par.K\n",
    "EV7 = sum(EVdict[7])/par.K\n",
    "EV8 = sum(EVdict[8])/par.K\n",
    "EV9 = sum(EVdict[9])/par.K\n",
    "EV10 = sum(EVdict[10])/par.K\n",
    "\n",
    "EU = [EV1, EV2, EV3, EV4, EV5, EV6, EV7, EV8, EV9, EV10]\n",
    "\n",
    "# now we plot the expected utility ex ante for each type of graduate in a bar chart.\n",
    "plot_exp_utility(EU,'Figure 2.2 Average Expected Utility ex-ante\\n')"
   ]
  },
  {
   "cell_type": "code",
   "execution_count": null,
   "metadata": {},
   "outputs": [],
   "source": [
    "# thirdly, we focus on the realized value dictionary.\n",
    "# we sum the realized value of the 10,000 career choices made by each type of graduate and divide by the number of graduates.\n",
    "# this gives us the realized utility ex post for each type of graduate.\n",
    "RV1 = sum(RVdict[1])/par.K\n",
    "RV2 = sum(RVdict[2])/par.K\n",
    "RV3 = sum(RVdict[3])/par.K\n",
    "RV4 = sum(RVdict[4])/par.K\n",
    "RV5 = sum(RVdict[5])/par.K\n",
    "RV6 = sum(RVdict[6])/par.K\n",
    "RV7 = sum(RVdict[7])/par.K\n",
    "RV8 = sum(RVdict[8])/par.K\n",
    "RV9 = sum(RVdict[9])/par.K\n",
    "RV10 = sum(RVdict[10])/par.K\n",
    "\n",
    "RV = [RV1, RV2, RV3, RV4, RV5, RV6, RV7, RV8, RV9, RV10]\n",
    "\n",
    "# now we plot the realized utility ex post for each type of graduate in a bar chart.\n",
    "plot_realized_utility(RV, 'Figure 2.3 Average Realized Utility ex-post\\n')"
   ]
  },
  {
   "cell_type": "markdown",
   "metadata": {},
   "source": [
    "After a year of working in their career, the graduates learn $u^k_{ij}$ for their chosen job $j_i^{k*}$ perfectly. <br>\n",
    "The can switch to one of the two remaining careers, for which they have the same prior as before, but it will now include a switching cost of $c$ which is known.\n",
    "Their new priors can be written as: \n",
    "$$\n",
    "\\tilde{u}^{k,2}_{ij}\\left( F_{i}\\right) = \\begin{cases}\n",
    "            \\tilde{u}^k_{ij}\\left( F_{i}\\right)-c & \\text{if } j \\neq j_i^{k*} \\\\\n",
    "            u_{ij=j_i^{k*}} & \\text{if } j = j_i^{k*}\n",
    "        \\end{cases}\n",
    "$$"
   ]
  },
  {
   "cell_type": "markdown",
   "metadata": {},
   "source": [
    "We will set $c=1$."
   ]
  },
  {
   "cell_type": "markdown",
   "metadata": {},
   "source": [
    "Their realized utility will be: <br>\n",
    "$$\n",
    "u^{k,2}_{ij}= \\begin{cases}\n",
    "            u_{ij}^k -c & \\text{if } j \\neq j_i^{k*} \\\\\n",
    "            u_{ij=j_i^{k*}} & \\text{if } j = j_i^{k*}\n",
    "        \\end{cases}\n",
    "$$"
   ]
  },
  {
   "cell_type": "markdown",
   "metadata": {},
   "source": [
    "**Question 3:** Following the same approach as in question 2, find the new optimal career choice for each $i$, $k$. Then for each $i$, calculate the average subjective expected utility from their new optimal career choice, and the ex post realized utility of that career. Also, for each $i$, calculate the share of graduates that chooses to switch careers, conditional on which career they chose in the first year. <br>"
   ]
  },
  {
   "cell_type": "code",
   "execution_count": null,
   "metadata": {},
   "outputs": [],
   "source": [
    "# running the career_alt function from the class, we save the output in four dictionaries.\n",
    "# switchdict contains a binary value, representing whether the graduate switches career or not.\n",
    "# a value of 1 suggests that the graduate switches career, while a value of 0 suggests that the graduate does not switch career.\n",
    "\n",
    "# carerdict_alt contains the mew career choice made by the graduate.\n",
    "\n",
    "# EVdict_alt contains the expected value of the new career choice made by the graduate.\n",
    "# for a graduate that does not switch career, the expected value is simply the realized value\n",
    "# of the career they chose originally. For a graduate that switches career, the new expected\n",
    "# value is calculated as in the previous questions, but for the new career choice.\n",
    "\n",
    "# RVdict_alt contains the realized value of the new career choice made by the graduate.\n",
    "# for a graduate that does not switch career, the realized value is simply the realized value\n",
    "# of the career they chose originally. For a graduate that switches career, the new realized\n",
    "# value is calculated as in the previous questions, but for the new career choice.\n",
    "switchdict, careerdict_alt, EVdict_alt, RVdict_alt = model.career_alt(careerdict, RVdict)"
   ]
  },
  {
   "cell_type": "code",
   "execution_count": null,
   "metadata": {},
   "outputs": [],
   "source": [
    "v1_original, v2_original, v3_original = model.sort_career(switchdict, careerdict_alt)\n",
    "\n",
    "S1_v1_original = count2(v1_original[1])\n",
    "S2_v1_original = count2(v1_original[2])\n",
    "S3_v1_original = count2(v1_original[3])\n",
    "S4_v1_original = count2(v1_original[4])\n",
    "S5_v1_original = count2(v1_original[5])\n",
    "S6_v1_original = count2(v1_original[6])\n",
    "S7_v1_original = count2(v1_original[7])\n",
    "S8_v1_original = count2(v1_original[8])\n",
    "S9_v1_original = count2(v1_original[9])\n",
    "S10_v1_original = count2(v1_original[10])\n",
    "\n",
    "S_v1_orgiginal = [S1_v1_original, S2_v1_original, S3_v1_original, S4_v1_original, S5_v1_original, S6_v1_original, S7_v1_original, S8_v1_original, S9_v1_original, S10_v1_original]\n",
    "\n",
    "S1_v2_original = count2(v2_original[1])\n",
    "S2_v2_original = count2(v2_original[2])\n",
    "S3_v2_original = count2(v2_original[3])\n",
    "S4_v2_original = count2(v2_original[4])\n",
    "S5_v2_original = count2(v2_original[5])\n",
    "S6_v2_original = count2(v2_original[6])\n",
    "S7_v2_original = count2(v2_original[7])\n",
    "S8_v2_original = count2(v2_original[8])\n",
    "S9_v2_original = count2(v2_original[9])\n",
    "S10_v2_original = count2(v2_original[10])\n",
    "\n",
    "S_v2_original = [S1_v2_original, S2_v2_original, S3_v2_original, S4_v2_original, S5_v2_original, S6_v2_original, S7_v2_original, S8_v2_original, S9_v2_original, S10_v2_original]\n",
    "\n",
    "S1_v3_original = count2(v3_original[1])\n",
    "S2_v3_original = count2(v3_original[2])\n",
    "S3_v3_original = count2(v3_original[3])\n",
    "S4_v3_original = count2(v3_original[4])\n",
    "S5_v3_original = count2(v3_original[5])\n",
    "S6_v3_original = count2(v3_original[6])\n",
    "S7_v3_original = count2(v3_original[7])\n",
    "S8_v3_original = count2(v3_original[8])\n",
    "S9_v3_original = count2(v3_original[9])\n",
    "S10_v3_original = count2(v3_original[10])\n",
    "\n",
    "S_v3_original = [S1_v3_original, S2_v3_original, S3_v3_original, S4_v3_original, S5_v3_original, S6_v3_original, S7_v3_original, S8_v3_original, S9_v3_original, S10_v3_original]\n",
    "\n",
    "plot_switch(S_v1_orgiginal, S_v2_original, S_v3_original)"
   ]
  },
  {
   "cell_type": "code",
   "execution_count": null,
   "metadata": {},
   "outputs": [],
   "source": [
    "EV1_alt = sum(EVdict_alt[1])/par.K\n",
    "EV2_alt = sum(EVdict_alt[2])/par.K\n",
    "EV3_alt = sum(EVdict_alt[3])/par.K\n",
    "EV4_alt = sum(EVdict_alt[4])/par.K\n",
    "EV5_alt = sum(EVdict_alt[5])/par.K\n",
    "EV6_alt = sum(EVdict_alt[6])/par.K\n",
    "EV7_alt = sum(EVdict_alt[7])/par.K\n",
    "EV8_alt = sum(EVdict_alt[8])/par.K\n",
    "EV9_alt = sum(EVdict_alt[9])/par.K\n",
    "EV10_alt = sum(EVdict_alt[10])/par.K\n",
    "\n",
    "EU_alt = [EV1_alt, EV2_alt, EV3_alt, EV4_alt, EV5_alt, EV6_alt, EV7_alt, EV8_alt, EV9_alt, EV10_alt]\n",
    "plot_exp_utility(EU_alt, 'Figure 2.5 Average Expected Utility ex-ante with Option to Change Career Choice\\n')"
   ]
  },
  {
   "cell_type": "code",
   "execution_count": null,
   "metadata": {},
   "outputs": [],
   "source": [
    "RV1_alt = sum(RVdict_alt[1])/par.K\n",
    "RV2_alt = sum(RVdict_alt[2])/par.K\n",
    "RV3_alt = sum(RVdict_alt[3])/par.K\n",
    "RV4_alt = sum(RVdict_alt[4])/par.K\n",
    "RV5_alt = sum(RVdict_alt[5])/par.K\n",
    "RV6_alt = sum(RVdict_alt[6])/par.K\n",
    "RV7_alt = sum(RVdict_alt[7])/par.K\n",
    "RV8_alt = sum(RVdict_alt[8])/par.K\n",
    "RV9_alt = sum(RVdict_alt[9])/par.K\n",
    "RV10_alt = sum(RVdict_alt[10])/par.K\n",
    "\n",
    "RV_alt = [RV1_alt, RV2_alt, RV3_alt, RV4_alt, RV5_alt, RV6_alt, RV7_alt, RV8_alt, RV9_alt, RV10_alt]\n",
    "plot_realized_utility(RV_alt, 'Figure 2.6 Average Realized Utility ex-post with Option to Change Career Choice\\n')"
   ]
  },
  {
   "cell_type": "markdown",
   "metadata": {},
   "source": [
    "## 3. <a id='toc3_'></a>[Problem 3: Barycentric interpolation](#toc0_)"
   ]
  },
  {
   "cell_type": "markdown",
   "metadata": {},
   "source": [
    "**Problem:** We have a set of random points in the unit square,\n",
    "\n",
    "$$\n",
    "\\mathcal{X} = \\{(x_1,x_2)\\,|\\,x_1\\sim\\mathcal{U}(0,1),x_2\\sim\\mathcal{U}(0,1)\\}.\n",
    "$$\n",
    "\n",
    "For these points, we know the value of some function $f(x_1,x_2)$,\n",
    "\n",
    "$$\n",
    "\\mathcal{F} = \\{f(x_1,x_2) \\,|\\, (x_1,x_2) \\in \\mathcal{X}\\}.\n",
    "$$\n",
    "\n",
    "Now we want to approximate the value $f(y_1,y_2)$ for some  $y=(y_1,y_2)$, where $y_1\\sim\\mathcal{U}(0,1)$ and $y_2\\sim\\mathcal{U}(0,1)$.\n",
    "\n",
    "**Building block I**\n",
    "\n",
    "For an arbitrary triangle $ABC$ and a point $y$, define the so-called barycentric coordinates as:\n",
    "\n",
    "$$\n",
    "\\begin{align*}\n",
    "  r^{ABC}_1 &= \\frac{(B_2-C_2)(y_1-C_1) + (C_1-B_1)(y_2-C_2)}{(B_2-C_2)(A_1-C_1) + (C_1-B_1)(A_2-C_2)} \\\\\n",
    "  r^{ABC}_2 &= \\frac{(C_2-A_2)(y_1-C_1) + (A_1-C_1)(y_2-C_2)}{(B_2-C_2)(A_1-C_1) + (C_1-B_1)(A_2-C_2)} \\\\\n",
    "  r^{ABC}_3 &= 1 - r_1 - r_2.\n",
    "\\end{align*}\n",
    "$$\n",
    "\n",
    "If $r^{ABC}_1 \\in [0,1]$, $r^{ABC}_2 \\in [0,1]$, and $r^{ABC}_3 \\in [0,1]$, then the point is inside the triangle.\n",
    "\n",
    "We always have $y = r^{ABC}_1 A + r^{ABC}_2 B + r^{ABC}_3 C$.\n",
    "\n",
    "**Building block II**\n",
    "\n",
    "Define the following points:\n",
    "\n",
    "$$\n",
    "\\begin{align*}\n",
    "A&=\\arg\\min_{(x_{1},x_{2})\\in\\mathcal{X}}\\sqrt{\\left(x_{1}-y_{1}\\right)^{2}+\\left(x_{2}-y_{2}\\right)^{2}}\\text{ s.t. }x_{1}>y_{1}\\text{ and }x_{2}>y_{2}\\\\\n",
    "B&=\\arg\\min_{(x_{1},x_{2})\\in\\mathcal{X}}\\sqrt{\\left(x_{1}-y_{1}\\right)^{2}+\\left(x_{2}-y_{2}\\right)^{2}}\\text{ s.t. }x_{1}>y_{1}\\text{ and }x_{2}<y_{2}\\\\\n",
    "C&=\\arg\\min_{(x_{1},x_{2})\\in\\mathcal{X}}\\sqrt{\\left(x_{1}-y_{1}\\right)^{2}+\\left(x_{2}-y_{2}\\right)^{2}}\\text{ s.t. }x_{1}<y_{1}\\text{ and }x_{2}<y_{2}\\\\\n",
    "D&=\\arg\\min_{(x_{1},x_{2})\\in\\mathcal{X}}\\sqrt{\\left(x_{1}-y_{1}\\right)^{2}+\\left(x_{2}-y_{2}\\right)^{2}}\\text{ s.t. }x_{1}<y_{1}\\text{ and }x_{2}>y_{2}.\n",
    "\\end{align*}\n",
    "$$\n",
    "\n",
    "**Algorithm:**\n",
    "\n",
    "1. Compute $A$, $B$, $C$, and $D$. If not possible return `NaN`.\n",
    "1. If $y$ is inside the triangle $ABC$ return $r^{ABC}_1 f(A) + r^{ABC}_2 f(B) + r^{ABC}_3 f(C)$.\n",
    "1. If $y$ is inside the triangle $CDA$ return $r^{CDA}_1 f(C) + r^{CDA}_2 f(D) + r^{CDA}_3 f(A)$.\n",
    "1. Return `NaN`.\n",
    "\n"
   ]
  },
  {
   "cell_type": "markdown",
   "metadata": {},
   "source": [
    "**Sample:**"
   ]
  },
  {
   "cell_type": "code",
   "execution_count": 4,
   "metadata": {},
   "outputs": [],
   "source": [
    "rng = np.random.default_rng(2024)\n",
    "\n",
    "X = rng.uniform(size=(50,2))\n",
    "y = rng.uniform(size=(2,))\n"
   ]
  },
  {
   "cell_type": "markdown",
   "metadata": {},
   "source": [
    "**Questions 1:** Find $A$, $B$, $C$ and $D$. Illustrate these together with $X$, $y$ and the triangles $ABC$ and $CDA$."
   ]
  },
  {
   "cell_type": "code",
   "execution_count": 5,
   "metadata": {},
   "outputs": [
    {
     "data": {
      "image/png": "[encoded data removed]",
      "text/plain": [
       "<Figure size 800x800 with 1 Axes>"
      ]
     },
     "metadata": {},
     "output_type": "display_data"
    }
   ],
   "source": [
    "import matplotlib.pyplot as plt\n",
    "\n",
    "#Finding the points for A, B, C and D\n",
    "A = min((d for d in X if d[0] > y[0] and d[1] > y[1]), key=lambda d: np.sqrt((d[0] - y[0])**2 + (d[1] - y[1])**2))\n",
    "B = min((d for d in X if d[0] > y[0] and d[1] < y[1]), key=lambda d: np.sqrt((d[0] - y[0])**2 + (d[1] - y[1])**2))\n",
    "C = min((d for d in X if d[0] < y[0] and d[1] < y[1]), key=lambda d: np.sqrt((d[0] - y[0])**2 + (d[1] - y[1])**2))\n",
    "D = min((d for d in X if d[0] < y[0] and d[1] > y[1]), key=lambda d: np.sqrt((d[0] - y[0])**2 + (d[1] - y[1])**2))\n",
    "\n",
    "#Plotting our dots and triangles\n",
    "plt.figure(figsize=(8, 8))\n",
    "#plotting points for X\n",
    "plt.scatter(X[:, 0], X[:, 1], c='grey', label='Datapoints for X, random')\n",
    "#Plotting y point\n",
    "plt.scatter(y[0], y[1], c='blue', label='y', marker='o')\n",
    "\n",
    "#Plotting points for A, B, C and D\n",
    "points = [A, B, C, D]\n",
    "labels = ['A', 'B', 'C', 'D']\n",
    "#Looping the plot points\n",
    "for point, label in zip(points, labels):\n",
    "    plt.scatter(point[0], point[1], label=label)\n",
    "\n",
    "#Making the triangles\n",
    "plt.plot([A[0], B[0], C[0], A[0]], [A[1], B[1], C[1], A[1]], c='indigo', ls='-', label='ABC')\n",
    "plt.plot([C[0], D[0], A[0], C[0]], [C[1], D[1], A[1], C[1]], c='plum', ls='-', label='CDA')\n",
    "\n",
    "plt.xlabel('x1')\n",
    "plt.ylabel('x2')\n",
    "plt.title('Figure 3,1: Barycentric Interpolation')\n",
    "plt.legend()\n",
    "plt.show()"
   ]
  },
  {
   "cell_type": "markdown",
   "metadata": {},
   "source": [
    "**Question 2:** Compute the barycentric coordinates of the point $y$ with respect to the triangles $ABC$ and $CDA$. Which triangle is $y$ located inside?"
   ]
  },
  {
   "cell_type": "code",
   "execution_count": null,
   "metadata": {},
   "outputs": [],
   "source": [
    "#Defining a function for the barycentric coordinates:\n",
    "def barycentric_c(A, B, C, y):\n",
    "    #First, we define the denominator to make the calculations more simple for r_1 and r_2\n",
    "    denominator = (B[1] - C[1]) * (A[0] - C[0]) + (C[0] - B[0]) * (A[1] - C[1])\n",
    "    r_1 = ((B[1] - C[1]) * (y[0] - C[0]) + (C[0] - B[0]) * (y[1] - C[1])) / denominator\n",
    "    r_2 = ((C[1] - A[1]) * (y[0] - C[0]) + (A[0] - C[0]) * (y[1] - C[1])) / denominator\n",
    "    r_3 = 1 - r_1 - r_2\n",
    "    return r_1, r_2, r_3\n",
    "\n",
    "#Next step is to find out if the Bary coordinates are within the triangles\n",
    "def bary_in_tri(r_1, r_2, r_3):\n",
    "    return (0<= r_1 <= 1) and (0<= r_2 <= 1) and (0<= r_3 <= 1)\n",
    "\n",
    "#Including the two triangles in the coordinates\n",
    "r_1_ABC, r_2_ABC, r_3_ABC = barycentric_c(A, B, C, y)\n",
    "r_1_CDA, r_2_CDA, r_3_CDA = barycentric_c(C, D, A, y)\n",
    "\n",
    "def f(x1, x2):\n",
    "    return x1 + x2\n",
    "\n",
    "#Finally confirming if y is in the triangles\n",
    "if bary_in_tri(r_1_CDA, r_2_CDA, r_3_CDA):\n",
    "    f_y = r_1_CDA * f(C[0], C[1]) + r_2_CDA * f(D[0], D[1]) + r_3_CDA * f(A[0], A[1])\n",
    "    print(f\"Y is inside CDA. f(y) = {f_y}\")\n",
    "elif bary_in_tri(r_1_ABC, r_2_ABC, r_3_ABC):\n",
    "    f_y = r_1_ABC * f(A[0], A[1]) + r_2_ABC * f(B[0], B[1]) + r_3_ABC * f(C[0], C[1])\n",
    "    print(f\"y is inside ABC. f(y) = {f_y}\")\n",
    "else:\n",
    "    print(\"y isn't in the triangles. Undefined f(y)\")"
   ]
  },
  {
   "cell_type": "markdown",
   "metadata": {},
   "source": [
    "y is in ABC, as we already suspected in Question 1, but we have now shown it numerically."
   ]
  },
  {
   "cell_type": "markdown",
   "metadata": {},
   "source": [
    "Now consider the function:\n",
    "$$\n",
    "f(x_1,x_2) = x_1 \\cdot x_2\n",
    "$$"
   ]
  },
  {
   "cell_type": "code",
   "execution_count": null,
   "metadata": {},
   "outputs": [],
   "source": [
    "f = lambda x: x[0]*x[1]\n",
    "F = np.array([f(x) for x in X])"
   ]
  },
  {
   "cell_type": "markdown",
   "metadata": {},
   "source": [
    "**Question 3:** Compute the approximation of $f(y)$ using the full algorithm. Compare with the true value."
   ]
  },
  {
   "cell_type": "code",
   "execution_count": null,
   "metadata": {},
   "outputs": [],
   "source": [
    "#First, we interpolate the value of f(y) with bary coordinates\n",
    "if bary_in_tri(r_1_CDA, r_2_CDA, r_3_CDA):\n",
    "    f_yapprox = r_1_CDA * f(C) + r_2_CDA * f(D) + r_3_CDA * f(A)\n",
    "    print(f\"Triangle CDA: Approximated f(y) = {f_yapprox}\")\n",
    "elif bary_in_tri(r_1_ABC, r_2_ABC, r_3_ABC):\n",
    "    f_yapprox = r_1_ABC * f(A) + r_2_ABC * f(B) + r_3_ABC * f(C)\n",
    "    print(f\"Triangle ABC: Approximated f(y) = {f_yapprox}\")\n",
    "else: \n",
    "    f_yapprox = None\n",
    "    print(\"Not in triangles: f(y) = NaN\")\n",
    "\n",
    "f_ytrue = f(y)\n",
    "print(f\"f(y) true value = {f_ytrue}\")\n",
    "\n",
    "Difference = f_yapprox - f_ytrue\n",
    "print(f'The difference between the approximated and the true value is {Difference}')"
   ]
  },
  {
   "cell_type": "markdown",
   "metadata": {},
   "source": [
    "The approximated value is interpolated where we used the Barycentric coordinates. It was obtained by weighting the function values at the vertices of triangle ABC.  \n",
    "We found the true value directly from f(x_1, x_2) = x_1*x_2 where we use the coordinates of y.  \n",
    "\n",
    "The small difference between the two values indicates that our approximation was quite accurate with Barycentrinc Interpolation."
   ]
  },
  {
   "cell_type": "markdown",
   "metadata": {},
   "source": [
    "**Question 4:** Repeat question 3 for all points in the set $Y$."
   ]
  },
  {
   "cell_type": "code",
   "execution_count": null,
   "metadata": {},
   "outputs": [],
   "source": [
    "Y = [(0.2,0.2),(0.8,0.2),(0.8,0.8),(0.8,0.2),(0.5,0.5)]"
   ]
  },
  {
   "cell_type": "code",
   "execution_count": null,
   "metadata": {},
   "outputs": [],
   "source": [
    "#The method is quite similar in this Question. Here, we make the for y in Y method to do them as loops.\n",
    "for y in Y:\n",
    "    print(f\"\\ncoordinate y = {y}\")\n",
    "\n",
    "    r_1_ABC, r_2_ABC, r_3_ABC = barycentric_c(A, B, C, y)\n",
    "    r_1_CDA, r_2_CDA, r_3_CDA = barycentric_c(C, D, A, y)\n",
    "\n",
    "    if bary_in_tri(r_1_CDA, r_2_CDA, r_3_CDA):\n",
    "        f_yapprox = r_1_CDA * f(C) + r_2_CDA * f(D) + r_3_CDA * f(A)\n",
    "        print(f\"Triangle CDA: Approximated f(y) = {f_yapprox}\")\n",
    "    elif bary_in_tri(r_1_ABC, r_2_ABC, r_3_ABC):\n",
    "        f_yapprox = r_1_ABC * f(A) + r_2_ABC * f(B) + r_3_ABC * f(C)\n",
    "        print(f\"Triangle ABC: Approximated f(y) = {f_yapprox}\")\n",
    "    else: \n",
    "        f_yapprox = None\n",
    "        print(\"Not in triangles: f(y) = NaN\")\n",
    "    \n",
    "    f_ytrue = f(y)\n",
    "    print(f\"f(y) true value = {f_ytrue}\")\n",
    "    \n",
    "plt.figure(figsize=(8, 8))\n",
    "plt.scatter(X[:, 0], X[:, 1], c='black', label='Datapoints for X, random')\n",
    "\n",
    "#Looping the points\n",
    "points = [A, B, C, D]\n",
    "labels = ['A', 'B', 'C', 'D']\n",
    "for point, label in zip(points, labels):\n",
    "    plt.scatter(point[0], point[1], label=label)\n",
    "\n",
    "plt.plot([A[0], B[0], C[0], A[0]], [A[1], B[1], C[1], A[1]], 'g-', label='ABC')\n",
    "plt.plot([C[0], D[0], A[0], C[0]], [C[1], D[1], A[1], C[1]], 'y-', label='CDA')\n",
    "\n",
    "#Plotting all coordinates in Y\n",
    "for coordinate in Y:\n",
    "    plt.scatter(coordinate[0], coordinate[1], c='orange', marker='o', label='coordinate in Y')\n",
    "\n",
    "plt.xlabel('x1')\n",
    "plt.ylabel('x2')\n",
    "plt.title('Figure 3,2: Barycentric Interpolation expanded')\n",
    "plt.legend()\n",
    "plt.show()\n"
   ]
  },
  {
   "cell_type": "markdown",
   "metadata": {},
   "source": [
    "This shows that for the given values of Y, none of the points lie in the triangles. Therefore, the function f(y) is undefined within the triangles. This can also be seen graphically in the plot above."
   ]
  }
 ],
 "metadata": {
  "kernelspec": {
   "display_name": "base",
   "language": "python",
   "name": "python3"
  },
  "language_info": {
   "codemirror_mode": {
    "name": "ipython",
    "version": 3
   },
   "file_extension": ".py",
   "mimetype": "text/x-python",
   "name": "python",
   "nbconvert_exporter": "python",
   "pygments_lexer": "ipython3",
   "version": "3.11.7"
  }
 },
 "nbformat": 4,
 "nbformat_minor": 2
}
